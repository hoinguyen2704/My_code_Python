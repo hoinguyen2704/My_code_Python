{
 "cells": [
  {
   "metadata": {
    "ExecuteTime": {
     "end_time": "2024-10-05T17:07:59.489720Z",
     "start_time": "2024-10-05T17:07:59.471466Z"
    }
   },
   "cell_type": "code",
   "source": [
    "class Graph:\n",
    "    def __init__(self):\n",
    "        self.node_found =None\n",
    "        self.start = None\n",
    "        self.goal:list = []\n",
    "        self.open: list =[]\n",
    "        self.closed: list =[]\n",
    "        self.path: list =[]\n",
    "        self.parent: dict[str,list]={}\n",
    "        self.graph: dict[str, list]={}\n",
    "def add_node(self, u, v):\n",
    "    if self.graph.get(u) is None:\n",
    "        self.graph[u]= []\n",
    "    self.graph[u].append(v)\n",
    "def bfs(self, node_start):\n",
    "    self.open.append(node_start)\n",
    "    self.closed.append(node_start)\n",
    "    while len(self.open):\n",
    "        node = self.open.pop(0)\n",
    "        self.closed.append(node)\n",
    "        if node in self.goal:\n",
    "            return node\n",
    "        if self.graph.get(node) is not None:\n",
    "            for neighbour in self.graph.get(node):\n",
    "                if neighbour not in self.open and neighbour not in self.closed:\n",
    "                    self.open.append(neighbour)\n",
    "                    self.parent[neighbour]= node\n",
    "    return -1\n",
    "def get_path(self, node_child):\n",
    "    self.path.append(node_child)\n",
    "    while  self.parent.get(node_child) is not None:\n",
    "        self.path.append(self.parent.get(node_child))\n",
    "        node_child = self.parent.get(node_child)\n",
    "    self.path.reverse()\n",
    "    return \"->\".join(list(map(str,self.path)))\n",
    "Graph.add_node = add_node\n",
    "Graph.bfs= bfs\n",
    "Graph.get_path= get_path\n",
    "g= Graph()\n",
    "\n",
    "g.add_node('A','D')\n",
    "g.add_node('A','C')\n",
    "g.add_node('A','B')\n",
    "g.add_node('D','P')\n",
    "g.add_node('D','O')\n",
    "g.add_node('C','L')\n",
    "g.add_node('B','N')\n",
    "g.add_node('B','M')\n",
    "g.add_node('V','G')\n",
    "g.add_node('O','I')\n",
    "g.add_node('N','V')\n",
    "g.add_node('N','U')\n",
    "g.add_node('M','Y')\n",
    "g.add_node('M','X')\n",
    "g.add_node('V','H')\n",
    "g.add_node('O','J')\n",
    "g.add_node('Y','S')\n",
    "g.add_node('Y','R')\n",
    "\n",
    "g.start='A'\n",
    "g.goal=['S', 'D']\n",
    "\n",
    "g.node_found = g.bfs(g.start)\n",
    "if g.node_found is None:\n",
    "    print(\"No valid path found\")\n",
    "print(f\"The path from {g.start} to {g.node_found} in goal = {g.goal} according to bfs is: {g.get_path(g.node_found)}\")"
   ],
   "id": "72394f32f6bc8fe9",
   "outputs": [
    {
     "name": "stdout",
     "output_type": "stream",
     "text": [
      "The path from A to D in goal = ['S', 'D'] according to bfs is: A->D\n"
     ]
    }
   ],
   "execution_count": 2
  }
 ],
 "metadata": {
  "kernelspec": {
   "display_name": "Python 3",
   "language": "python",
   "name": "python3"
  },
  "language_info": {
   "codemirror_mode": {
    "name": "ipython",
    "version": 2
   },
   "file_extension": ".py",
   "mimetype": "text/x-python",
   "name": "python",
   "nbconvert_exporter": "python",
   "pygments_lexer": "ipython2",
   "version": "2.7.6"
  }
 },
 "nbformat": 4,
 "nbformat_minor": 5
}
