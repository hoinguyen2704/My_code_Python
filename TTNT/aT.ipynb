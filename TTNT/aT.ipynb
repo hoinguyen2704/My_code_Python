{
 "cells": [
  {
   "cell_type": "code",
   "execution_count": 1,
   "metadata": {},
   "outputs": [],
   "source": [
    "graph = {\n",
    "    'A':{'B':20, 'C':15, 'E':80 },\n",
    "    'B':{'A':40, 'E':10},\n",
    "    'C':{'A':20, 'B':4, 'F':10 },\n",
    "    'D':{'A':36, 'B':18, 'C':15 },\n",
    "    'E':{'C':90, 'D':15 },\n",
    "    'F':{'C':45, 'D':4, 'E':10}\n",
    "}"
   ]
  },
  {
   "cell_type": "code",
   "execution_count": 10,
   "metadata": {},
   "outputs": [],
   "source": [
    "class Graph():\n",
    "    def __init__(self):\n",
    "        self.graph: dict[str, dict] ={}\n",
    "        self.goal: list =[]\n",
    "        self.path: list = []\n",
    "        self.farther: dict[str, str] = {}\n",
    "        self.g: dict[str, int] ={}\n",
    "        self.open: list =[]\n",
    "        self.closed: list =[]\n",
    "    def get_path(self, node):\n",
    "        self.path.append(node)\n",
    "        while self.farther.get(node):\n",
    "            node = self.farther.get(node)\n",
    "            self.path.append(node)\n",
    "        self.path.reverse()\n",
    "        return ' -> '.join(list(map(str, self.path)))\n",
    "    def create_graph(self, graph):\n",
    "        self.graph = graph.copy()\n",
    "    def AT(self, node_start):\n",
    "        self.g[node_start] =0\n",
    "        self.open.append(node_start)\n",
    "        while self.open:\n",
    "            min_node = None\n",
    "            min_cost = float('inf')\n",
    "            for node in self.open:\n",
    "                cost = self.g.get(node) if node in self.g else float('inf')\n",
    "                if cost < min_cost:\n",
    "                    min_cost = cost\n",
    "                    min_node = node\n",
    "            if min_node in self.goal:\n",
    "                print(f\"AT found path from {node_start} to {min_node} in goal = {self.goal}\\n\")\n",
    "                print(self.get_path(min_node))\n",
    "                print(f\"C(p)= {self.g.get(min_node)}\")\n",
    "                return True\n",
    "            self.open.remove(min_node)\n",
    "            self.closed.append(min_node)\n",
    "                    \n",
    "            for neighbor, cost in self.graph.get(min_node).items():\n",
    "                new_cost = cost + self.g.get(min_node, float('inf'))\n",
    "                if neighbor in self.farther and new_cost < self.g.get(neighbor):\n",
    "                    self.g[neighbor] = new_cost\n",
    "                    self.farther[neighbor] = min_node\n",
    "                elif neighbor not in self.closed + self.open:\n",
    "                    self.g[neighbor] = new_cost\n",
    "                    self.farther[neighbor] = min_node\n",
    "                    self.open.append(neighbor)\n",
    "        print( 'No path found')\n",
    "        return False"
   ]
  },
  {
   "cell_type": "code",
   "execution_count": 11,
   "metadata": {},
   "outputs": [
    {
     "name": "stdout",
     "output_type": "stream",
     "text": [
      "AT found path from A to F in goal = ['F']\n",
      "\n",
      "A -> C -> F\n",
      "C(p)= 25\n"
     ]
    },
    {
     "data": {
      "text/plain": [
       "True"
      ]
     },
     "execution_count": 11,
     "metadata": {},
     "output_type": "execute_result"
    }
   ],
   "source": [
    "g= Graph()\n",
    "g.create_graph(graph)\n",
    "g.goal = ['F']\n",
    "g.AT('A')"
   ]
  }
 ],
 "metadata": {
  "kernelspec": {
   "display_name": "Python 3",
   "language": "python",
   "name": "python3"
  },
  "language_info": {
   "codemirror_mode": {
    "name": "ipython",
    "version": 3
   },
   "file_extension": ".py",
   "mimetype": "text/x-python",
   "name": "python",
   "nbconvert_exporter": "python",
   "pygments_lexer": "ipython3",
   "version": "3.12.7"
  }
 },
 "nbformat": 4,
 "nbformat_minor": 2
}
