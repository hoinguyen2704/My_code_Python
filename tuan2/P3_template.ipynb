{
  "cells": [
    {
      "cell_type": "markdown",
      "metadata": {
        "id": "SBOdFQEBbZM7"
      },
      "source": [
        "## Problem3"
      ]
    },
    {
      "cell_type": "code",
      "execution_count": null,
      "metadata": {
        "colab": {
          "base_uri": "https://localhost:8080/"
        },
        "id": "uy4WE_3hb58-",
        "outputId": "55ac94a2-34c6-4e6a-eb37-7f051afc7aa1"
      },
      "outputs": [
        {
          "name": "stdout",
          "output_type": "stream",
          "text": [
            "/usr/local/lib/python3.7/dist-packages/gdown/cli.py:131: FutureWarning: Option `--id` was deprecated in version 4.3.1 and will be removed in 5.0. You don't need to pass it anymore to use a file ID.\n",
            "  category=FutureWarning,\n",
            "Downloading...\n",
            "From: https://drive.google.com/uc?id=12LGCzELva7ZuNtAQ3xmdEPHscudsx78U\n",
            "To: /content/8.txt\n",
            "100% 1.59k/1.59k [00:00<00:00, 2.37MB/s]\n"
          ]
        }
      ],
      "source": [
        "!gdown --id 12LGCzELva7ZuNtAQ3xmdEPHscudsx78U"
      ]
    },
    {
      "cell_type": "code",
      "execution_count": null,
      "metadata": {
        "colab": {
          "base_uri": "https://localhost:8080/"
        },
        "id": "FfHQtf4McEFj",
        "outputId": "88d3d826-08e9-4fcb-b232-a46a2539542b"
      },
      "outputs": [
        {
          "name": "stdout",
          "output_type": "stream",
          "text": [
            "/usr/local/lib/python3.7/dist-packages/gdown/cli.py:131: FutureWarning: Option `--id` was deprecated in version 4.3.1 and will be removed in 5.0. You don't need to pass it anymore to use a file ID.\n",
            "  category=FutureWarning,\n",
            "Downloading...\n",
            "From: https://drive.google.com/uc?id=1JevMcivRRhsN9EGz0lGltXG9erhEWyut\n",
            "To: /content/861.txt\n",
            "100% 1.60k/1.60k [00:00<00:00, 2.00MB/s]\n"
          ]
        }
      ],
      "source": [
        "!gdown --id 1JevMcivRRhsN9EGz0lGltXG9erhEWyut"
      ]
    },
    {
      "cell_type": "code",
      "execution_count": null,
      "metadata": {
        "colab": {
          "base_uri": "https://localhost:8080/"
        },
        "id": "rvL6lsoZcG7X",
        "outputId": "0f11722d-9419-49fb-8258-f4bd16694c52"
      },
      "outputs": [
        {
          "name": "stdout",
          "output_type": "stream",
          "text": [
            "['4', '0.1104870557261957', '0.6189416670904745', '0.045474490406478114', '0.1156995372018512']\n"
          ]
        }
      ],
      "source": [
        "# example which shows content of 1 line in txt file (id, x_center, y_center, width, height)\n",
        "example = '4 0.1104870557261957 0.6189416670904745 0.045474490406478114 0.1156995372018512'\n",
        "print(example.split(' '))"
      ]
    },
    {
      "cell_type": "code",
      "execution_count": null,
      "metadata": {
        "colab": {
          "base_uri": "https://localhost:8080/"
        },
        "id": "zoPz4n5WcG_l",
        "outputId": "d43b05fb-581d-446c-c54c-0ef66fbc898b"
      },
      "outputs": [
        {
          "name": "stdout",
          "output_type": "stream",
          "text": [
            "id_class = 4\n",
            "x_center = 0.1104870557261957\n",
            "y_center = 0.6189416670904745\n",
            "width = 0.045474490406478114\n",
            "height = 0.1156995372018512\n"
          ]
        }
      ],
      "source": [
        "# example which shows how to extract id_class, x_center, y_center, width, height in 1 line of txt file\n",
        "id_class, x_center, y_center, width, height = example.split(' ')\n",
        "print(f'id_class = {id_class}')\n",
        "print(f'x_center = {x_center}')\n",
        "print(f'y_center = {y_center}')\n",
        "print(f'width = {width}')\n",
        "print(f'height = {height}')"
      ]
    },
    {
      "cell_type": "code",
      "execution_count": null,
      "metadata": {
        "id": "PV_JR5APcHCX"
      },
      "outputs": [],
      "source": [
        "# configuration\n",
        "file1 = '/content/8.txt'\n",
        "real_coor_file1 = '/content/8real.txt'\n",
        "tl_br_coor_file1 = '/content/8tlbr.txt'\n",
        "test_file1 = '/content/8test.txt'\n",
        "height1 = 1484\n",
        "width1 = 2365\n",
        "\n",
        "file2 = '/content/861.txt'\n",
        "real_coor_file2 = '/content/861real.txt'\n",
        "tl_br_coor_file2 = '/content/861tlbr.txt'\n",
        "test_file2 = '/content/861test.txt'\n",
        "height2 = 541\n",
        "width2 = 782\n"
      ]
    },
    {
      "cell_type": "markdown",
      "metadata": {
        "id": "b2D8dJdDcgjh"
      },
      "source": [
        "## Output"
      ]
    },
    {
      "cell_type": "code",
      "execution_count": null,
      "metadata": {
        "colab": {
          "base_uri": "https://localhost:8080/"
        },
        "id": "EL5eDqFvcRyC",
        "outputId": "dcf26c9d-8379-485b-a199-61bc76c3c8a5"
      },
      "outputs": [
        {
          "name": "stdout",
          "output_type": "stream",
          "text": [
            "4 0.1104870557261957 0.6189416670904745 0.045474490406478114 0.1156995372018512\n",
            "\n",
            "3 0.15636044517132713 0.6189416670904745 0.039889903865331686 0.113156690230382\n",
            "\n",
            "1 0.19944154134588535 0.6233916492905457 0.03510311540149186 0.10679957280170883\n",
            "\n",
            "1 0.239331445211217 0.6202130905762091 0.04308109617455815 0.11061384325891271\n",
            "\n",
            "7 0.3219035462124536 0.6183059553476071 0.0454744904064781 0.09917103188730106\n",
            "\n",
            "8 0.3669791375802784 0.6189416670904745 0.035103115401491886 0.10044245537303566\n",
            "\n",
            "0 0.40846463760022333 0.6214845140619437 0.03669871155610512 0.10552814931597407\n",
            "\n",
            "1 0.4507000678128367 0.620136805167065 0.0430810961745582 0.11061384325891271\n",
            "\n",
            "1 0.5384578563165664 0.6226796521385343 0.0430810961745582 0.11061384325891271\n",
            "\n",
            "3 0.6206310582791494 0.6277653460814728 0.03988990386533164 0.113156690230382\n",
            "\n",
            "7 0.8380549682875263 0.6195392361287698 0.04063983405799984 0.09655189950668776\n",
            "\n",
            "8 0.879117635326499 0.6175939581955958 0.035103115401491934 0.10044245537303566\n",
            "\n",
            "4 0.6653556184929594 0.6227559375476783 0.0430810961745582 0.11061384325891271\n",
            "\n",
            "5 0.7519167098807292 0.6202130905762091 0.04547449040647815 0.10044245537303566\n",
            "\n",
            "6 0.7973912002872072 0.6259344962620149 0.04068770194263825 0.10425672583023955\n",
            "\n",
            "1 0.46670389724360767 0.7804124497787722 0.0191471538553592 0.0648425977724661\n",
            "\n",
            "2 0.4950257289879931 0.7842267202359763 0.03111412501495875 0.0673854447439353\n",
            "\n",
            "2 0.5811879213371096 0.6233916492905457 0.03430531732418531 0.11951380765905516\n",
            "\n",
            "1 0.5544616857473373 0.7823195850073742 0.023933942319199 0.06357117428673136\n",
            "\n",
            "8 0.5799912242211496 0.7835910084931088 0.025529538473812237 0.06102832731526214\n",
            "\n"
          ]
        }
      ],
      "source": [
        "show_content(file1)"
      ]
    },
    {
      "cell_type": "code",
      "execution_count": null,
      "metadata": {
        "id": "0fQTSkdHcT_k"
      },
      "outputs": [],
      "source": [
        "write_real_coor_file(file_path=file1,\n",
        "                     out_file_path=real_coor_file1,\n",
        "                     width_img=width1,\n",
        "                     height_img=height1)"
      ]
    },
    {
      "cell_type": "code",
      "execution_count": null,
      "metadata": {
        "colab": {
          "base_uri": "https://localhost:8080/"
        },
        "id": "gTeF2dEvcWB7",
        "outputId": "7eb03628-105f-44f1-902d-7403df171a99"
      },
      "outputs": [
        {
          "name": "stdout",
          "output_type": "stream",
          "text": [
            "4 261.3018867924528 918.5094339622641 107.54716981132074 171.69811320754718\n",
            "\n",
            "3 369.79245283018867 918.5094339622641 94.33962264150944 167.92452830188688\n",
            "\n",
            "1 471.6792452830189 925.1132075471698 83.01886792452824 158.4905660377359\n",
            "\n",
            "1 566.0188679245282 920.3962264150944 101.88679245283004 164.15094339622647\n",
            "\n",
            "7 761.3018867924527 917.566037735849 107.54716981132071 147.16981132075477\n",
            "\n",
            "8 867.9056603773583 918.5094339622641 83.01886792452831 149.05660377358492\n",
            "\n",
            "0 966.0188679245282 922.2830188679245 86.79245283018861 156.60377358490553\n",
            "\n",
            "1 1065.9056603773588 920.2830188679245 101.88679245283015 164.15094339622647\n",
            "\n",
            "1 1273.4528301886796 924.0566037735848 101.88679245283015 164.15094339622647\n",
            "\n",
            "3 1467.7924528301885 931.6037735849056 94.33962264150932 167.92452830188688\n",
            "\n",
            "7 1981.9999999999998 919.3962264150944 96.11320754716962 143.28301886792462\n",
            "\n",
            "8 2079.11320754717 916.5094339622642 83.01886792452842 149.05660377358492\n",
            "\n",
            "4 1573.566037735849 924.1698113207547 101.88679245283015 164.15094339622647\n",
            "\n",
            "5 1778.2830188679245 920.3962264150944 107.54716981132083 149.05660377358492\n",
            "\n",
            "6 1885.830188679245 928.8867924528302 96.22641509433947 154.7169811320755\n",
            "\n",
            "1 1103.754716981132 1158.132075471698 45.28301886792451 96.2264150943397\n",
            "\n",
            "2 1170.7358490566037 1163.7924528301887 73.58490566037744 99.99999999999999\n",
            "\n",
            "2 1374.5094339622642 925.1132075471698 81.13207547169826 177.35849056603786\n",
            "\n",
            "1 1311.3018867924527 1160.9622641509434 56.60377358490564 94.33962264150934\n",
            "\n",
            "8 1371.6792452830186 1162.8490566037735 60.37735849056594 90.56603773584902\n",
            "\n"
          ]
        }
      ],
      "source": [
        "show_content(real_coor_file1)"
      ]
    },
    {
      "cell_type": "code",
      "execution_count": null,
      "metadata": {
        "id": "5LzRSQoycXfC"
      },
      "outputs": [],
      "source": [
        "write_tlbr_coor_file(file_path=real_coor_file1,\n",
        "                     out_file_path=tl_br_coor_file1,\n",
        "                     width_img=width1,\n",
        "                     height_img=height1)"
      ]
    },
    {
      "cell_type": "code",
      "execution_count": null,
      "metadata": {
        "colab": {
          "base_uri": "https://localhost:8080/"
        },
        "id": "xdiqjjT0cZMh",
        "outputId": "b9a0fed1-0692-4208-a5ff-6a60afcfff2a"
      },
      "outputs": [
        {
          "name": "stdout",
          "output_type": "stream",
          "text": [
            "4 0.08774981052295665 0.5610918984895488 0.13322430092943474 0.6767914356914001\n",
            "\n",
            "3 0.13641549323866128 0.5623633219752834 0.17630539710399298 0.6755200122056655\n",
            "\n",
            "1 0.18188998364513945 0.5699918628896914 0.21699309904663128 0.6767914356914001\n",
            "\n",
            "1 0.21779089712393795 0.5649061689467528 0.26087199329849603 0.6755200122056655\n",
            "\n",
            "7 0.29916630100921454 0.5687204394039566 0.3446407914156926 0.6678914712912577\n",
            "\n",
            "8 0.3494275798795324 0.5687204394039566 0.38453069528102435 0.6691628947769923\n",
            "\n",
            "0 0.39011528182217076 0.5687204394039568 0.4268139933782759 0.6742485887199308\n",
            "\n",
            "1 0.4291595197255576 0.5648298835376087 0.47224061590011585 0.6754437267965214\n",
            "\n",
            "1 0.5169173082292874 0.5673727305090779 0.5599984044038455 0.6779865737679905\n",
            "\n",
            "3 0.6006861063464837 0.5711870009662818 0.6405760102118153 0.6843436911966637\n",
            "\n",
            "7 0.8177350512585264 0.5712632863754259 0.8583748853165263 0.6678151858821136\n",
            "\n",
            "8 0.861566077625753 0.567372730509078 0.8966691930272449 0.6678151858821136\n",
            "\n",
            "4 0.6438150704056803 0.5674490159182219 0.6868961665802386 0.6780628591771347\n",
            "\n",
            "5 0.7291794646774902 0.5699918628896914 0.7746539550839682 0.6704343182627269\n",
            "\n",
            "6 0.7770473493158881 0.5738061333468951 0.8177350512585263 0.6780628591771347\n",
            "\n",
            "1 0.45713032031592804 0.7479911508925392 0.47627747417128724 0.8128337486650054\n",
            "\n",
            "2 0.4794686664805137 0.7505339978640085 0.5105827914954725 0.8179194426079439\n",
            "\n",
            "2 0.564035262675017 0.5636347454610182 0.5983405799992022 0.6831485531200733\n",
            "\n",
            "1 0.5424947145877378 0.7505339978640085 0.5664286569069368 0.81410517215074\n",
            "\n",
            "8 0.5672264549842435 0.7530768448354778 0.5927559934580556 0.81410517215074\n",
            "\n"
          ]
        }
      ],
      "source": [
        "show_content(tl_br_coor_file1)"
      ]
    },
    {
      "cell_type": "code",
      "execution_count": null,
      "metadata": {
        "id": "C8tGsj1XcalC"
      },
      "outputs": [],
      "source": []
    }
  ],
  "metadata": {
    "colab": {
      "provenance": []
    },
    "kernelspec": {
      "display_name": "Python 3",
      "name": "python3"
    },
    "language_info": {
      "name": "python",
      "version": "3.12.6"
    }
  },
  "nbformat": 4,
  "nbformat_minor": 0
}
