{
 "cells": [
  {
   "cell_type": "markdown",
   "metadata": {},
   "source": [
    "print(*objects, sep=' ', end='\\n', file= sys.stdout, flush=False)\n",
    "dấu *: thể hiện in được nhiều object\n",
    "sep: ngăn cách giữa các object\n",
    "end: ký tự kết thúc dòng\n",
    "file: các object với write method\n",
    "flush: "
   ]
  },
  {
   "cell_type": "code",
   "execution_count": null,
   "metadata": {},
   "outputs": [],
   "source": [
    "x=4\n",
    "y=7\n",
    "print(x, y)\n",
    "print(\"hello\")"
   ]
  },
  {
   "cell_type": "code",
   "execution_count": null,
   "metadata": {},
   "outputs": [],
   "source": [
    "print(\"xin chào\", \"nhìn\", flush=False)"
   ]
  },
  {
   "cell_type": "code",
   "execution_count": null,
   "metadata": {},
   "outputs": [],
   "source": [
    "def plushx(a,b):\n",
    "    return a+b\n",
    "def subx(a,b):\n",
    "    return a-b"
   ]
  },
  {
   "cell_type": "code",
   "execution_count": null,
   "metadata": {},
   "outputs": [],
   "source": [
    "num1=5\n",
    "num2=17\n",
    "print(f\"tổng: {plushx(num1,num2)} hiệu: {subx(num1,num2)}\")"
   ]
  },
  {
   "cell_type": "code",
   "execution_count": null,
   "metadata": {},
   "outputs": [],
   "source": [
    "srcfile = open('temp.txt','w')\n"
   ]
  },
  {
   "cell_type": "code",
   "execution_count": null,
   "metadata": {},
   "outputs": [],
   "source": [
    "print(plushx(1, 5),file=srcfile)\n",
    "print(subx(b=10, a=5), file=srcfile)\n",
    "srcfile.close()"
   ]
  },
  {
   "cell_type": "code",
   "execution_count": null,
   "metadata": {},
   "outputs": [],
   "source": [
    "print(plushx(1, 5))\n",
    "print(subx(b=10, a=5))"
   ]
  },
  {
   "cell_type": "code",
   "execution_count": null,
   "metadata": {},
   "outputs": [],
   "source": [
    "x=int(input()) \n",
    "y= x+5\n",
    "print(x+5)"
   ]
  },
  {
   "cell_type": "code",
   "execution_count": null,
   "metadata": {},
   "outputs": [],
   "source": [
    "numbers =[]\n",
    "print(\"stop to end\")\n",
    "while True:\n",
    "    check=input(\"nhập một số: \")\n",
    "    if check=='stop':\n",
    "        break\n",
    "    numbers.append(check)"
   ]
  },
  {
   "cell_type": "code",
   "execution_count": null,
   "metadata": {},
   "outputs": [],
   "source": [
    "my_list=[int(i) for i in numbers]\n",
    "print(my_list)"
   ]
  },
  {
   "cell_type": "code",
   "execution_count": null,
   "metadata": {},
   "outputs": [],
   "source": [
    "var_name = 'my string'\n",
    "f\"this is my str{var_name} is {var_name}\""
   ]
  },
  {
   "cell_type": "code",
   "execution_count": null,
   "metadata": {},
   "outputs": [],
   "source": [
    "a=int(input(\"cạnh: \"))\n",
    "def the_tich_lap_phuong(a):\n",
    "    return a**3\n",
    "print(f\"thể tích hình lập phuong có cạnh bằng: {a} = {the_tich_lap_phuong(a)}\")"
   ]
  },
  {
   "cell_type": "code",
   "execution_count": null,
   "metadata": {},
   "outputs": [],
   "source": [
    "import math"
   ]
  },
  {
   "cell_type": "code",
   "execution_count": null,
   "metadata": {},
   "outputs": [],
   "source": [
    "r= float(input(\"bán kính: \"))\n",
    "h= int(input(\"chiều cao: \"))\n",
    "def the_tich_khoi_tru(r, h):\n",
    "    return math.pi*r**2*h\n",
    "print(f\"thể tích khối trụ tròn bán kính: {r} và chiều cao: {h} là = {the_tich_khoi_tru(r=r, h=h)}\")"
   ]
  },
  {
   "cell_type": "code",
   "execution_count": null,
   "metadata": {},
   "outputs": [],
   "source": [
    "dai=2\n",
    "rong=1\n",
    "cao=3\n",
    "def the_tich_hop_chu_nhat(length, width, hight):\n",
    "    return length*width*hight\n",
    "print(f\"thể tích hình hộp chữ nhật dài:{dai}, rộng:{rong}, cao:{cao}\\nlà= {the_tich_hop_chu_nhat(dai, rong, cao)}\")"
   ]
  },
  {
   "cell_type": "code",
   "execution_count": null,
   "metadata": {},
   "outputs": [],
   "source": [
    "r=3\n",
    "def volume_globulor(r):\n",
    "    return (4/3)*math.pi*r**3\n",
    "volume_globulor(r)"
   ]
  },
  {
   "cell_type": "code",
   "execution_count": null,
   "metadata": {},
   "outputs": [],
   "source": [
    "n=int(input())\n",
    "def reLu(n):\n",
    "    if n>=0:\n",
    "        return n\n",
    "    else:\n",
    "        return 0\n",
    "print(f\"giá trị của reLU: {reLu(n)}\")"
   ]
  },
  {
   "cell_type": "code",
   "execution_count": null,
   "metadata": {},
   "outputs": [],
   "source": [
    "x=11\n",
    "y=11\n",
    "def LTP(x, y):\n",
    "    if x>y:\n",
    "        return 1\n",
    "    elif x==y:\n",
    "        return 0\n",
    "    else:\n",
    "        return -1\n",
    "LTP(x, y)"
   ]
  },
  {
   "cell_type": "code",
   "execution_count": null,
   "metadata": {},
   "outputs": [],
   "source": [
    "x=6\n",
    "def check(x):\n",
    "    if x>10 or x<=5:\n",
    "        return True\n",
    "    else:\n",
    "        return False\n",
    "check(x)"
   ]
  },
  {
   "cell_type": "code",
   "execution_count": null,
   "metadata": {},
   "outputs": [],
   "source": [
    "import random\n",
    "x=10+ int(random.randrange(10))\n",
    "print(x)\n",
    "if type(x)==int:\n",
    "    print(\"true\")"
   ]
  },
  {
   "cell_type": "code",
   "execution_count": null,
   "metadata": {},
   "outputs": [],
   "source": [
    "\n",
    "def F1(tp, fp, fn):\n",
    "    if type(tp)!=int:\n",
    "        print(f\"tp must be int\")\n",
    "        if type(fp)!=int:\n",
    "            print(\"fp must be int\")\n",
    "            if type(fn)!=int:\n",
    "                print(f\"fn must be int\")\n",
    "                if not(tp>0 and fp>0 and fn>0):\n",
    "                    print(\"all must be greater than zero\")\n",
    "                    return\n",
    "    else:\n",
    "        Precision= float(tp/(tp+fp))\n",
    "        Recall=float(tp/(tp+fn))\n",
    "        F1_score= float((2*Recall*Precision)/(Precision+Recall))\n",
    "        print(f\"precision: {Precision}\\nrecal:{Recall}\\nf1_score:{F1_score}\")\n",
    "        return F1_score\n",
    "\n",
    "F1(11.6, 4.3, -16.1)\n"
   ]
  },
  {
   "cell_type": "code",
   "execution_count": null,
   "metadata": {},
   "outputs": [],
   "source": [
    "def F1(tp, fp, fn):\n",
    "    if type(tp)!=int:\n",
    "        print(f\"tp must be int\")\n",
    "        return\n",
    "    if type(fp)!=int:\n",
    "        print(\"fp must be int\")\n",
    "        return\n",
    "    if type(fn)!=int:\n",
    "        print(f\"fn must be int\")\n",
    "        return\n",
    "    if not(tp>0 and fp>0 and fn>0):\n",
    "        print(\"all must be greater than zero\")\n",
    "        return\n",
    "    Precision= float(tp/(tp+fp))\n",
    "    Recall=float(tp/(tp+fn))\n",
    "    F1_score= float((2*Recall*Precision)/(Precision+Recall))\n",
    "    print(f\"precision: {Precision}\\nrecal:{Recall}\\nf1_score:{F1_score}\")\n",
    "    return F1_score\n",
    "\n",
    "F1(11, 4, 16)"
   ]
  },
  {
   "cell_type": "code",
   "execution_count": null,
   "metadata": {},
   "outputs": [],
   "source": [
    "from first import is_SNT, is_armstrong\n",
    "for i in range(0, 1000000):\n",
    "    if is_armstrong(i):\n",
    "        print(f\"{i} is Armstrong\")"
   ]
  },
  {
   "cell_type": "code",
   "execution_count": null,
   "metadata": {},
   "outputs": [],
   "source": [
    "for i in range(0, 100):\n",
    "    if is_SNT(i):\n",
    "        print(f\"{i} is SNT\")"
   ]
  },
  {
   "cell_type": "code",
   "execution_count": null,
   "metadata": {},
   "outputs": [],
   "source": [
    "function_mapping = {\n",
    "    'binary_step': 'binary_step',\n",
    "    'sigmoid': 'sigmoid',\n",
    "    'Elu': 'Elu'\n",
    "}"
   ]
  },
  {
   "cell_type": "code",
   "execution_count": null,
   "metadata": {},
   "outputs": [],
   "source": [
    "function_mapping = {\n",
    "    'binary_step': 'first',\n",
    "    'sigmoid': 'first',\n",
    "    'Elu': 'first'\n",
    "}\n",
    "inp = input(\"function: \")\n",
    "if inp not in function_mapping:\n",
    "    print(f\"function name is not supported\")\n",
    "else:\n",
    "    from importlib import import_module\n",
    "    module = import_module(function_mapping[inp])\n",
    "    func = getattr(module, inp)\n",
    "    for i in range(-10, 10):\n",
    "        print(f\"{inp} i = {i}: {func(i)}\")"
   ]
  },
  {
   "cell_type": "code",
   "execution_count": null,
   "metadata": {},
   "outputs": [],
   "source": [
    "from first import binary_step\n",
    "for i in range(-10, 10):\n",
    "    print(f\"i is {i}: {binary_step(i)}\")"
   ]
  },
  {
   "cell_type": "code",
   "execution_count": null,
   "metadata": {},
   "outputs": [],
   "source": [
    "from first import sigmoid\n",
    "sigmoid(2)"
   ]
  },
  {
   "cell_type": "code",
   "execution_count": null,
   "metadata": {},
   "outputs": [],
   "source": [
    "from first import Elu\n",
    "for i in range(-10,10):\n",
    "    print(f\"i is {i}: {Elu(i)}\")"
   ]
  },
  {
   "cell_type": "code",
   "execution_count": null,
   "metadata": {},
   "outputs": [],
   "source": [
    "print(\"10a\".isdigit())\n",
    "x= int(10)\n",
    "print(\"kiểm tra string có phải số hay không\")"
   ]
  },
  {
   "cell_type": "code",
   "execution_count": null,
   "metadata": {},
   "outputs": [],
   "source": [
    "str='tao năm nay tuổi'\n",
    "str2='jsfvnjknfvdsnv'\n",
    "print(str2.isalpha())"
   ]
  },
  {
   "cell_type": "code",
   "execution_count": null,
   "metadata": {},
   "outputs": [],
   "source": [
    "str='sjsdAb'\n",
    "print(f\"kiểm tra chữ cái hoa và thường\\n{str.islower()}\")"
   ]
  },
  {
   "cell_type": "code",
   "execution_count": null,
   "metadata": {},
   "outputs": [],
   "source": [
    "x='this is my code python learn'\n",
    "print(x.title())\n",
    "x"
   ]
  },
  {
   "cell_type": "code",
   "execution_count": null,
   "metadata": {},
   "outputs": [],
   "source": [
    "string = \"Quán quân Sao Mai Lan Quỳnh khiến nhiều khán giả xúc động khi hát \\\"Gửi cánh chim biển\\\"\"\n",
    "print(string)\n",
    "print(string.index(\"khán\"))\n",
    "print(string.find(\"khán\"))\n",
    "print(string.upper())\n",
    "print(string.lower())\n",
    "print(string.title())\n",
    "print(string.capitalize())#chữ đầu tiên là chữ in hoa và các chữ sau là chữ thường\n",
    "print(string.swapcase())#chuyển 2 trạng thái chữ\n",
    "print(len(string))\n",
    "print(string.count(\"k\"))\n",
    "string_sub=\"    làm sao \"\n",
    "print((string_sub+string).strip()) #loại bỏ dấu cách ở đầu đoạn và cuối đoạn\n",
    "print(string.replace(\"Mai Lan Quỳnh\",\"Trần Thu Phương\"))#thay thế chuỗi\n",
    "string1=string.partition(\"khiến\")#tách chuỗi tại tự cần tách, trả về 3 phần tử là chuỗi đầu, chuỗi tìm thấy, chuỗi cuối\n",
    "string1_1=string1[2]\n",
    "print(string1_1)\n"
   ]
  },
  {
   "cell_type": "code",
   "execution_count": null,
   "metadata": {},
   "outputs": [],
   "source": [
    "import time\n",
    "import os"
   ]
  },
  {
   "cell_type": "code",
   "execution_count": null,
   "metadata": {},
   "outputs": [],
   "source": [
    "check = os.path.exists(\"text.txt\")#kiểm tra file có tồn tại hay không\n",
    "print(check)\n",
    "file= open('text.txt','r')\n",
    "data=file.readlines()\n",
    "for x in data:\n",
    "    print(x,end = \"\")\n",
    "    time.sleep(0.1) #tạm dừng 0.001 giây\n",
    "file.close()"
   ]
  },
  {
   "cell_type": "code",
   "execution_count": null,
   "metadata": {},
   "outputs": [],
   "source": [
    "string =\"Quán quân Sao Mai Lan Quỳnh khiến nhiều khán giả xúc động khi hát \\\"Gửi cánh chim biển\\\"\"\n",
    "string2 = string.split(' ')#tách chuỗi theo ký tự chỉ định\n",
    "for x in string2:\n",
    "    print(x)"
   ]
  },
  {
   "cell_type": "code",
   "execution_count": 7,
   "metadata": {},
   "outputs": [
    {
     "name": "stdout",
     "output_type": "stream",
     "text": [
      "Nguyễn, Tiến, Hội, Nguyễn\n"
     ]
    }
   ],
   "source": [
    "import re\n",
    "string_list=[\"Nguyễn\",\"Tiến\",\"Hội\",\"Nguyễn\"]\n",
    "string_join=(', ').join(string_list)#nối chuỗi theo ký tự chỉ định\n",
    "print(string_join)\n"
   ]
  }
 ],
 "metadata": {
  "kernelspec": {
   "display_name": "Python 3",
   "language": "python",
   "name": "python3"
  },
  "language_info": {
   "codemirror_mode": {
    "name": "ipython",
    "version": 3
   },
   "file_extension": ".py",
   "mimetype": "text/x-python",
   "name": "python",
   "nbconvert_exporter": "python",
   "pygments_lexer": "ipython3",
   "version": "3.12.5"
  }
 },
 "nbformat": 4,
 "nbformat_minor": 2
}
