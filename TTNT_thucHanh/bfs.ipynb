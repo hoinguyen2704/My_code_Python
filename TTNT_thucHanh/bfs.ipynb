{
 "cells": [
  {
   "cell_type": "code",
   "id": "initial_id",
   "metadata": {
    "collapsed": true,
    "ExecuteTime": {
     "end_time": "2024-10-05T14:56:42.446387Z",
     "start_time": "2024-10-05T14:56:42.437257Z"
    }
   },
   "source": [
    "import queue"
   ],
   "execution_count": 1,
   "outputs": []
  },
  {
   "metadata": {
    "ExecuteTime": {
     "end_time": "2024-10-05T14:56:43.433956Z",
     "start_time": "2024-10-05T14:56:43.423487Z"
    }
   },
   "cell_type": "code",
   "source": [
    "class Graph:\n",
    "    def __init__(self):\n",
    "        self.start = None\n",
    "        self.graph : dict[str, list] = {}\n",
    "        self.open : queue = queue.Queue()\n",
    "        self.closed : list = []\n",
    "        self.goal :list = []\n",
    "        self.parent : dict ={}\n",
    "        self.path : list =[]\n",
    "        "
   ],
   "id": "8b216f1e8e01691b",
   "execution_count": 2,
   "outputs": []
  },
  {
   "metadata": {},
   "cell_type": "markdown",
   "source": "Tạo quan ệ giữa node u và hàng xóm của nó",
   "id": "eb2cb6d9cb26c38c"
  },
  {
   "cell_type": "code",
   "id": "3deb8653b96e723",
   "metadata": {
    "ExecuteTime": {
     "end_time": "2024-10-05T14:56:44.527359Z",
     "start_time": "2024-10-05T14:56:44.520969Z"
    }
   },
   "source": [
    "def add_node (self, u, v):\n",
    "    if self.graph.get(u) is None:\n",
    "        self.graph[u] = []\n",
    "    self.graph[u].append(v)"
   ],
   "execution_count": 3,
   "outputs": []
  },
  {
   "cell_type": "markdown",
   "id": "14f35766",
   "metadata": {},
   "source": [
    "tạo 1 function để duyệt qua các phần tử kế của điểm đang xét.\n",
    "nếu node đang xét có trong goal thì return ra node đang xét.\n",
    "khi đã duyệt hết điểm trong open mà không tìm thấy goal thì return -1.\n",
    "do không biết rõ số lượng các phần tử trong open -> dùng vòng while cho đến khi open is None"
   ]
  },
  {
   "cell_type": "code",
   "id": "4145866d",
   "metadata": {
    "ExecuteTime": {
     "end_time": "2024-10-05T15:01:05.323074Z",
     "start_time": "2024-10-05T15:01:05.315037Z"
    }
   },
   "source": [
    "def bfs(self, start):\n",
    "    self.open.put(start)\n",
    "    self.closed.append(start)\n",
    "    while not self.open.empty():\n",
    "        node = self.open.get(0)\n",
    "        self.closed.append(node)\n",
    "        if node in self.goal:\n",
    "            return node\n",
    "        if self.graph.get(node) is not None:\n",
    "            for neighbour in self.graph.get(node):\n",
    "                if neighbour not in self.closed and neighbour not in list(self.open.queue):\n",
    "                    self.open.put(neighbour)\n",
    "                    self.parent[neighbour] = node\n",
    "    return -1"
   ],
   "execution_count": 12,
   "outputs": []
  },
  {
   "cell_type": "code",
   "id": "825bdbe1",
   "metadata": {
    "ExecuteTime": {
     "end_time": "2024-10-05T15:01:06.970674Z",
     "start_time": "2024-10-05T15:01:06.962984Z"
    }
   },
   "source": [
    "def get_path(self, child):\n",
    "    self.path.append(child) #thêm node con trong goal vào path\n",
    "    while self.parent.get(child) is not None: #duyệt cho đến khi không còn node cha nữa -> là node khởi đầu\n",
    "        self.path.append(self.parent.get(child)) #thêm node cha vào sau node con\n",
    "        child = self.parent.get(child) #đặt lại node hiện tại là node con\n",
    "    self.path.reverse() #đảo ngược để lấy đường đi\n",
    "    return \"-> \".join(list(map(str, self.path)))"
   ],
   "execution_count": 13,
   "outputs": []
  },
  {
   "metadata": {
    "ExecuteTime": {
     "end_time": "2024-10-05T15:01:07.437719Z",
     "start_time": "2024-10-05T15:01:07.432167Z"
    }
   },
   "cell_type": "code",
   "source": [
    "Graph.add_node = add_node\n",
    "Graph.bfs = bfs\n",
    "Graph.get_path = get_path"
   ],
   "id": "e3070cf26faabde0",
   "execution_count": 14,
   "outputs": []
  },
  {
   "metadata": {
    "ExecuteTime": {
     "end_time": "2024-10-05T15:03:49.375169Z",
     "start_time": "2024-10-05T15:03:49.364923Z"
    }
   },
   "cell_type": "code",
   "source": [
    "if __name__ == \"__main__\":\n",
    "    g= Graph()\n",
    "    g.add_node('A','B')\n",
    "    g.add_node('A','C')\n",
    "    g.add_node('A','D')\n",
    "    g.add_node('B','M')\n",
    "    g.add_node('B','N')\n",
    "    g.add_node('C','L')\n",
    "    g.add_node('D','O')\n",
    "    g.add_node('D','P')\n",
    "    g.add_node('M','X')\n",
    "    g.add_node('M','Y')\n",
    "    g.add_node('Y','R')\n",
    "    g.add_node('Y','S')\n",
    "    g.add_node('N','U')\n",
    "    g.add_node('N','V')\n",
    "    g.add_node('V','G')\n",
    "    g.add_node('V','H')\n",
    "    g.add_node('O','I')\n",
    "    g.add_node('O','J')\n",
    "    \n",
    "    g.start ='A'\n",
    "    g.goal= ['R']\n",
    "    \n",
    "    print(f\"following is BFS start from {g.start} to goal = {g.goal}: \")\n",
    "    element = g.bfs(g.start)\n",
    "    print(g.get_path(element))"
   ],
   "id": "e14daa526de27022",
   "execution_count": 18,
   "outputs": []
  },
  {
   "metadata": {},
   "cell_type": "code",
   "execution_count": null,
   "source": "",
   "id": "faa06e1ae2422c7b",
   "outputs": []
  }
 ],
 "metadata": {
  "kernelspec": {
   "display_name": "Python 3",
   "language": "python",
   "name": "python3"
  },
  "language_info": {
   "codemirror_mode": {
    "name": "ipython",
    "version": 3
   },
   "file_extension": ".py",
   "mimetype": "text/x-python",
   "name": "python",
   "nbconvert_exporter": "python",
   "pygments_lexer": "ipython3",
   "version": "3.12.6"
  }
 },
 "nbformat": 4,
 "nbformat_minor": 5
}
