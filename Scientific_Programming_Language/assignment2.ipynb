{
 "cells": [
  {
   "cell_type": "code",
   "execution_count": 1,
   "metadata": {},
   "outputs": [],
   "source": [
    "import numpy as np#+\n",
    "import random"
   ]
  },
  {
   "cell_type": "code",
   "execution_count": 2,
   "metadata": {},
   "outputs": [],
   "source": [
    "def read(file_path):\n",
    "    try:\n",
    "        data = []\n",
    "        with open(file_path, 'r', encoding='utf8') as file:\n",
    "            for line in file:\n",
    "                data.append(line.strip().split())\n",
    "        return np.array(data)\n",
    "    except FileNotFoundError:\n",
    "        print('File not found !')\n",
    "        return"
   ]
  },
  {
   "cell_type": "code",
   "execution_count": 3,
   "metadata": {},
   "outputs": [],
   "source": [
    "def distance(row1, row2):\n",
    "    return np.linalg.norm(np.array(row1) - np.array(row2))"
   ]
  },
  {
   "cell_type": "code",
   "execution_count": 4,
   "metadata": {},
   "outputs": [],
   "source": [
    "def distancetoall(test_row, data):\n",
    "    distances = []\n",
    "    for row in data:\n",
    "        distances.append(distance(test_row, row))\n",
    "    return distances"
   ]
  },
  {
   "cell_type": "code",
   "execution_count": 3,
   "metadata": {},
   "outputs": [],
   "source": [
    "x_train = read('kddcup.data')"
   ]
  },
  {
   "cell_type": "code",
   "execution_count": 4,
   "metadata": {},
   "outputs": [
    {
     "name": "stdout",
     "output_type": "stream",
     "text": [
      "[['0' 'tcp' 'http' ... '0' '0' 'normal.']\n",
      " ['0' 'tcp' 'http' ... '0' '0' 'normal.']\n",
      " ['0' 'tcp' 'http' ... '0' '0' 'normal.']\n",
      " ...\n",
      " ['0' 'icmp' 'ecr_i' ... '0' '0' 'smurf.']\n",
      " ['0' 'icmp' 'ecr_i' ... '0' '0' 'smurf.']\n",
      " ['0' 'icmp' 'ecr_i' ... '0' '0' 'smurf.']]\n"
     ]
    }
   ],
   "source": [
    "print(x_train)"
   ]
  },
  {
   "cell_type": "code",
   "execution_count": 5,
   "metadata": {},
   "outputs": [],
   "source": [
    "#đọc tệp kddcup data lên mảng\n",
    "x_train = read('kddcup.data')\n",
    "labels = x_train[:, len(x_train[0])-1]\n",
    "#cắt bỏ 4 cột đầu và tách cột cuối\n",
    "x_train = x_train[:, 4:len(x_train[0])-1]\n",
    "x_train = np.array(x_train, dtype=float)"
   ]
  },
  {
   "cell_type": "code",
   "execution_count": 6,
   "metadata": {},
   "outputs": [],
   "source": [
    "#đọc tệp kddcup test\n",
    "x_test = read('kddcup.test')\n",
    "#cắt 4 cột đầu và 1 cột cuối\n",
    "for row in x_test:\n",
    "    del row[:4]\n",
    "    del row[-1]\n",
    "x_test = np.array(x_test, dtype=float)"
   ]
  },
  {
   "cell_type": "code",
   "execution_count": 12,
   "metadata": {},
   "outputs": [],
   "source": [
    "#lấy 1 dòng bất ký của x_test và dự đoán label của nó\n",
    "test = x_test[random.randint(0,14)]\n",
    "distances = distancetoall(test, x_train)"
   ]
  },
  {
   "cell_type": "code",
   "execution_count": 13,
   "metadata": {},
   "outputs": [
    {
     "name": "stdout",
     "output_type": "stream",
     "text": [
      "dự đoán label : neptune.\n"
     ]
    }
   ],
   "source": [
    "#dự đoán lable\n",
    "nearest_index = np.argmin(distances)\n",
    "predicted_label = labels[nearest_index]\n",
    "print(f\"dự đoán label : {predicted_label}\")"
   ]
  }
 ],
 "metadata": {
  "kernelspec": {
   "display_name": "Python 3",
   "language": "python",
   "name": "python3"
  },
  "language_info": {
   "codemirror_mode": {
    "name": "ipython",
    "version": 3
   },
   "file_extension": ".py",
   "mimetype": "text/x-python",
   "name": "python",
   "nbconvert_exporter": "python",
   "pygments_lexer": "ipython3",
   "version": "3.11.9"
  }
 },
 "nbformat": 4,
 "nbformat_minor": 2
}
