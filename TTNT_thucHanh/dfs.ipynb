{
 "cells": [
  {
   "cell_type": "code",
   "id": "initial_id",
   "metadata": {
    "collapsed": true,
    "ExecuteTime": {
     "end_time": "2024-10-06T08:32:17.853624Z",
     "start_time": "2024-10-06T08:32:17.836339Z"
    }
   },
   "source": [
    "class Graph:\n",
    "    def __init__(self):\n",
    "        self.open : list = []\n",
    "        self.closed : set =set()\n",
    "        self.goal: list = []\n",
    "        self.graph :dict [str, list] ={}\n",
    "        self.path: list = []\n",
    "        self.farther: dict[str, str] ={}\n",
    "        self.start = None\n",
    "        self.node_found = None\n",
    "def add_node(self, u, v):\n",
    "    if self.graph.get(u) is None:\n",
    "        self.graph[u] = []\n",
    "    self.graph[u].append(v)\n",
    "def dfs(self, start):\n",
    "    self.open.append(start)\n",
    "    self.closed.add(start)\n",
    "    while self.open:\n",
    "        node = self.open.pop()\n",
    "        self.closed.add(node)\n",
    "        if node in self.goal:\n",
    "            return node\n",
    "        if self.graph.get(node) is not None:\n",
    "            for neighbour in self.graph.get(node):\n",
    "                if neighbour not in self.open and neighbour not in self.closed:\n",
    "                    self.open.append(neighbour)\n",
    "                    self.farther[neighbour] = node\n",
    "    return -1\n",
    "def get_path(self, node_found):\n",
    "    self.path.append(node_found)\n",
    "    while self.farther.get(node_found) is not None:\n",
    "        self.path.append(self.farther.get(node_found))\n",
    "        node_found = self.farther.get(node_found)\n",
    "    self.path.reverse()\n",
    "    return \" -> \".join(list(map(str, self.path)))\n",
    "Graph.add_node = add_node\n",
    "Graph.dfs = dfs\n",
    "Graph.get_path = get_path\n",
    "g= Graph()\n",
    "\n",
    "g.add_node('A','D')\n",
    "g.add_node('A','C')\n",
    "g.add_node('A','B')\n",
    "g.add_node('D','P')\n",
    "g.add_node('D','O')\n",
    "g.add_node('C','L')\n",
    "g.add_node('B','N')\n",
    "g.add_node('B','M')\n",
    "g.add_node('V','G')\n",
    "g.add_node('O','I')\n",
    "g.add_node('N','V')\n",
    "g.add_node('N','U')\n",
    "g.add_node('M','Y')\n",
    "g.add_node('M','X')\n",
    "g.add_node('V','H')\n",
    "g.add_node('O','J')\n",
    "g.add_node('Y','S')\n",
    "g.add_node('Y','R')\n",
    "\n",
    "g.start='A'\n",
    "g.goal=['S', 'J']\n",
    "\n",
    "g.node_found = g.dfs(g.start)\n",
    "if g.node_found is None:\n",
    "    print(\"No valid path found\")\n",
    "print(f\"The path from {g.start} to {g.node_found} in goal = {g.goal} according to dfs is: {g.get_path(g.node_found)}\")"
   ],
   "outputs": [
    {
     "name": "stdout",
     "output_type": "stream",
     "text": [
      "The path from A to S in goal = ['S', 'J'] according to dfs is: A -> B -> M -> Y -> S\n"
     ]
    }
   ],
   "execution_count": 3
  },
  {
   "metadata": {},
   "cell_type": "code",
   "outputs": [],
   "execution_count": null,
   "source": "",
   "id": "e6d1e6bae35a399c"
  }
 ],
 "metadata": {
  "kernelspec": {
   "display_name": "Python 3",
   "language": "python",
   "name": "python3"
  },
  "language_info": {
   "codemirror_mode": {
    "name": "ipython",
    "version": 2
   },
   "file_extension": ".py",
   "mimetype": "text/x-python",
   "name": "python",
   "nbconvert_exporter": "python",
   "pygments_lexer": "ipython2",
   "version": "2.7.6"
  }
 },
 "nbformat": 4,
 "nbformat_minor": 5
}
