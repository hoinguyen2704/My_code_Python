{
 "cells": [
  {
   "cell_type": "code",
   "execution_count": null,
   "metadata": {},
   "outputs": [],
   "source": [
    "a=\"0,3\"\n",
    "a.isdigit()"
   ]
  },
  {
   "cell_type": "code",
   "execution_count": null,
   "metadata": {},
   "outputs": [],
   "source": [
    "a.isnumeric()"
   ]
  },
  {
   "cell_type": "code",
   "execution_count": null,
   "metadata": {},
   "outputs": [],
   "source": [
    "b=\"½2\"\n",
    "# print(float(b))\n",
    "print(b.isnumeric())#kiểm tra cả các chữ số la mã\n",
    "print(b.isdigit())#chỉ kiểm tra các số nguyên dương 0->9"
   ]
  },
  {
   "cell_type": "markdown",
   "metadata": {},
   "source": [
    "bài tập về nhà buổi 7"
   ]
  },
  {
   "cell_type": "code",
   "execution_count": null,
   "metadata": {},
   "outputs": [],
   "source": [
    "str=input(\"enter something in here: \")\n",
    "str"
   ]
  },
  {
   "cell_type": "code",
   "execution_count": null,
   "metadata": {},
   "outputs": [],
   "source": [
    "def problem(str):\n",
    "    lower=str.lower()\n",
    "    upper=str.upper()\n",
    "    title=str.title()\n",
    "    if str.isdigit() and int(str)>0:\n",
    "        print(f\"this is a number: {int(str)}\")\n",
    "        return\n",
    "    else:\n",
    "        print(\"không phải số \")\n",
    "        print(f\"dạng viết thường: {lower}\")\n",
    "        print(f\"dạng in hoa: {upper}\")\n",
    "        print(f\"chỉ viết hoa chữ cái đầu: {title}\")"
   ]
  },
  {
   "cell_type": "code",
   "execution_count": null,
   "metadata": {},
   "outputs": [],
   "source": [
    "problem(\"9.5\")"
   ]
  },
  {
   "cell_type": "code",
   "execution_count": null,
   "metadata": {},
   "outputs": [],
   "source": [
    "str=\"2[abc]3[tao]ed\"\n",
    "print(str)\n",
    "print(len(str))\n",
    "strsub=(\"\".join(str.split('['))).split(\"]\")\n",
    "print(strsub)\n",
    "print(\"\".join(strsub))\n",
    "print(str.split(']'))\n"
   ]
  },
  {
   "cell_type": "code",
   "execution_count": null,
   "metadata": {},
   "outputs": [],
   "source": [
    "\n",
    "for i in range(0,len(str)):\n",
    "    if str[i].isdigit():\n",
    "        sub = copy(str)\n",
    "        \n"
   ]
  },
  {
   "cell_type": "code",
   "execution_count": 1,
   "metadata": {},
   "outputs": [],
   "source": [
    "def encode_str(input_string):\n",
    "    input_string = input_string.split(']')\n",
    "    for i in range(len(input_string)):\n",
    "        if input_string[i][0].isdigit() and int(input_string[i][0])>0:\n",
    "            strsub=input_string[i].split(\"[\")\n",
    "            strsub=strsub[1]*int(strsub[0])\n",
    "            input_string[i]=strsub\n",
    "    return( \"\".join(input_string))"
   ]
  },
  {
   "cell_type": "code",
   "execution_count": null,
   "metadata": {},
   "outputs": [],
   "source": [
    "str=\"12[ab]3[tao]ed\"\n",
    "str2 = str.split(\"]\")\n",
    "print(str2)\n",
    "print(str)\n",
    "encode_str(str)"
   ]
  },
  {
   "cell_type": "markdown",
   "metadata": {},
   "source": [
    "-làm sao để lấy được k\n",
    "-> duyệt -> ktra xem có phải là chữ hay số\n",
    "-> nếu là số thì gán vào k"
   ]
  },
  {
   "cell_type": "markdown",
   "metadata": {},
   "source": [
    "dấu hiệu để nhận biết bắt đầu chuỗi cần lặp\n",
    "-> ký tự mở \"[\"\n",
    "-> đặt open_flag = true;"
   ]
  },
  {
   "cell_type": "markdown",
   "metadata": {},
   "source": [
    "nếu open_flag = true -> ghi ký tự vào string\n",
    "nếu open_flag = false -> ghi vào decode_string"
   ]
  },
  {
   "cell_type": "markdown",
   "metadata": {},
   "source": [
    "gặp ký tự \"]\" -> kết thúc"
   ]
  },
  {
   "cell_type": "markdown",
   "metadata": {},
   "source": [
    "đặt rep_string = k*rep_string\n",
    "sau đó ghi rep_string vào decode_string"
   ]
  },
  {
   "cell_type": "markdown",
   "metadata": {},
   "source": [
    "->clear rep_string\n",
    "->clear open_flag (false)"
   ]
  },
  {
   "cell_type": "code",
   "execution_count": 10,
   "metadata": {},
   "outputs": [],
   "source": [
    "def decode_string(code_str):\n",
    "    k=-1\n",
    "    rep_string=\"\"\n",
    "    decoded_string=\"\"\n",
    "    open_flag = False #báo hiệu 1 chuỗi sẽ đc lặp\n",
    "    for c in code_str:\n",
    "        if c.isdigit():\n",
    "            #ktr xem có phải số hay không\n",
    "            #nếu là số thì ép kiểu về int\n",
    "            k = int(c)\n",
    "            continue\n",
    "        elif c==\"[\":\n",
    "            #báo hiệu 1 chuỗi sẽ đc lặp\n",
    "            #ghi chuỗi cần lặp vào rep_string\n",
    "            open_flag = True\n",
    "            \n",
    "        elif c.isalpha():\n",
    "            #ktr xem nếu open_flag đang được bật thì sẽ ghi ký tự vào re_string\n",
    "            if open_flag:\n",
    "                rep_string+=c\n",
    "            #nếu đóng thì ghi vào decoded_string\n",
    "            else:\n",
    "                decoded_string+=c\n",
    "        elif c==\"]\":\n",
    "           decoded_string += rep_string*k\n",
    "           k=-1\n",
    "           rep_string=\"\"\n",
    "           open_flag = False\n",
    "    return decoded_string"
   ]
  },
  {
   "cell_type": "code",
   "execution_count": 12,
   "metadata": {},
   "outputs": [
    {
     "name": "stdout",
     "output_type": "stream",
     "text": [
      "2[ab]3[tao]ed\n",
      "ababtaotaotaoed\n"
     ]
    }
   ],
   "source": [
    "c = \"2[ab]3[tao]ed\"\n",
    "print(c)\n",
    "print(decode_string(c))"
   ]
  },
  {
   "cell_type": "code",
   "execution_count": null,
   "metadata": {},
   "outputs": [],
   "source": []
  }
 ],
 "metadata": {
  "kernelspec": {
   "display_name": "Python 3",
   "language": "python",
   "name": "python3"
  },
  "language_info": {
   "codemirror_mode": {
    "name": "ipython",
    "version": 3
   },
   "file_extension": ".py",
   "mimetype": "text/x-python",
   "name": "python",
   "nbconvert_exporter": "python",
   "pygments_lexer": "ipython3",
   "version": "3.12.6"
  }
 },
 "nbformat": 4,
 "nbformat_minor": 2
}
