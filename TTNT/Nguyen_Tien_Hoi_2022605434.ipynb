{
 "cells": [
  {
   "cell_type": "code",
   "execution_count": 1,
   "metadata": {
    "executionInfo": {
     "elapsed": 477,
     "status": "ok",
     "timestamp": 1716946343992,
     "user": {
      "displayName": "Nguyễn Tiến Hội",
      "userId": "07015564165992523600"
     },
     "user_tz": -420
    },
    "id": "dS0d8s8R7sAP"
   },
   "outputs": [],
   "source": [
    "import pandas as pd\n",
    "import matplotlib.pyplot as plt\n",
    "import seaborn as sns"
   ]
  },
  {
   "cell_type": "code",
   "execution_count": 2,
   "metadata": {
    "colab": {
     "base_uri": "https://localhost:8080/"
    },
    "collapsed": true,
    "executionInfo": {
     "elapsed": 472,
     "status": "ok",
     "timestamp": 1716946345428,
     "user": {
      "displayName": "Nguyễn Tiến Hội",
      "userId": "07015564165992523600"
     },
     "user_tz": -420
    },
    "id": "5YJEGZLo8_GU",
    "outputId": "9aacda83-ffa7-4951-d109-f0908c29109a"
   },
   "outputs": [],
   "source": [
    "df = pd.read_csv(\"Dulieu_1.csv\")\n",
    "print(df)"
   ]
  },
  {
   "cell_type": "code",
   "execution_count": 2,
   "metadata": {},
   "outputs": [
    {
     "name": "stdout",
     "output_type": "stream",
     "text": [
      "<class 'dict'>\n"
     ]
    }
   ],
   "source": [
    "d= {'Iris-versicolor':0, 'Iris-virginica':1}\n",
    "print(type(d))"
   ]
  },
  {
   "cell_type": "code",
   "execution_count": 3,
   "metadata": {
    "executionInfo": {
     "elapsed": 1,
     "status": "ok",
     "timestamp": 1716946349631,
     "user": {
      "displayName": "Nguyễn Tiến Hội",
      "userId": "07015564165992523600"
     },
     "user_tz": -420
    },
    "id": "B5EKaj7Z9D7U"
   },
   "outputs": [],
   "source": [
    "d= {'Iris-versicolor':0, 'Iris-virginica':1}\n",
    "df['CLASS']= df['CLASS'].map(d)"
   ]
  },
  {
   "cell_type": "code",
   "execution_count": 4,
   "metadata": {
    "colab": {
     "base_uri": "https://localhost:8080/"
    },
    "collapsed": true,
    "executionInfo": {
     "elapsed": 505,
     "status": "ok",
     "timestamp": 1716946351411,
     "user": {
      "displayName": "Nguyễn Tiến Hội",
      "userId": "07015564165992523600"
     },
     "user_tz": -420
    },
    "id": "2sLk7O399Ft0",
    "outputId": "86b73142-9e42-4639-b33a-803bd3dec84c"
   },
   "outputs": [],
   "source": [
    "print(df)\n",
    "df['CLASS'].value_counts()"
   ]
  },
  {
   "cell_type": "code",
   "execution_count": 6,
   "metadata": {
    "executionInfo": {
     "elapsed": 1,
     "status": "ok",
     "timestamp": 1716946723690,
     "user": {
      "displayName": "Nguyễn Tiến Hội",
      "userId": "07015564165992523600"
     },
     "user_tz": -420
    },
    "id": "OEBOkI2L9JD8"
   },
   "outputs": [],
   "source": [
    "from sklearn.tree import plot_tree\n",
    "from sklearn.model_selection import train_test_split\n",
    "from sklearn import tree\n",
    "from sklearn.tree import DecisionTreeClassifier, DecisionTreeRegressor\n",
    "from sklearn.preprocessing import LabelEncoder"
   ]
  },
  {
   "cell_type": "code",
   "execution_count": 7,
   "metadata": {
    "executionInfo": {
     "elapsed": 283,
     "status": "ok",
     "timestamp": 1716946738323,
     "user": {
      "displayName": "Nguyễn Tiến Hội",
      "userId": "07015564165992523600"
     },
     "user_tz": -420
    },
    "id": "76CPmvvg9QjM"
   },
   "outputs": [],
   "source": [
    "model_entropy = DecisionTreeClassifier(criterion=\"entropy\")\n",
    "Y= df['CLASS']\n",
    "X= df.drop(columns=['CLASS'])"
   ]
  },
  {
   "cell_type": "code",
   "execution_count": 9,
   "metadata": {
    "colab": {
     "base_uri": "https://localhost:8080/"
    },
    "collapsed": true,
    "executionInfo": {
     "elapsed": 2,
     "status": "ok",
     "timestamp": 1716946739894,
     "user": {
      "displayName": "Nguyễn Tiến Hội",
      "userId": "07015564165992523600"
     },
     "user_tz": -420
    },
    "id": "ezfptF_39YJU",
    "outputId": "0ce701c8-d930-40d3-938c-19730691f3b9"
   },
   "outputs": [],
   "source": [
    "print(X)\n",
    "print(Y)"
   ]
  },
  {
   "cell_type": "code",
   "execution_count": 10,
   "metadata": {
    "colab": {
     "base_uri": "https://localhost:8080/"
    },
    "executionInfo": {
     "elapsed": 1,
     "status": "ok",
     "timestamp": 1716946742612,
     "user": {
      "displayName": "Nguyễn Tiến Hội",
      "userId": "07015564165992523600"
     },
     "user_tz": -420
    },
    "id": "M_OoQ7RA9i_t",
    "outputId": "2fa4ba16-10a9-4dd3-b352-b7c2186a9ce5"
   },
   "outputs": [],
   "source": [
    "X_train, X_test, Y_train, Y_test = train_test_split(X, Y, test_size=0.1 )\n",
    "model_entropy.fit(X_train,Y_train)\n",
    "len(X_train)"
   ]
  },
  {
   "cell_type": "code",
   "execution_count": 11,
   "metadata": {
    "colab": {
     "base_uri": "https://localhost:8080/",
     "height": 125
    },
    "executionInfo": {
     "elapsed": 464,
     "status": "ok",
     "timestamp": 1716946745481,
     "user": {
      "displayName": "Nguyễn Tiến Hội",
      "userId": "07015564165992523600"
     },
     "user_tz": -420
    },
    "id": "E_rXukml_DMz",
    "outputId": "fe0f33a1-dbfd-47c3-f2f2-1658e93291b3"
   },
   "outputs": [],
   "source": [
    "X_test"
   ]
  },
  {
   "cell_type": "code",
   "execution_count": 12,
   "metadata": {
    "colab": {
     "base_uri": "https://localhost:8080/",
     "height": 75
    },
    "executionInfo": {
     "elapsed": 481,
     "status": "ok",
     "timestamp": 1716946412652,
     "user": {
      "displayName": "Nguyễn Tiến Hội",
      "userId": "07015564165992523600"
     },
     "user_tz": -420
    },
    "id": "9zFTEhuQ9sL0",
    "outputId": "352e21e1-c572-4b36-f499-4cd2d2d70f37"
   },
   "outputs": [],
   "source": [
    "my_tree = DecisionTreeRegressor()\n",
    "my_tree.fit(X,Y)"
   ]
  },
  {
   "cell_type": "code",
   "execution_count": 13,
   "metadata": {
    "colab": {
     "base_uri": "https://localhost:8080/",
     "height": 499
    },
    "executionInfo": {
     "elapsed": 690,
     "status": "ok",
     "timestamp": 1716946414826,
     "user": {
      "displayName": "Nguyễn Tiến Hội",
      "userId": "07015564165992523600"
     },
     "user_tz": -420
    },
    "id": "cK-9Cx5N9xhc",
    "outputId": "ef79cb9a-7d5a-4ac6-d8e6-f6f5e561d03e"
   },
   "outputs": [],
   "source": [
    "fig = plt.figure(figsize= (10,6))\n",
    "_= tree.plot_tree(my_tree, feature_names= ['A','B','C','D'], class_names=['CLASS'])"
   ]
  },
  {
   "cell_type": "code",
   "execution_count": 14,
   "metadata": {
    "colab": {
     "base_uri": "https://localhost:8080/",
     "height": 458
    },
    "executionInfo": {
     "elapsed": 482,
     "status": "ok",
     "timestamp": 1716946422021,
     "user": {
      "displayName": "Nguyễn Tiến Hội",
      "userId": "07015564165992523600"
     },
     "user_tz": -420
    },
    "id": "JXGuBkzH92zM",
    "outputId": "09fd12f8-afec-4ff0-8021-4eca54af5e54"
   },
   "outputs": [],
   "source": [
    "plot_tree(model_entropy)"
   ]
  }
 ],
 "metadata": {
  "colab": {
   "authorship_tag": "ABX9TyMx7O2HDnE49kdsE5rGjA3T",
   "provenance": []
  },
  "kernelspec": {
   "display_name": "Python 3",
   "name": "python3"
  },
  "language_info": {
   "codemirror_mode": {
    "name": "ipython",
    "version": 3
   },
   "file_extension": ".py",
   "mimetype": "text/x-python",
   "name": "python",
   "nbconvert_exporter": "python",
   "pygments_lexer": "ipython3",
   "version": "3.12.7"
  }
 },
 "nbformat": 4,
 "nbformat_minor": 0
}
