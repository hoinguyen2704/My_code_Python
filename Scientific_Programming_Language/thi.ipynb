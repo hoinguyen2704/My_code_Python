{
 "cells": [
  {
   "metadata": {},
   "cell_type": "markdown",
   "source": [
    "Câu 2: Tạo hàm nhập 2 mảng 1 chiều:\n",
    "mảng 1 số thực, mảng 2 số nguyên Sắp xếp 1 cái tăng dần, 1 cái giảm dần,\n",
    "xuất 2 cái vào file: dòng 1 mảng thực, dòng 2 mảng nguyên\n",
    "Kiểm tra có điều kiện( where) rồi in ra Vẽ biểu đồ pie"
   ],
   "id": "8dbb0aaae0dc989f"
  },
  {
   "cell_type": "code",
   "execution_count": null,
   "id": "initial_id",
   "metadata": {
    "collapsed": true
   },
   "outputs": [],
   "source": [
    "import numpy as np\n",
    "import matplotlib.pyplot as plt\n",
    "\n",
    "def process_arrays():\n",
    "    # Input arrays\n",
    "    real_numbers = np.array(list(map(float, input(\"Enter real numbers separated by space: \").split())))\n",
    "    integer_numbers = np.array(list(map(int, input(\"Enter integer numbers separated by space: \").split())))\n",
    "    \n",
    "    # Sort arrays\n",
    "    sorted_real_numbers = np.sort(real_numbers)\n",
    "    sorted_integer_numbers = np.sort(integer_numbers)[::-1]\n",
    "    \n",
    "    # Write arrays to file\n",
    "    with open(\"output.txt\", \"w\") as file:\n",
    "        file.write(\" \".join(map(str, sorted_real_numbers)) + \"\\n\")\n",
    "        file.write(\" \".join(map(str, sorted_integer_numbers)) + \"\\n\")\n",
    "    \n",
    "    # Check condition (example: elements > 0)\n",
    "    condition_real = np.where(sorted_real_numbers > 0)\n",
    "    condition_integer = np.where(sorted_integer_numbers > 0)\n",
    "    \n",
    "    print(\"Real numbers satisfying condition:\", sorted_real_numbers[condition_real])\n",
    "    print(\"Integer numbers satisfying condition:\", sorted_integer_numbers[condition_integer])\n",
    "    \n",
    "    # Plot pie chart\n",
    "    labels = 'Real Numbers', 'Integer Numbers'\n",
    "    sizes = [len(real_numbers), len(integer_numbers)]\n",
    "    colors = ['gold', 'lightcoral']\n",
    "    \n",
    "    plt.pie(sizes, labels=labels, colors=colors, autopct='%1.1f%%', startangle=140)\n",
    "    plt.axis('equal')\n",
    "    plt.show()\n",
    "\n",
    "process_arrays()\n"
   ]
  }
 ],
 "metadata": {
  "kernelspec": {
   "display_name": "Python 3",
   "language": "python",
   "name": "python3"
  },
  "language_info": {
   "codemirror_mode": {
    "name": "ipython",
    "version": 2
   },
   "file_extension": ".py",
   "mimetype": "text/x-python",
   "name": "python",
   "nbconvert_exporter": "python",
   "pygments_lexer": "ipython2",
   "version": "2.7.6"
  }
 },
 "nbformat": 4,
 "nbformat_minor": 5
}
