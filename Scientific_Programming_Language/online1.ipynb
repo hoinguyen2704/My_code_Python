{
 "cells": [
  {
   "cell_type": "markdown",
   "metadata": {},
   "source": [
    "bài 1_online 1"
   ]
  },
  {
   "cell_type": "code",
   "execution_count": 15,
   "metadata": {},
   "outputs": [
    {
     "name": "stdout",
     "output_type": "stream",
     "text": [
      "len = 5\n",
      "('62', '13', '46', '48', '79')\n",
      "<class 'tuple'>\n",
      "<class 'str'>\n",
      "(62, 13, 46, 48, 79)\n",
      "49.6\n"
     ]
    }
   ],
   "source": [
    "n = int(input(f'len = '))\n",
    "print(f'len = {n}')\n",
    "a = tuple()\n",
    "for i in range(n):\n",
    "    a += ( input(f'a[{i}]: '), )\n",
    "print(a)\n",
    "print(type(a))\n",
    "print(type(a[0]))\n",
    "b= tuple(map(int, a))\n",
    "print(b)\n",
    "avg_b = sum(b)/ len(b)\n",
    "print(avg_b)"
   ]
  },
  {
   "cell_type": "markdown",
   "metadata": {},
   "source": [
    "bài 2 online 1"
   ]
  },
  {
   "cell_type": "code",
   "execution_count": 14,
   "metadata": {},
   "outputs": [
    {
     "name": "stdout",
     "output_type": "stream",
     "text": [
      "<class 'set'>\n",
      "{'715201079', '2022605434', 'BHD202', 'ADC12', 'MEDIA201'}\n",
      "<class 'set'>\n",
      "{'MEDIA', '715201079', 'AIC2', '2022605434'}\n",
      "sinh viên đăng ký học cả 2 môn\n",
      "{'715201079', '2022605434'}\n",
      "danh sách tổng hợp sinh viên đăng ký ở 2 bàn\n",
      "{'2022605434', 'MEDIA', '715201079', 'BHD202', 'ADC12', 'AIC2', 'MEDIA201'}\n",
      "danh sách sinh viên đăng ký bàn 1 nhưng không đăng ký ở bàn 2\n",
      "{'MEDIA201', 'ADC12', 'BHD202'}\n"
     ]
    }
   ],
   "source": [
    "from zmq import NULL\n",
    "\n",
    "\n",
    "a = set({'2022605434', '715201079', 'BHD202', 'MEDIA201', 'ADC12'})\n",
    "b= set({'2022605434', '715201079', 'AIC2', 'MEDIA'})\n",
    "print(type(a))\n",
    "print(a)\n",
    "print(type(b))\n",
    "print(b)\n",
    "intersections = a.intersection(b)\n",
    "if intersections is not NULL:\n",
    "    print(f'sinh viên đăng ký học cả 2 môn')\n",
    "    print(f'{intersections}')\n",
    "else:\n",
    "    print(f'không có phần tử trùng nhau')\n",
    "unions = a.union(b)\n",
    "print(f'danh sách tổng hợp sinh viên đăng ký ở 2 bàn\\n{unions}')\n",
    "\n",
    "differences = a.difference(b)\n",
    "\n",
    "print(f'danh sách sinh viên đăng ký bàn 1 nhưng không đăng ký ở bàn 2\\n{differences}')"
   ]
  },
  {
   "cell_type": "markdown",
   "metadata": {},
   "source": [
    "bài 3 online 1"
   ]
  },
  {
   "cell_type": "code",
   "execution_count": 36,
   "metadata": {},
   "outputs": [
    {
     "name": "stdout",
     "output_type": "stream",
     "text": [
      "danh sách sinh viên có điểm [2.5, 3.5] \n",
      "{'MEDIA201': 3.4, 'ADC12': 2.8}\n",
      "đã thêm 1 sinh viên \n",
      "{'2022605434': 1.4, '715201079': 2.4, 'BHD202': 7.4, 'MEDIA201': 3.4, 'ADC12': 2.8, '715201121': 8.9}\n",
      "danh sách sau khi xóa các hs có điểm < 2 \n",
      "{'715201079': 2.4, 'BHD202': 7.4, 'MEDIA201': 3.4, 'ADC12': 2.8, '715201121': 8.9}\n"
     ]
    }
   ],
   "source": [
    "a = dict({'2022605434':1.4, '715201079':2.4, 'BHD202':7.4, 'MEDIA201':3.4, 'ADC12':2.8})\n",
    "b= {key: value for key, value in a.items() if (value >= 2.5 and value <= 3.5) }\n",
    "print(f'danh sách sinh viên có điểm [2.5, 3.5] \\n{b}')\n",
    "if a.get('715201121') is None:\n",
    "    a['715201121'] = 8.9\n",
    "    print(f'đã thêm 1 sinh viên \\n{a}')\n",
    "a= {key: value for key, value in a.items() if not value < 2}\n",
    "print(f'danh sách sau khi xóa các hs có điểm < 2 \\n{a}')"
   ]
  },
  {
   "cell_type": "markdown",
   "metadata": {},
   "source": [
    "bài 4 onlie 1"
   ]
  },
  {
   "cell_type": "code",
   "execution_count": 6,
   "metadata": {},
   "outputs": [
    {
     "name": "stdout",
     "output_type": "stream",
     "text": [
      "True\n",
      "hello hello world ha\n",
      "hello hello world ba\n",
      "{0: 'hello', 1: 'hello', 2: 'world', 3: 'ba'}\n",
      "{0: 'hello', 1: 'hello', 2: 'world', 3: 'ba'}\n",
      "{0: 'hello', 1: 'hello', 2: 'world', 3: 'ba'}\n"
     ]
    }
   ],
   "source": [
    "s= 'hello '\n",
    "q = 'hello world ha'\n",
    "print(s in q)\n",
    "p = s+ q\n",
    "print(p)\n",
    "p = p.replace('ha', 'ba')\n",
    "print(p)\n",
    "list_str= p.split()\n",
    "dict_str = {key: value for key, value in zip(range(len(list_str)), list_str)}\n",
    "print(dict_str)\n",
    "dict_str2 = {key:value for key, value in enumerate(list_str)}\n",
    "print(dict_str2)\n",
    "dict_str3 = dict(map(lambda i: (i, list_str[i]), range(len(list_str)) ))\n",
    "print(dict_str3)\n"
   ]
  },
  {
   "cell_type": "markdown",
   "metadata": {},
   "source": [
    "bài 5 online 1"
   ]
  },
  {
   "cell_type": "code",
   "execution_count": 18,
   "metadata": {},
   "outputs": [
    {
     "name": "stdout",
     "output_type": "stream",
     "text": [
      "dict ban đầu\n",
      "n: 1500\n",
      "CLUSTERS: 3\n",
      "ITER: 1000\n",
      "METHOD: DCA CLUSTERING\n",
      "MEASURE: ECLUDIAN\n",
      "YEARS: 9\n",
      "MAX: 200\n",
      "\n",
      "dict sau khi chỉnh sửa\n",
      "n: 1500\n",
      "CLUSTERS: 3\n",
      "ITER: 1000\n",
      "METHOD: DCA CLUSTERING\n",
      "MEASURE: MANHATAN\n",
      "YEARS: 9\n",
      "MAX: 200\n",
      "\n",
      "giá trị của method: DCA CLUSTERING\n",
      "\n",
      "dict sau khi thêm giá trị\n",
      "n: 1500\n",
      "CLUSTERS: 3\n",
      "ITER: 1000\n",
      "METHOD: DCA CLUSTERING\n",
      "MEASURE: MANHATAN\n",
      "YEARS: 9\n",
      "MAX: 200\n",
      "LOSS FUNCTION: SOFT MAX\n",
      "\n",
      "dict sau khi xóa\n",
      "n: 1500\n",
      "CLUSTERS: 3\n",
      "ITER: 1000\n",
      "METHOD: DCA CLUSTERING\n",
      "MEASURE: MANHATAN\n",
      "MAX: 200\n",
      "LOSS FUNCTION: SOFT MAX\n",
      "\n",
      "đã tìm thấy giá trị 200 trong dict\n",
      "<class 'set'>\n",
      "<class 'list'>\n"
     ]
    }
   ],
   "source": [
    "from ast import Delete\n",
    "\n",
    "\n",
    "dict_5 ={\n",
    "    'n':1500,\n",
    "    'CLUSTERS':3,\n",
    "    'ITER':1000,\n",
    "    'METHOD':'DCA CLUSTERING',\n",
    "    'MEASURE':'ECLUDIAN',\n",
    "    'YEARS':9,\n",
    "    'MAX':200\n",
    "}\n",
    "print(f'dict ban đầu')\n",
    "for key, value in dict_5.items():\n",
    "    print(f'{key}: {value}')\n",
    "\n",
    "dict_5['MEASURE'] ='MANHATAN'\n",
    "print(f'\\ndict sau khi chỉnh sửa')\n",
    "for key, value in dict_5.items():\n",
    "    print(f'{key}: {value}')\n",
    "\n",
    "# print('giá trị của method: %s'%(dict_5.get('METHOD')))\n",
    "# print('giá trị của method: {}'.format(dict_5.get('METHOD')))\n",
    "\n",
    "print(f'\\ngiá trị của method: {dict_5.get(\"METHOD\")}')\n",
    "\n",
    "if dict_5.get('LOSS FUNCTION') is None:\n",
    "    dict_5['LOSS FUNCTION'] = 'SOFT MAX'\n",
    "print(f'\\ndict sau khi thêm giá trị')\n",
    "for key, value in dict_5.items():\n",
    "    print(f'{key}: {value}')\n",
    "\n",
    "del dict_5['YEARS']\n",
    "print(f'\\ndict sau khi xóa')\n",
    "for key, value in dict_5.items():\n",
    "    print(f'{key}: {value}')\n",
    "\n",
    "s= input(f'input something: ')\n",
    "if s.isnumeric(): s= int(s)\n",
    "\n",
    "if s in dict_5.values():\n",
    "    print(f'\\nđã tìm thấy giá trị {s} trong dict')\n",
    "else:\n",
    "    print(f'\\nkhông tìm thấy giá trị {s} trong dict')\n",
    "set_value = set(dict_5.values())\n",
    "print(type(set_value))\n",
    "list_value = list(dict_5.values())\n",
    "print(type(list_value))\n"
   ]
  }
 ],
 "metadata": {
  "kernelspec": {
   "display_name": "Python 3",
   "language": "python",
   "name": "python3"
  },
  "language_info": {
   "codemirror_mode": {
    "name": "ipython",
    "version": 3
   },
   "file_extension": ".py",
   "mimetype": "text/x-python",
   "name": "python",
   "nbconvert_exporter": "python",
   "pygments_lexer": "ipython3",
   "version": "3.11.9"
  }
 },
 "nbformat": 4,
 "nbformat_minor": 2
}
