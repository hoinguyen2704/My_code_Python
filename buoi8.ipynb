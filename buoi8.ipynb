{
 "cells": [
  {
   "cell_type": "code",
   "execution_count": null,
   "metadata": {},
   "outputs": [],
   "source": [
    "a=\"0,3\"\n",
    "a.isdigit()"
   ]
  },
  {
   "cell_type": "code",
   "execution_count": null,
   "metadata": {},
   "outputs": [],
   "source": [
    "a.isnumeric()"
   ]
  },
  {
   "cell_type": "code",
   "execution_count": null,
   "metadata": {},
   "outputs": [],
   "source": [
    "b=\"½2\"\n",
    "# print(float(b))\n",
    "print(b.isnumeric())#kiểm tra cả các chữ số la mã\n",
    "print(b.isdigit())#chỉ kiểm tra các số nguyên dương 0->9"
   ]
  },
  {
   "cell_type": "markdown",
   "metadata": {},
   "source": [
    "bài tập về nhà buổi 7"
   ]
  },
  {
   "cell_type": "code",
   "execution_count": null,
   "metadata": {},
   "outputs": [],
   "source": [
    "str=input(\"enter something in here: \")\n",
    "str"
   ]
  },
  {
   "cell_type": "code",
   "execution_count": null,
   "metadata": {},
   "outputs": [],
   "source": [
    "def problem(str):\n",
    "    lower=str.lower()\n",
    "    upper=str.upper()\n",
    "    title=str.title()\n",
    "    if str.isdigit() and int(str)>0:\n",
    "        print(f\"this is a number: {int(str)}\")\n",
    "        return\n",
    "    else:\n",
    "        print(\"không phải số \")\n",
    "        print(f\"dạng viết thường: {lower}\")\n",
    "        print(f\"dạng in hoa: {upper}\")\n",
    "        print(f\"chỉ viết hoa chữ cái đầu: {title}\")"
   ]
  },
  {
   "cell_type": "code",
   "execution_count": null,
   "metadata": {},
   "outputs": [],
   "source": [
    "problem(\"9.5\")"
   ]
  },
  {
   "cell_type": "code",
   "execution_count": null,
   "metadata": {},
   "outputs": [],
   "source": [
    "str=\"2[abc]3[tao]ed\"\n",
    "print(str)\n",
    "print(len(str))\n",
    "strsub=(\"\".join(str.split('['))).split(\"]\")\n",
    "print(strsub)\n",
    "print(\"\".join(strsub))\n",
    "print(str.split(']'))\n"
   ]
  },
  {
   "cell_type": "code",
   "execution_count": null,
   "metadata": {},
   "outputs": [],
   "source": [
    "\n",
    "for i in range(0,len(str)):\n",
    "    if str[i].isdigit():\n",
    "        sub = copy(str)\n",
    "        \n"
   ]
  },
  {
   "cell_type": "code",
   "execution_count": 23,
   "metadata": {},
   "outputs": [],
   "source": [
    "def encode_str(input_string):\n",
    "    input_string = input_string.split(']')\n",
    "    for i in range(len(input_string)):\n",
    "        if input_string[i][0].isdigit() and int(input_string[i][0])>0:\n",
    "            strsub=input_string[i].split(\"[\")\n",
    "            strsub=strsub[1]*int(strsub[0])\n",
    "            input_string[i]=strsub\n",
    "    return( \"\".join(input_string))"
   ]
  },
  {
   "cell_type": "code",
   "execution_count": 25,
   "metadata": {},
   "outputs": [
    {
     "name": "stdout",
     "output_type": "stream",
     "text": [
      "['2[abc', '3[tao', 'ed']\n",
      "2[abc]3[tao]ed\n"
     ]
    },
    {
     "data": {
      "text/plain": [
       "'abcabctaotaotaoed'"
      ]
     },
     "execution_count": 25,
     "metadata": {},
     "output_type": "execute_result"
    }
   ],
   "source": [
    "str=\"2[abc]3[tao]ed\"\n",
    "str2 = str.split(\"]\")\n",
    "print(str2)\n",
    "print(str)\n",
    "encode_str(str)"
   ]
  }
 ],
 "metadata": {
  "kernelspec": {
   "display_name": "Python 3",
   "language": "python",
   "name": "python3"
  },
  "language_info": {
   "codemirror_mode": {
    "name": "ipython",
    "version": 3
   },
   "file_extension": ".py",
   "mimetype": "text/x-python",
   "name": "python",
   "nbconvert_exporter": "python",
   "pygments_lexer": "ipython3",
   "version": "3.12.4"
  }
 },
 "nbformat": 4,
 "nbformat_minor": 2
}
