{
 "cells": [
  {
   "cell_type": "code",
   "execution_count": null,
   "metadata": {},
   "outputs": [],
   "source": [
    "\"\"\"\n",
    "append() -> thêm 1 phần tử vào cuối mảng\n",
    "extend() -> thêm nhiều phần tử vào cuối mảng\n",
    "insert() -> thêm 1 phần tử vào vị trí đã chỉ định\n",
    "remove() -> xóa phần tử đã chỉ định\n",
    "pop() -> xóa phần tử cuối cùng\n",
    "clear() -> xóa tất cả phần tử\n",
    "reverse() -> chuyển đổi mảng thành đảo ngược\n",
    "sort() -> sắp xếp mảng theo thứ tự tăng dần\n",
    "copy()-> sao chép mảng\n",
    "count() -> trả về số lần lặp lại của phần tử đc tìm thấy\n",
    "index() -> trả về vị trí của phần tử đc tìm thấy\n",
    "del(list) -> xóa hẳn list\n",
    "\n",
    "\n",
    "set() -> tạo 1 set rỗng\n",
    "add() -> thêm 1 phần tử vào set\n",
    "update() -> thêm nhiều phần tử vào set\n",
    "remove() -> xóa phần tử đã chỉ định\n",
    "discard() -> xóa phần tử đã chỉ định nếu nó có trong set\n",
    "pop() -> xóa phần tử đầu tiên trong set\n",
    "clear() -> xóa tất cả phần tử trong set\n",
    "copy() -> sao chép set\n",
    "difference() toán tử - -> trả về set chứa phần tử chỉ có trong set1 mà không có ở set2 \n",
    "intersection() toán tử & -> trả về set chứa phần tử chỉ có trong set1 và set2 (GIAO)\n",
    "union() toán tử | -> trả về set chứa phần tử là tập hợp của set1 và set2, bỏ loại bỏ sự trùng lặp (HỢP)\n",
    "issubset()  -> trả về True nếu set1 là subset của set2\n",
    "issuperset() -> trả về True nếu set1 là superset của set2\n",
    "isdisjoint() -> trả về True nếu set1 và set2 không có phần tử nào trùng nhau\n",
    "difference_update() -> cập nhật xóa phần tử chỉ có trong set1 và set2 nhưng không có phần tử nào trùng nhau\n",
    "intersection_update() -> cập nhật set thành các phần tử chỉ có trong set1 và set2 nhưng không có phần tử nào trùng nhau\n",
    "symmetric_difference() -> trả về set chứa phần tử chỉ có trong set1 hoặc set2 nhưng không có phần tử nào trùng nhau\n",
    "symmetric_difference_update() -> cập nhật set thành các phần tử chỉ có trong set1 hoặc set2 nhưng không có phần tử nào trùng nhau\n",
    "\n",
    "\n",
    "dict() -> tạo 1 dict rỗng\n",
    "fromkeys(a[,v]) -> tạo 1 dict với các phần tử là các key lấy từ a và giá trị mặc định là v\n",
    "get() -> trả về giá trị của phần tử đã chỉ định\n",
    "items() -> trả về tất cả các phần tử trong dict\n",
    "keys() -> trả về tất cả các key trong dict\n",
    "values() -> trả về tất cả các giá trị trong dict\n",
    "popitem() -> xóa phần tử đầu tiên trong dict\n",
    "clear() -> xóa tất cả phần tử trong dict\n",
    "copy() -> sao chép dict\n",
    "update() -> Cập nhật từ điển với các cặp giá trị key:value từ một từ điển khác, ghi đè các khóa hiện có\n",
    "setdefault() -> thêm phần tử vào dict nếu nó chưa có trong dict\n",
    "pop() -> xóa phần tử đã chỉ định theo tên key\n",
    "del() -> xóa toàn bộ dict\n",
    "\n",
    "\n",
    ":<10 -> tạo 10 khoảng trống và căn trái string\n",
    ":^10 -> tạo 10 khoảng trống và căn giữa string\n",
    ":>10 -> tạo 10 khoảng trống và căn phải string\n",
    "lower() -> viết thường cả string\n",
    "upper() -> viết hoa cả string\n",
    "capitalize() -> viết đầu tiên chữ hoa\n",
    "title() -> viết tất cả chữ cái đầu hoa\n",
    "\"\"\""
   ]
  },
  {
   "cell_type": "code",
   "execution_count": 3,
   "metadata": {},
   "outputs": [
    {
     "name": "stdout",
     "output_type": "stream",
     "text": [
      "<class 'set'>\n"
     ]
    }
   ],
   "source": [
    "my_set =set()\n",
    "print(type(my_set))"
   ]
  }
 ],
 "metadata": {
  "kernelspec": {
   "display_name": "Python 3",
   "language": "python",
   "name": "python3"
  },
  "language_info": {
   "codemirror_mode": {
    "name": "ipython",
    "version": 3
   },
   "file_extension": ".py",
   "mimetype": "text/x-python",
   "name": "python",
   "nbconvert_exporter": "python",
   "pygments_lexer": "ipython3",
   "version": "3.12.6"
  }
 },
 "nbformat": 4,
 "nbformat_minor": 2
}
