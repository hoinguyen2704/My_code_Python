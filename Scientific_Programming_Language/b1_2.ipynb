{
 "cells": [
  {
   "cell_type": "code",
   "execution_count": 30,
   "id": "20ffe0b2c49a6484",
   "metadata": {
    "ExecuteTime": {
     "end_time": "2024-09-15T09:09:42.412396Z",
     "start_time": "2024-09-15T09:09:42.406078Z"
    }
   },
   "outputs": [],
   "source": [
    "import math"
   ]
  },
  {
   "cell_type": "code",
   "execution_count": 26,
   "id": "initial_id",
   "metadata": {
    "ExecuteTime": {
     "end_time": "2024-09-15T09:06:56.908453Z",
     "start_time": "2024-09-15T09:06:50.670839Z"
    },
    "collapsed": true
   },
   "outputs": [
    {
     "name": "stdout",
     "output_type": "stream",
     "text": [
      "<class 'float'> : 0.0\n",
      "4.0\n",
      "-7.0\n"
     ]
    }
   ],
   "source": [
    "a, b, c = map(float,(input().split()))\n",
    "print(f\"{type(a)} : {a}\")\n",
    "print(b)\n",
    "print(c)"
   ]
  },
  {
   "cell_type": "code",
   "execution_count": 27,
   "id": "c9daf6f4548ab3ad",
   "metadata": {
    "ExecuteTime": {
     "end_time": "2024-09-15T09:07:04.765667Z",
     "start_time": "2024-09-15T09:07:01.786939Z"
    }
   },
   "outputs": [
    {
     "name": "stdout",
     "output_type": "stream",
     "text": [
      "a must be different from 0: \n"
     ]
    }
   ],
   "source": [
    "while a==0:\n",
    "    print(f\"a must be different from 0: \")\n",
    "    a = int(input())"
   ]
  },
  {
   "cell_type": "code",
   "execution_count": 28,
   "id": "404e88eaeca2601b",
   "metadata": {
    "ExecuteTime": {
     "end_time": "2024-09-15T09:07:18.911058Z",
     "start_time": "2024-09-15T09:07:18.900072Z"
    }
   },
   "outputs": [
    {
     "name": "stdout",
     "output_type": "stream",
     "text": [
      "352.0\n"
     ]
    }
   ],
   "source": [
    "Delta = b**2 -4*a*c\n",
    "print(Delta)"
   ]
  },
  {
   "cell_type": "code",
   "id": "b5c3312d7c620bc6",
   "metadata": {
    "ExecuteTime": {
     "end_time": "2024-09-15T09:12:28.806731Z",
     "start_time": "2024-09-15T09:12:28.794174Z"
    }
   },
   "source": [
    "if Delta > 0:\n",
    "    x1 = (-b + math.sqrt(Delta))/(2*a)\n",
    "    x2 = (-b - math.sqrt(Delta))/(2*a)\n",
    "    print(f\"x1= {x1}\\n\"\n",
    "          f\"x2= {x2}\")\n",
    "elif Delta ==0:\n",
    "    x= -b/(2*a)\n",
    "    print(f\"x= {x}\")\n",
    "else:\n",
    "    print(\"No solution\")"
   ],
   "outputs": [
    {
     "name": "stdout",
     "output_type": "stream",
     "text": [
      "x1= 0.6150692933039049\n",
      "x2= -0.9484026266372383\n"
     ]
    }
   ],
   "execution_count": 32
  },
  {
   "metadata": {},
   "cell_type": "code",
   "outputs": [],
   "execution_count": null,
   "source": "",
   "id": "fe4a654934173fb"
  }
 ],
 "metadata": {
  "kernelspec": {
   "display_name": "Python 3",
   "language": "python",
   "name": "python3"
  },
  "language_info": {
   "codemirror_mode": {
    "name": "ipython",
    "version": 3
   },
   "file_extension": ".py",
   "mimetype": "text/x-python",
   "name": "python",
   "nbconvert_exporter": "python",
   "pygments_lexer": "ipython3",
   "version": "3.12.6"
  }
 },
 "nbformat": 4,
 "nbformat_minor": 5
}
