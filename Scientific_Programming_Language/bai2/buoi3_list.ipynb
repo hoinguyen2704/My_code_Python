{
 "cells": [
  {
   "cell_type": "code",
   "execution_count": null,
   "metadata": {},
   "source": [
    "\"\"\"\n",
    "append() -> thêm 1 phần tử vào cuối mảng\n",
    "extend() -> thêm nhiều phần tử vào cuối mảng\n",
    "insert(<vị trí>, <giá trị>) -> thêm 1 phần tử vào vị trí đã chỉ định\n",
    "remove(giá trị) -> xóa phần tử đã chỉ định theo giá trị --- lỗi nếu nó ko có trong list\n",
    "pop() -> xóa phần tử cuối cùng\n",
    "pop(chỉ số) -> xóa phần tử theo chỉ số\n",
    "clear() -> xóa tất cả phần tử\n",
    "reverse() -> chuyển đổi mảng thành đảo ngược\n",
    "copy()-> sao chép mảng\n",
    "count() -> trả về số lần lặp lại của phần tử đc tìm thấy\n",
    "index() -> trả về vị trí của phần tử đc tìm thấy\n",
    "del(a[i]) -> xóa phần tử nếu nó có trong list --- lỗi nếu nó ko có trong list\n",
    "del(list) -> xóa hẳn list\n",
    "max(list) -> trả về max của list\n",
    "min(list) -> trả về min của list\n",
    "\n",
    "\n",
    "set() -> tạo 1 set rỗng\n",
    "add() -> thêm 1 phần tử vào set\n",
    "update() -> thêm nhiều phần tử vào set\n",
    "remove() -> xóa phần tử đã chỉ định\n",
    "discard() -> xóa phần tử đã chỉ định nếu nó có trong set\n",
    "pop() -> xóa và trả về phần tử đầu tiên trong set\n",
    "clear() -> xóa tất cả phần tử trong set\n",
    "copy() -> sao chép set\n",
    "difference() toán tử - -> trả về set chứa phần tử chỉ có trong set1 mà không có ở set2 \n",
    "intersection() toán tử & -> trả về set chứa phần tử chỉ có trong set1 và set2 (GIAO)\n",
    "union() toán tử | -> trả về set chứa phần tử là tập hợp của set1 và set2, bỏ loại bỏ sự trùng lặp (HỢP)\n",
    "issubset()  -> trả về True nếu set1 là subset của set2\n",
    "issuperset() -> trả về True nếu set1 là superset của set2\n",
    "isdisjoint() -> trả về True nếu set1 và set2 không có phần tử nào trùng nhau\n",
    "difference_update() -> cập nhật xóa phần tử chỉ có trong set1 và set2 nhưng không có phần tử nào trùng nhau\n",
    "intersection_update() -> cập nhật set thành các phần tử chỉ có trong set1 và set2 nhưng không có phần tử nào trùng nhau\n",
    "symmetric_difference() -> trả về set chứa phần tử chỉ có trong set1 hoặc set2 nhưng không có phần tử nào trùng nhau\n",
    "symmetric_difference_update() -> cập nhật set thành các phần tử chỉ có trong set1 hoặc set2 nhưng không có phần tử nào trùng nhau\n",
    "\n",
    "\n",
    "dict() -> tạo 1 dict rỗng\n",
    "fromkeys(a[,v]) -> tạo 1 dict với các phần tử là các key lấy từ a và giá trị mặc định là v\n",
    "get() -> trả về giá trị của phần tử đã chỉ định\n",
    "items() -> trả về tất cả các phần tử trong dict\n",
    "keys() -> trả về tất cả các key trong dict\n",
    "values() -> trả về tất cả các giá trị trong dict\n",
    "popitem() -> xóa phần tử đầu tiên trong dict\n",
    "clear() -> xóa tất cả phần tử trong dict\n",
    "copy() -> sao chép dict\n",
    "update() -> Cập nhật từ điển với các cặp giá trị key:value từ một từ điển khác, ghi đè các khóa hiện có\n",
    "setdefault() -> thêm phần tử vào dict nếu nó chưa có trong dict\n",
    "pop() -> xóa phần tử đã chỉ định theo tên key\n",
    "del() -> xóa toàn bộ dict\n",
    "\n",
    "\n",
    ":<10 -> tạo 10 khoảng trống và căn trái string\n",
    ":^10 -> tạo 10 khoảng trống và căn giữa string\n",
    ":>10 -> tạo 10 khoảng trống và căn phải string\n",
    "lower() -> viết thường cả string\n",
    "upper() -> viết hoa cả string\n",
    "capitalize() -> viết đầu tiên chữ hoa\n",
    "title() -> viết tất cả chữ cái đầu hoa\n",
    "\n",
    "\"\"\""
   ],
   "outputs": []
  },
  {
   "cell_type": "code",
   "execution_count": 28,
   "metadata": {},
   "source": [
    "c= [int(input(\"input something: \")) for i in range (int(input(\"length= \")) )]\n",
    "print(c)"
   ],
   "outputs": []
  },
  {
   "cell_type": "code",
   "execution_count": 14,
   "metadata": {},
   "source": [
    "n= int(input(\"n= \"))\n",
    "m= int(input(\"m= \"))"
   ],
   "outputs": []
  },
  {
   "cell_type": "code",
   "execution_count": 25,
   "metadata": {},
   "source": [
    "a= [[0]*m]*n\n",
    "for i in range (n):\n",
    "    for j in range(m):\n",
    "        a[i][j] = int(input(\"input something \"))\n",
    "for i in range(n):\n",
    "    print(f\"{a[i]}\")"
   ],
   "outputs": []
  },
  {
   "cell_type": "code",
   "execution_count": null,
   "metadata": {},
   "source": [],
   "outputs": []
  },
  {
   "cell_type": "code",
   "execution_count": 43,
   "metadata": {},
   "source": [
    "print(len(c))\n",
    "b= c[len(c)-3:len(c)]\n",
    "print(b)\n",
    "# b= c[::2]\n",
    "# print(b)\n",
    "# [start:stop:end]-> cắt lát\n",
    "# \"\"\"\n",
    "# -> truy cập vào các phần tử liên tiếp trong list,\n",
    "# không lấy phần tử ở cận phải (stop)\n",
    "# \"\"\""
   ],
   "outputs": []
  },
  {
   "cell_type": "code",
   "execution_count": 50,
   "metadata": {},
   "source": [
    "def input_something():\n",
    "    n= int(input(\"input len of list: \"))\n",
    "    a=[]\n",
    "    for i in range (n):\n",
    "        a.append(int(input(f\"a[{i}] \")))\n",
    "    return a, n"
   ],
   "outputs": []
  },
  {
   "cell_type": "code",
   "execution_count": 103,
   "metadata": {},
   "source": [
    "a, n = input_something()\n",
    "print(f\"len(a)= {len(a)} \\n{a}\")"
   ],
   "outputs": []
  },
  {
   "cell_type": "code",
   "execution_count": 95,
   "metadata": {},
   "source": [
    "a.sort()\n",
    "# a.reverse()\n",
    "f\"{a}\""
   ],
   "outputs": []
  },
  {
   "cell_type": "code",
   "execution_count": 74,
   "metadata": {},
   "source": [
    "for i in a:\n",
    "    if i %2 ==0:\n",
    "        print(i)\n",
    "        break"
   ],
   "outputs": []
  },
  {
   "cell_type": "code",
   "execution_count": 105,
   "metadata": {},
   "source": [
    "for i in range(len(a.copy())):\n",
    "    if a[i]%2 ==0 and a[i] in a:\n",
    "        del(a[i])\n",
    "print(a)\n",
    "# không tối ưu"
   ],
   "outputs": []
  },
  {
   "cell_type": "code",
   "execution_count": 108,
   "metadata": {},
   "source": [
    "a, n = input_something()\n",
    "b, m = input_something()\n",
    "b.extend(b)\n",
    "#b = b*2\n",
    "print(b)"
   ],
   "outputs": []
  },
  {
   "cell_type": "code",
   "execution_count": 109,
   "metadata": {},
   "source": [
    "print(a)\n",
    "print(b)"
   ],
   "outputs": []
  },
  {
   "cell_type": "code",
   "execution_count": null,
   "metadata": {},
   "source": [],
   "outputs": []
  }
 ],
 "metadata": {
  "kernelspec": {
   "display_name": "Python 3",
   "language": "python",
   "name": "python3"
  },
  "language_info": {
   "codemirror_mode": {
    "name": "ipython",
    "version": 3
   },
   "file_extension": ".py",
   "mimetype": "text/x-python",
   "name": "python",
   "nbconvert_exporter": "python",
   "pygments_lexer": "ipython3",
   "version": "3.12.6"
  }
 },
 "nbformat": 4,
 "nbformat_minor": 2
}
