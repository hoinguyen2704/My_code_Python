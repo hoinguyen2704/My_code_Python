{
 "cells": [
  {
   "cell_type": "code",
   "execution_count": 11,
   "metadata": {},
   "outputs": [],
   "source": [
    "n= int(input(\"số lượng: \"))\n",
    "dict_product = {}\n",
    "for i in range (n):\n",
    "    maHang = input(f\"mã hàng hóa {i+1}: \")\n",
    "    while maHang in dict_product:\n",
    "        maHang = input(f\"mã hàng đã tồn tại, yêu cầu nhập lại: \")\n",
    "    soLuong = int(input(\"số lượng trong kho: \"))\n",
    "    dict_product.update({maHang:soLuong})\n",
    "print(dict_product)"
   ]
  },
  {
   "cell_type": "code",
   "execution_count": 8,
   "metadata": {},
   "outputs": [],
   "source": [
    "m = int(input(\"số lượng nhà cung cấp: \"))\n",
    "dict_supplier = {}\n",
    "for i in range (m):\n",
    "    maNCC = input(f\"mã nhà cung cấp {i+1}: \")\n",
    "    tenNCC = input(f\"tên nhà cung cấp {i+1}: \")\n",
    "    dict_supplier[maNCC]=tenNCC\n",
    "print(dict_supplier)"
   ]
  },
  {
   "cell_type": "code",
   "execution_count": 8,
   "metadata": {},
   "outputs": [],
   "source": [
    "if \"H001\" in dict_product:\n",
    "    dict_product.update({\"H001\":200})\n",
    "else:\n",
    "    dict_product.update({\"H001\":int(input(\"dữ liệu không có\\nNhập số lượng hàng hóa H001: \"))})"
   ]
  },
  {
   "cell_type": "code",
   "execution_count": 12,
   "metadata": {},
   "outputs": [],
   "source": [
    "print(dict_product)"
   ]
  },
  {
   "cell_type": "code",
   "execution_count": 4,
   "metadata": {},
   "outputs": [],
   "source": [
    "#Cách 1: sử dụng comprehension\n",
    "dict_product = {key: value for key,value in dict_product.items() if value!= 0}"
   ]
  },
  {
   "cell_type": "code",
   "execution_count": 6,
   "metadata": {},
   "outputs": [],
   "source": [
    "dict_product = dict(filter(lambda item: item[1] != 0, dict_product.items()))"
   ]
  },
  {
   "cell_type": "code",
   "execution_count": 20,
   "metadata": {},
   "outputs": [],
   "source": [
    "list_key_product = (list(dict_product.keys()))\n",
    "list_value_product = (list(dict_product.values()))\n",
    "print(list_key_product)\n",
    "print(list_value_product)"
   ]
  },
  {
   "cell_type": "code",
   "execution_count": 23,
   "metadata": {},
   "outputs": [],
   "source": [
    "print(list_key_product[len(list_key_product)-3:])\n",
    "print(list_value_product[len(list_value_product)-3:])"
   ]
  },
  {
   "cell_type": "code",
   "execution_count": 13,
   "metadata": {},
   "outputs": [],
   "source": [
    "dict_product.pop(\"H001\")\n"
   ]
  },
  {
   "cell_type": "code",
   "execution_count": null,
   "metadata": {},
   "outputs": [],
   "source": [
    "\"\"\"\n",
    "dict[key]=value -> dict.update({key:value}) -> thêm phần tử mới vào dict\n",
    "my_dict.setdefault('c', 3) -> thêm phần tử mới vào dict và set giá trị mặc định\n",
    "\"\"\""
   ]
  }
 ],
 "metadata": {
  "kernelspec": {
   "display_name": "Python 3",
   "language": "python",
   "name": "python3"
  },
  "language_info": {
   "codemirror_mode": {
    "name": "ipython",
    "version": 3
   },
   "file_extension": ".py",
   "mimetype": "text/x-python",
   "name": "python",
   "nbconvert_exporter": "python",
   "pygments_lexer": "ipython3",
   "version": "3.12.7"
  }
 },
 "nbformat": 4,
 "nbformat_minor": 2
}
