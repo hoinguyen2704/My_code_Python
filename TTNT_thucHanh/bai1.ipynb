{
 "cells": [
  {
   "metadata": {},
   "cell_type": "markdown",
   "source": "Bài 1_ find max",
   "id": "feb8f8d172e9840"
  },
  {
   "metadata": {
    "ExecuteTime": {
     "end_time": "2024-10-03T03:24:25.482136Z",
     "start_time": "2024-10-03T03:24:25.468308Z"
    }
   },
   "cell_type": "code",
   "source": [
    "my_list = list(map(int,input(\"enter something: \").split()))\n",
    "print(f\"my list = {my_list}\")\n",
    "f\"max = {max(my_list)}\""
   ],
   "id": "f53c1ef700b5736f",
   "execution_count": 23,
   "outputs": []
  },
  {
   "metadata": {},
   "cell_type": "markdown",
   "source": "Bài 2_ Giai thua",
   "id": "2fcbe239a37957a2"
  },
  {
   "metadata": {
    "ExecuteTime": {
     "end_time": "2024-10-03T03:13:34.904742Z",
     "start_time": "2024-10-03T03:13:31.139021Z"
    }
   },
   "cell_type": "code",
   "source": [
    "n = int(input(\"input somewthing: \"))\n",
    "def GT(n):\n",
    "    gt = 1\n",
    "    for i in range(1,n+1):\n",
    "        gt*= i\n",
    "    return gt\n",
    "print(f\"giai thua of {n} = {GT(n)}\")"
   ],
   "id": "c24928455f72a45a",
   "execution_count": 11,
   "outputs": []
  },
  {
   "metadata": {},
   "cell_type": "markdown",
   "source": "Bài 3",
   "id": "b7534621e89e9217"
  },
  {
   "metadata": {
    "ExecuteTime": {
     "end_time": "2024-10-03T04:30:04.687584Z",
     "start_time": "2024-10-03T04:30:03.925433Z"
    }
   },
   "cell_type": "code",
   "source": [
    "from math import sqrt\n",
    "n= int(input(\"input something: \"))\n",
    "def isNT(n):\n",
    "    for i in range(2, int(sqrt(n))+1):\n",
    "        if n%i ==0:\n",
    "            return False\n",
    "    return True  if n>=2 else False\n",
    "if isNT(n):\n",
    "    print(f\"{n} là số nguyên tố\")\n",
    "else:\n",
    "    print(f\"{n} không phải số nguyên tố\")"
   ],
   "id": "a8a57cffb5d112e",
   "execution_count": 87,
   "outputs": []
  },
  {
   "metadata": {},
   "cell_type": "markdown",
   "source": "Bài 5_đảo ngược chuỗi",
   "id": "7c34dff6022e4ac"
  },
  {
   "metadata": {
    "ExecuteTime": {
     "end_time": "2024-10-03T03:36:12.323298Z",
     "start_time": "2024-10-03T03:36:12.315953Z"
    }
   },
   "cell_type": "code",
   "source": [
    "str = input(\"input something: \")\n",
    "str_re =\"\"\n",
    "for i in range((len(str)-1), -1, -1):\n",
    "    str_re += str[i]\n",
    "print(str_re)"
   ],
   "id": "238bce16dc61f22c",
   "execution_count": 36,
   "outputs": []
  },
  {
   "metadata": {},
   "cell_type": "markdown",
   "source": "Bài 4 _tam giác",
   "id": "d68a1ebe3e0bdb1e"
  },
  {
   "metadata": {
    "ExecuteTime": {
     "end_time": "2024-10-03T03:36:01.883025Z",
     "start_time": "2024-10-03T03:36:01.866002Z"
    }
   },
   "cell_type": "code",
   "source": [
    "row = int(input(\"row = \"))\n",
    "for i in range(row+1):\n",
    "    for j in range(i+1):\n",
    "        print(f\"*\", end=\"\")\n",
    "    print(f\"\")"
   ],
   "id": "c45fd52663a56f26",
   "execution_count": 35,
   "outputs": []
  },
  {
   "metadata": {},
   "cell_type": "markdown",
   "source": "Bài 6",
   "id": "b063ac81885c4f1a"
  },
  {
   "metadata": {
    "ExecuteTime": {
     "end_time": "2024-10-03T04:32:29.360242Z",
     "start_time": "2024-10-03T04:32:07.809648Z"
    }
   },
   "cell_type": "code",
   "source": [
    "import random\n",
    "n= random.randint(0, 100)\n",
    "pre = int(input(\"dự đoán: \"))\n",
    "while not pre ==n:\n",
    "    print(f\"số cần đoán lớn hơn {n- random.randint(2, 7)} và nhỏ hơn {n+ random.randint(2, 7)}\")\n",
    "    pre = int(input(\"dự đoán: \"))\n",
    "else:\n",
    "    print(f\"congratuation đã đoán đúng số {n}\")"
   ],
   "id": "c24ed089dfa13375",
   "execution_count": 91,
   "outputs": []
  },
  {
   "metadata": {},
   "cell_type": "markdown",
   "source": "Bài 7 _tổng từ 1 đến n",
   "id": "fa017fdc0b8af722"
  },
  {
   "metadata": {
    "ExecuteTime": {
     "end_time": "2024-10-03T04:12:44.797116Z",
     "start_time": "2024-10-03T04:12:43.166558Z"
    }
   },
   "cell_type": "code",
   "source": [
    "n= int(input(\"n= \"))\n",
    "print(f\"n= {n}\")\n",
    "sum =0\n",
    "for i in range(1,n+1):\n",
    "    sum+= i\n",
    "print(f\"sum= {sum}\")"
   ],
   "id": "5e36b639bf94b5e",
   "execution_count": 48,
   "outputs": []
  },
  {
   "metadata": {},
   "cell_type": "markdown",
   "source": "Bài 8_sắp xếp 1 dãy các số",
   "id": "593543efd1e57924"
  },
  {
   "metadata": {
    "ExecuteTime": {
     "end_time": "2024-10-03T04:15:18.106544Z",
     "start_time": "2024-10-03T04:15:18.088400Z"
    }
   },
   "cell_type": "code",
   "source": [
    "my_list = list(map(int,input(\"nhập dãy số cách nhau bằng dấu cách: \").split()))\n",
    "my_list.sort()\n",
    "print(my_list)"
   ],
   "id": "826bb5a7b8893c0a",
   "execution_count": 59,
   "outputs": []
  },
  {
   "metadata": {},
   "cell_type": "markdown",
   "source": "Bài 9",
   "id": "b1505ac696f9c96"
  },
  {
   "metadata": {
    "ExecuteTime": {
     "end_time": "2024-10-03T04:27:15.334862Z",
     "start_time": "2024-10-03T04:27:15.322226Z"
    }
   },
   "cell_type": "code",
   "source": [
    "map = {\n",
    "    0:\"không\",\n",
    "    1:\"một\",\n",
    "    2:\"hai\",\n",
    "    3:\"ba\",\n",
    "    4:\"bốn\",\n",
    "    5:\"năm\",\n",
    "    6:\"sáu\",\n",
    "    7:\"bảy\",\n",
    "    8:\"tám\",\n",
    "    9:\"chín\"\n",
    "}\n",
    "n= int(input(\"n [1,999]= \"))\n",
    "while n <1 or n >999:\n",
    "    n= int(input(\"nhập lại n [1,999]= \"))\n",
    "print(n)\n",
    "tram = n//100\n",
    "chuc = (n%100) //10\n",
    "donvi = n%10\n",
    "str = f\"{map[tram]} trăm, {map[chuc]} chục, {map[donvi]} đơn vị\"\n",
    "print(str)"
   ],
   "id": "58fad2cbf398dda6",
   "execution_count": 83,
   "outputs": []
  }
 ],
 "metadata": {
  "kernelspec": {
   "display_name": "Python 3",
   "language": "python",
   "name": "python3"
  },
  "language_info": {
   "codemirror_mode": {
    "name": "ipython",
    "version": 2
   },
   "file_extension": ".py",
   "mimetype": "text/x-python",
   "name": "python",
   "nbconvert_exporter": "python",
   "pygments_lexer": "ipython2",
   "version": "2.7.6"
  }
 },
 "nbformat": 4,
 "nbformat_minor": 5
}
