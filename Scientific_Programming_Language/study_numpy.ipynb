{
 "cells": [
  {
   "cell_type": "code",
   "execution_count": 1,
   "id": "initial_id",
   "metadata": {
    "ExecuteTime": {
     "end_time": "2024-10-14T05:36:34.203800Z",
     "start_time": "2024-10-14T05:36:34.025469Z"
    },
    "collapsed": true
   },
   "outputs": [],
   "source": [
    "import numpy as np"
   ]
  },
  {
   "cell_type": "code",
   "execution_count": null,
   "id": "8675133a7fb9f923",
   "metadata": {
    "ExecuteTime": {
     "end_time": "2024-10-14T05:37:48.414481Z",
     "start_time": "2024-10-14T05:37:48.404528Z"
    }
   },
   "outputs": [],
   "source": [
    "a= np.array([[1,4,2,4,2],[3,1,3,5,6]])\n",
    "a"
   ]
  },
  {
   "cell_type": "code",
   "execution_count": null,
   "id": "6ff86b227cb481f7",
   "metadata": {
    "ExecuteTime": {
     "end_time": "2024-10-14T05:37:50.944204Z",
     "start_time": "2024-10-14T05:37:50.930524Z"
    }
   },
   "outputs": [],
   "source": [
    "print(a)\n",
    "print(type(a))"
   ]
  },
  {
   "cell_type": "code",
   "execution_count": null,
   "id": "cd4cab9b0c70ebc4",
   "metadata": {
    "ExecuteTime": {
     "end_time": "2024-10-14T05:37:53.276745Z",
     "start_time": "2024-10-14T05:37:53.271177Z"
    }
   },
   "outputs": [],
   "source": [
    "print(a.shape)"
   ]
  },
  {
   "cell_type": "code",
   "execution_count": null,
   "id": "cb4de17be82249a3",
   "metadata": {
    "ExecuteTime": {
     "end_time": "2024-10-14T05:38:10.330637Z",
     "start_time": "2024-10-14T05:38:10.324880Z"
    }
   },
   "outputs": [],
   "source": [
    "print(a[0,2])"
   ]
  },
  {
   "cell_type": "code",
   "execution_count": null,
   "id": "a673a717bbefdf52",
   "metadata": {},
   "outputs": [],
   "source": []
  },
  {
   "cell_type": "markdown",
   "id": "cbdfb2254ac56379",
   "metadata": {},
   "source": [
    "TẠO MẢNG NGẪU NHIÊN"
   ]
  },
  {
   "cell_type": "code",
   "execution_count": 12,
   "id": "29bec62d4c3afdbf",
   "metadata": {
    "ExecuteTime": {
     "end_time": "2024-10-14T05:38:36.002991Z",
     "start_time": "2024-10-14T05:38:35.998439Z"
    }
   },
   "outputs": [],
   "source": [
    "import random"
   ]
  },
  {
   "cell_type": "code",
   "execution_count": null,
   "id": "bd9b80babea50e2d",
   "metadata": {
    "ExecuteTime": {
     "end_time": "2024-10-14T05:40:58.954612Z",
     "start_time": "2024-10-14T05:40:58.945069Z"
    }
   },
   "outputs": [],
   "source": [
    "np.random.random((2,4))"
   ]
  },
  {
   "cell_type": "code",
   "execution_count": null,
   "id": "f7abc4511e65f0b5",
   "metadata": {
    "ExecuteTime": {
     "end_time": "2024-10-14T05:42:14.420608Z",
     "start_time": "2024-10-14T05:42:14.411880Z"
    }
   },
   "outputs": [],
   "source": [
    "#tạo mảng ngẫu nhiên các phần tử ko thay đổi khi chạy lại\n",
    "np.random.seed(11)\n",
    "print(np.random.random((2,4)))"
   ]
  },
  {
   "cell_type": "markdown",
   "id": "3b473c5c09db91fd",
   "metadata": {},
   "source": [
    "MẢNG 3 chiều"
   ]
  },
  {
   "cell_type": "code",
   "execution_count": null,
   "id": "872dc5dcbca954e9",
   "metadata": {
    "ExecuteTime": {
     "end_time": "2024-10-14T06:52:08.664116Z",
     "start_time": "2024-10-14T06:52:08.658199Z"
    }
   },
   "outputs": [],
   "source": [
    "e = np.array([1,4,2,4,34,55,210,56,32,4,3,1,4,5,12])\n",
    "print(len(e))\n",
    "print(e.reshape((5,-1)))"
   ]
  },
  {
   "cell_type": "code",
   "execution_count": null,
   "id": "31311ce3f1ec3001",
   "metadata": {
    "ExecuteTime": {
     "end_time": "2024-10-14T05:57:07.522299Z",
     "start_time": "2024-10-14T05:57:07.512496Z"
    }
   },
   "outputs": [],
   "source": [
    "print(a)\n",
    "print()\n",
    "print(a.reshape(a.shape[0]*a.shape[1]))"
   ]
  },
  {
   "cell_type": "code",
   "execution_count": null,
   "id": "d1101b91e2efe7c0",
   "metadata": {
    "ExecuteTime": {
     "end_time": "2024-10-14T06:02:12.940916Z",
     "start_time": "2024-10-14T06:02:12.933682Z"
    }
   },
   "outputs": [],
   "source": [
    "f = np.arange(7)\n",
    "print(f\"{f}\\n\")\n",
    "print(f\"{type(f)}\\n\")"
   ]
  },
  {
   "cell_type": "markdown",
   "id": "5317c36c80c4b146",
   "metadata": {},
   "source": [
    "SO SÁNH"
   ]
  },
  {
   "cell_type": "code",
   "execution_count": null,
   "id": "5b1023b92664e1ff",
   "metadata": {
    "ExecuteTime": {
     "end_time": "2024-10-14T06:52:16.907054Z",
     "start_time": "2024-10-14T06:52:16.902250Z"
    }
   },
   "outputs": [],
   "source": [
    "print(e)\n",
    "e= e.reshape(3,-1)"
   ]
  },
  {
   "cell_type": "code",
   "execution_count": null,
   "id": "f6386b489c02278d",
   "metadata": {
    "ExecuteTime": {
     "end_time": "2024-10-14T06:53:47.311985Z",
     "start_time": "2024-10-14T06:53:47.305212Z"
    }
   },
   "outputs": [],
   "source": [
    "print(e)\n",
    "print(e.shape)\n",
    "e_2 = np.array([[1,40,2,4,2],[3,1,3,5,6],[2,3,4,5,2]])\n",
    "print(e_2)\n",
    "print(e_2.shape)"
   ]
  },
  {
   "cell_type": "markdown",
   "id": "65a57f46ddcfcf44",
   "metadata": {},
   "source": [
    "lọc các phần tử thỏa mãn 1 điều kiện nào đó"
   ]
  },
  {
   "cell_type": "code",
   "execution_count": null,
   "id": "8f2593d6864485b",
   "metadata": {
    "ExecuteTime": {
     "end_time": "2024-10-14T06:35:04.297880Z",
     "start_time": "2024-10-14T06:35:04.292173Z"
    }
   },
   "outputs": [],
   "source": [
    "e_af = e>5\n",
    "print(e_af)"
   ]
  },
  {
   "cell_type": "code",
   "execution_count": null,
   "id": "fcf80dced5971ea0",
   "metadata": {
    "ExecuteTime": {
     "end_time": "2024-10-14T06:35:09.511755Z",
     "start_time": "2024-10-14T06:35:09.504285Z"
    }
   },
   "outputs": [],
   "source": [
    "e[e>5]"
   ]
  },
  {
   "cell_type": "code",
   "execution_count": null,
   "id": "f17eec85a64164be",
   "metadata": {
    "ExecuteTime": {
     "end_time": "2024-10-14T06:35:26.924856Z",
     "start_time": "2024-10-14T06:35:26.920637Z"
    }
   },
   "outputs": [],
   "source": [
    "print(type(e_af))"
   ]
  },
  {
   "cell_type": "markdown",
   "id": "4f846d9c47ef4d27",
   "metadata": {},
   "source": [
    "dtype"
   ]
  },
  {
   "cell_type": "code",
   "execution_count": null,
   "id": "73a708549581b1d",
   "metadata": {
    "ExecuteTime": {
     "end_time": "2024-10-14T06:35:33.877012Z",
     "start_time": "2024-10-14T06:35:33.869149Z"
    }
   },
   "outputs": [],
   "source": [
    "print(e)\n",
    "\n",
    "e.dtype"
   ]
  },
  {
   "cell_type": "code",
   "execution_count": null,
   "id": "7d4beb2f1cf73ec9",
   "metadata": {
    "ExecuteTime": {
     "end_time": "2024-10-14T06:51:02.824316Z",
     "start_time": "2024-10-14T06:51:02.817750Z"
    }
   },
   "outputs": [],
   "source": [
    "e.reshape(-1,5)"
   ]
  },
  {
   "cell_type": "code",
   "execution_count": null,
   "id": "c61a8be41d7f1ce4",
   "metadata": {
    "ExecuteTime": {
     "end_time": "2024-10-14T06:51:35.251751Z",
     "start_time": "2024-10-14T06:51:35.245636Z"
    }
   },
   "outputs": [],
   "source": [
    "e.reshape((5,-1))\n",
    "print(e)"
   ]
  },
  {
   "cell_type": "code",
   "execution_count": null,
   "id": "32bf06caf931fef3",
   "metadata": {
    "ExecuteTime": {
     "end_time": "2024-10-14T07:06:36.375962Z",
     "start_time": "2024-10-14T07:06:36.370449Z"
    }
   },
   "outputs": [],
   "source": [
    "print(e)\n",
    "print(e_2)\n",
    "print(e*e_2)\n",
    "# e_2= np.append(e_2,[1,4,2,4,2])\n",
    "# e_2 =e_2.reshape((-11, 5))\n",
    "# print(e_2)"
   ]
  },
  {
   "cell_type": "code",
   "execution_count": 150,
   "id": "849692516c200014",
   "metadata": {
    "ExecuteTime": {
     "end_time": "2024-10-14T07:09:21.651801Z",
     "start_time": "2024-10-14T07:09:21.647436Z"
    }
   },
   "outputs": [],
   "source": [
    "e = e.reshape(1, -1)\n",
    "e = np.append(e, [13])\n"
   ]
  },
  {
   "cell_type": "code",
   "execution_count": null,
   "id": "b0893553139db78",
   "metadata": {
    "ExecuteTime": {
     "end_time": "2024-10-14T07:09:47.656989Z",
     "start_time": "2024-10-14T07:09:47.649957Z"
    }
   },
   "outputs": [],
   "source": [
    "e = np.delete(e, -1)\n",
    "print(e)\n",
    "print(len(e))"
   ]
  },
  {
   "cell_type": "code",
   "execution_count": 153,
   "id": "bc7cf7a0971db127",
   "metadata": {
    "ExecuteTime": {
     "end_time": "2024-10-14T07:10:02.059854Z",
     "start_time": "2024-10-14T07:10:02.055822Z"
    }
   },
   "outputs": [],
   "source": [
    "e = e.reshape(4, -1)"
   ]
  },
  {
   "cell_type": "code",
   "execution_count": null,
   "id": "627fc9aa3146cdee",
   "metadata": {
    "ExecuteTime": {
     "end_time": "2024-10-14T07:10:31.263704Z",
     "start_time": "2024-10-14T07:10:31.234979Z"
    }
   },
   "outputs": [],
   "source": [
    "np.linalg.inv(e)"
   ]
  },
  {
   "cell_type": "code",
   "execution_count": null,
   "id": "916961c2d018793e",
   "metadata": {
    "ExecuteTime": {
     "end_time": "2024-10-14T07:11:55.721662Z",
     "start_time": "2024-10-14T07:11:55.714146Z"
    }
   },
   "outputs": [],
   "source": [
    "print(e)\n",
    "e[0] = [1,2,3,10]\n",
    "print(e[0])"
   ]
  },
  {
   "cell_type": "code",
   "execution_count": null,
   "id": "7dfb9a045fac09cd",
   "metadata": {
    "ExecuteTime": {
     "end_time": "2024-10-14T07:11:57.470732Z",
     "start_time": "2024-10-14T07:11:57.463018Z"
    }
   },
   "outputs": [],
   "source": [
    "print(e)"
   ]
  },
  {
   "cell_type": "code",
   "execution_count": null,
   "id": "de3c6c4f2de79e34",
   "metadata": {},
   "outputs": [],
   "source": []
  },
  {
   "cell_type": "markdown",
   "id": "99b3e10dac84fae",
   "metadata": {},
   "source": [
    "LẤY TỔNG MIN MAX"
   ]
  },
  {
   "cell_type": "code",
   "execution_count": null,
   "id": "49e361465fa3f8a",
   "metadata": {
    "ExecuteTime": {
     "end_time": "2024-10-14T07:12:59.844815Z",
     "start_time": "2024-10-14T07:12:59.839020Z"
    }
   },
   "outputs": [],
   "source": [
    "print(e)"
   ]
  },
  {
   "cell_type": "code",
   "execution_count": null,
   "id": "637fa581afbffc5",
   "metadata": {
    "ExecuteTime": {
     "end_time": "2024-10-14T07:24:20.654367Z",
     "start_time": "2024-10-14T07:24:20.644852Z"
    }
   },
   "outputs": [],
   "source": [
    "print(e.sum())\n",
    "print(e.max())\n",
    "print(e.min())\n",
    "print(e)"
   ]
  },
  {
   "cell_type": "markdown",
   "id": "142c9b8c2f196736",
   "metadata": {},
   "source": [
    "nhân ma trận -> a.dot(b)"
   ]
  },
  {
   "cell_type": "code",
   "execution_count": null,
   "id": "6a6ecc87cd906028",
   "metadata": {
    "ExecuteTime": {
     "end_time": "2024-10-14T07:45:12.512901Z",
     "start_time": "2024-10-14T07:45:12.506886Z"
    }
   },
   "outputs": [],
   "source": [
    "a = np.array([[1,3,2,4],\n",
    "              [3,1,3,5]])\n",
    "b = np.array([[3,5],\n",
    "              [10,5],\n",
    "              [3,6],\n",
    "              [7,5]])\n",
    "print(a.dot(b))\n"
   ]
  },
  {
   "cell_type": "markdown",
   "id": "33e76861f68bab4d",
   "metadata": {},
   "source": [
    "MATPLOTLIB->PYPLOT"
   ]
  },
  {
   "cell_type": "code",
   "execution_count": 192,
   "id": "8246f049c19853f7",
   "metadata": {
    "ExecuteTime": {
     "end_time": "2024-10-14T08:30:36.713245Z",
     "start_time": "2024-10-14T08:30:36.705792Z"
    }
   },
   "outputs": [],
   "source": [
    "import matplotlib.pyplot as plt\n",
    "import numpy as np\n",
    "import math"
   ]
  },
  {
   "cell_type": "code",
   "execution_count": 215,
   "id": "a7c566c3f94f12e8",
   "metadata": {
    "ExecuteTime": {
     "end_time": "2024-10-14T08:59:59.583670Z",
     "start_time": "2024-10-14T08:59:59.576841Z"
    }
   },
   "outputs": [],
   "source": [
    "X =np.arange(0,2*math.pi+1, math.pi/15)\n",
    "y= np.sin(X)\n",
    "y_cos = np.cos(X)"
   ]
  },
  {
   "cell_type": "code",
   "execution_count": null,
   "id": "a88708eaac63965d",
   "metadata": {
    "ExecuteTime": {
     "end_time": "2024-10-14T09:08:01.127621Z",
     "start_time": "2024-10-14T09:08:00.933799Z"
    }
   },
   "outputs": [],
   "source": [
    "plt.plot(X, y, color =\"green\")\n",
    "plt.plot(X, y_cos, color =\"red\")\n",
    "plt.title(\"this is sin(x)\")\n",
    "plt.xlabel(\"x value\")\n",
    "plt.ylabel(\"y= sin(x)\")\n",
    "plt.show()\n",
    "#giải giá trị của cần vẽ, hàm giá trị"
   ]
  },
  {
   "cell_type": "markdown",
   "id": "deafe96af59df47f",
   "metadata": {},
   "source": [
    "Vẽ nhiều đồ thị"
   ]
  },
  {
   "cell_type": "code",
   "execution_count": null,
   "id": "d20899d71a32b2ec",
   "metadata": {
    "ExecuteTime": {
     "end_time": "2024-10-14T09:41:33.240150Z",
     "start_time": "2024-10-14T09:41:32.944558Z"
    }
   },
   "outputs": [],
   "source": [
    "plt.subplot(1,2,2) # màn hình 1 dòng và 2 cột, vẽ đồ thị ở cột số 2\n",
    "plt.plot(X, y, color =\"red\")\n",
    "plt.title(\"this is sin x\")\n",
    "plt.xlabel(\"x value\")\n",
    "plt.ylabel(\"y = sin x\")\n",
    "\n",
    "plt.subplot(1,2,1)\n",
    "plt.title(\"this is cos x\")\n",
    "plt.xlabel(\"x value\")\n",
    "plt.ylabel(\"y= cos x\")\n",
    "plt.plot(X, y_cos, color =\"green\")\n",
    "plt.show()"
   ]
  },
  {
   "cell_type": "markdown",
   "id": "a0fed1144642979c",
   "metadata": {},
   "source": [
    "BAR"
   ]
  },
  {
   "cell_type": "code",
   "execution_count": null,
   "id": "c64a2b9d0d334021",
   "metadata": {
    "ExecuteTime": {
     "end_time": "2024-10-14T10:38:32.590668Z",
     "start_time": "2024-10-14T10:38:32.425049Z"
    }
   },
   "outputs": [],
   "source": [
    "list_name =[\"hội\", \"toàn\", \"Thảo\", \"hằng\", \"Quân\"]\n",
    "list_value = [1,10,3,3,5]\n",
    "list_canNang =[1.5, 1.68, 1.70, 1.4, 1.5]\n",
    "plt.bar(list_name, list_value)\n",
    "plt.bar(list_name, list_canNang)\n",
    "plt.title(\"phiếu điểm\")\n",
    "plt.xlabel(\"tên thành viên\")\n",
    "plt.ylabel(\"điểm\")\n",
    "plt.legend([\"màu\", \"cân nặng\"])\n",
    "plt.show()\n",
    "#list label tiêu đề, list giá trị cần vẽ"
   ]
  },
  {
   "cell_type": "markdown",
   "id": "874c528612bd9bab",
   "metadata": {},
   "source": [
    "PANDAS - SEABORN"
   ]
  },
  {
   "cell_type": "code",
   "execution_count": 65,
   "id": "5b263cef4307cbb4",
   "metadata": {
    "ExecuteTime": {
     "end_time": "2024-10-14T10:38:20.076140Z",
     "start_time": "2024-10-14T10:38:20.068633Z"
    }
   },
   "outputs": [],
   "source": [
    "import pandas as pd\n",
    "import matplotlib.pyplot as plt\n",
    "%matplotlib inline"
   ]
  },
  {
   "cell_type": "code",
   "execution_count": 66,
   "id": "af41aa66d799a3c4",
   "metadata": {
    "ExecuteTime": {
     "end_time": "2024-10-14T12:06:14.956252Z",
     "start_time": "2024-10-14T12:06:14.949385Z"
    }
   },
   "outputs": [],
   "source": [
    "path = \"../TTNT/Dulieu_1.csv\"\n",
    "df = pd.read_csv(path)"
   ]
  },
  {
   "cell_type": "code",
   "execution_count": null,
   "id": "c6e7b6b6c472c41",
   "metadata": {
    "ExecuteTime": {
     "end_time": "2024-10-14T12:06:16.472927Z",
     "start_time": "2024-10-14T12:06:16.449839Z"
    }
   },
   "outputs": [],
   "source": [
    "df.head(-1)\n",
    "\n",
    "# Assuming 'df' is your DataFrame\n",
    "num_columns = df.shape[1]\n",
    "num_rows = df.shape[0]\n",
    "\n",
    "print(\"Number of columns:\", num_columns)\n",
    "print(\"Number of rows:\", num_rows)"
   ]
  },
  {
   "cell_type": "code",
   "execution_count": null,
   "id": "c8554796",
   "metadata": {},
   "outputs": [],
   "source": [
    "print(type(df.iloc[:, :-1]))\n",
    "print(df.iloc[:, :-1])\n",
    "print(type(df.loc[:, df.columns[:-1]]))\n",
    "df.loc[:,df.columns[-1]]\n",
    "df.iloc[:,-1]"
   ]
  },
  {
   "cell_type": "code",
   "execution_count": 67,
   "id": "97ea5762",
   "metadata": {},
   "outputs": [],
   "source": [
    "x = df.iloc[:, :-1]\n",
    "y = df.iloc[:,-1]"
   ]
  },
  {
   "cell_type": "code",
   "execution_count": null,
   "id": "789c7285",
   "metadata": {},
   "outputs": [],
   "source": [
    "print(x)\n",
    "print(y)"
   ]
  },
  {
   "cell_type": "code",
   "execution_count": 68,
   "id": "bb641791",
   "metadata": {},
   "outputs": [],
   "source": [
    "\n",
    "import numpy as np\n",
    "from sklearn.preprocessing import LabelEncoder\n",
    "\n",
    "# Assuming 'data' is a pandas DataFrame and 'CLASS' is the column to be encoded\n",
    "y = LabelEncoder().fit_transform(df['CLASS'])"
   ]
  },
  {
   "cell_type": "code",
   "execution_count": 76,
   "id": "4aef4653cc798950",
   "metadata": {
    "jupyter": {
     "is_executing": true
    }
   },
   "outputs": [
    {
     "name": "stdout",
     "output_type": "stream",
     "text": [
      "<class 'pandas.core.frame.DataFrame'>\n"
     ]
    }
   ],
   "source": [
    "print(type(x))"
   ]
  },
  {
   "cell_type": "code",
   "execution_count": 77,
   "id": "8b97c42bb7cd7794",
   "metadata": {},
   "outputs": [],
   "source": [
    "from sklearn.tree import plot_tree\n",
    "from sklearn.model_selection import train_test_split\n",
    "from sklearn import tree\n",
    "from sklearn.tree import DecisionTreeClassifier, DecisionTreeRegressor"
   ]
  },
  {
   "cell_type": "code",
   "execution_count": null,
   "id": "e01fde55",
   "metadata": {},
   "outputs": [],
   "source": []
  }
 ],
 "metadata": {
  "kernelspec": {
   "display_name": "Python 3",
   "language": "python",
   "name": "python3"
  },
  "language_info": {
   "codemirror_mode": {
    "name": "ipython",
    "version": 3
   },
   "file_extension": ".py",
   "mimetype": "text/x-python",
   "name": "python",
   "nbconvert_exporter": "python",
   "pygments_lexer": "ipython3",
   "version": "3.12.7"
  }
 },
 "nbformat": 4,
 "nbformat_minor": 5
}
