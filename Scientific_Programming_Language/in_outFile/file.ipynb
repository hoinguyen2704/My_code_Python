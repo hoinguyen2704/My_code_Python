{
 "cells": [
  {
   "cell_type": "code",
   "execution_count": 1,
   "metadata": {},
   "outputs": [
    {
     "name": "stdout",
     "output_type": "stream",
     "text": [
      "jfbrf\n"
     ]
    }
   ],
   "source": [
    "#đọc từng dòng / đọc từng phần tử\n",
    "#ktra vị trí con trỏ file f.tell()\n",
    "#di chuyển con trỏ tệp f.seek((vị trí))\n",
    "# đọc các phần tử f.read() / f.read(0) đọc toàn bộ tệp\n",
    "# đọc từng dòng f.readline() f.readlines()"
   ]
  },
  {
   "cell_type": "code",
   "execution_count": 2,
   "metadata": {},
   "outputs": [],
   "source": [
    "import random"
   ]
  },
  {
   "cell_type": "code",
   "execution_count": 20,
   "metadata": {},
   "outputs": [],
   "source": [
    "path = 'matrix.txt'"
   ]
  },
  {
   "cell_type": "code",
   "execution_count": 23,
   "metadata": {},
   "outputs": [],
   "source": [
    "n= int(input(\"input something n= \"))\n",
    "m= int(input(\"input something m= \"))\n",
    "a=[]\n",
    "for i in range(n):\n",
    "    row = []\n",
    "    for j in range(m):\n",
    "        k= random.randint(-50,50)\n",
    "        row.append(k)\n",
    "    a.append(row)\n",
    "f= open(file=\"matrix.txt\", mode=\"w\", encoding=\"utf-8\")\n",
    "f.write(f\"{str(n)}\\t{str(m)}\\n\")\n",
    "\n",
    "for i in a:\n",
    "    for j in i:\n",
    "        f.write(f\"{str(j)}\\t\")\n",
    "    f.write(f\"\\n\")\n",
    "f.close()"
   ]
  },
  {
   "cell_type": "code",
   "execution_count": 24,
   "metadata": {},
   "outputs": [
    {
     "name": "stdout",
     "output_type": "stream",
     "text": [
      "[10, 4]\n",
      "[-30, -5, 10, -38]\n",
      "[11, -17, 15, 24]\n",
      "[-35, 18, -31, -30]\n",
      "[48, 49, 42, 21]\n",
      "[-22, 23, 25, 35]\n",
      "[5, 13, 2, -8]\n",
      "[38, -46, 16, -11]\n",
      "[-17, -49, 45, -2]\n",
      "[16, -27, 25, 34]\n"
     ]
    }
   ],
   "source": [
    "f_in = open(path, mode = \"r\", encoding=\"utf-8\")\n",
    "\n",
    "b= []\n",
    "for i in range(n):\n",
    "    b.append(list(map(int, f_in.readline().split())))\n",
    "\n",
    "for i in range(n):\n",
    "    print(b[i])"
   ]
  }
 ],
 "metadata": {
  "kernelspec": {
   "display_name": "Python 3",
   "language": "python",
   "name": "python3"
  },
  "language_info": {
   "codemirror_mode": {
    "name": "ipython",
    "version": 3
   },
   "file_extension": ".py",
   "mimetype": "text/x-python",
   "name": "python",
   "nbconvert_exporter": "python",
   "pygments_lexer": "ipython3",
   "version": "3.12.7"
  }
 },
 "nbformat": 4,
 "nbformat_minor": 2
}
