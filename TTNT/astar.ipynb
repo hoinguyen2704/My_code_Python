{
 "cells": [
  {
   "cell_type": "code",
   "execution_count": 1,
   "metadata": {
    "ExecuteTime": {
     "end_time": "2024-10-05T17:21:30.319439Z",
     "start_time": "2024-10-05T17:21:30.309107Z"
    },
    "executionInfo": {
     "elapsed": 7,
     "status": "ok",
     "timestamp": 1715710707028,
     "user": {
      "displayName": "Hoàng Hoàng",
      "userId": "00394762033841351221"
     },
     "user_tz": -420
    },
    "id": "1RTCLkCHyFWU"
   },
   "outputs": [],
   "source": [
    "import heapq"
   ]
  },
  {
   "cell_type": "code",
   "execution_count": 2,
   "metadata": {
    "ExecuteTime": {
     "end_time": "2024-10-05T17:21:31.743730Z",
     "start_time": "2024-10-05T17:21:31.736691Z"
    },
    "executionInfo": {
     "elapsed": 336,
     "status": "ok",
     "timestamp": 1715713594595,
     "user": {
      "displayName": "Hoàng Hoàng",
      "userId": "00394762033841351221"
     },
     "user_tz": -420
    },
    "id": "XDheYQRarPWs"
   },
   "outputs": [],
   "source": [
    "class Graph:\n",
    "    def __init__(self):\n",
    "        self.visited: list = []\n",
    "        self.graph: dict[str, list] = {}\n",
    "        self.goal: list = []\n",
    "        self.father: dict[str, str] = {}\n",
    "        self.path: list = []\n",
    "        self.heuristic: dict[str, int] = {}\n",
    "        self.g: dict[str, int] = {}"
   ]
  },
  {
   "cell_type": "code",
   "execution_count": 3,
   "metadata": {
    "ExecuteTime": {
     "end_time": "2024-10-05T17:21:32.620933Z",
     "start_time": "2024-10-05T17:21:32.615899Z"
    },
    "executionInfo": {
     "elapsed": 1,
     "status": "ok",
     "timestamp": 1715713596009,
     "user": {
      "displayName": "Hoàng Hoàng",
      "userId": "00394762033841351221"
     },
     "user_tz": -420
    },
    "id": "hJX8AkNDvDTH"
   },
   "outputs": [],
   "source": [
    "def add_node(self, u, v, cost):\n",
    "    if self.graph.get(u) is None:\n",
    "        self.graph[u] = []\n",
    "    self.graph[u].append((v, cost))"
   ]
  },
  {
   "cell_type": "code",
   "execution_count": 4,
   "metadata": {
    "ExecuteTime": {
     "end_time": "2024-10-05T17:21:33.100855Z",
     "start_time": "2024-10-05T17:21:33.095344Z"
    },
    "executionInfo": {
     "elapsed": 3,
     "status": "ok",
     "timestamp": 1715713596991,
     "user": {
      "displayName": "Hoàng Hoàng",
      "userId": "00394762033841351221"
     },
     "user_tz": -420
    },
    "id": "NX_CCQgy3MW0"
   },
   "outputs": [],
   "source": [
    "def add_weight(self, node, weight):\n",
    "    self.heuristic[node] = weight"
   ]
  },
  {
   "cell_type": "code",
   "execution_count": 5,
   "metadata": {
    "ExecuteTime": {
     "end_time": "2024-10-05T17:21:33.560734Z",
     "start_time": "2024-10-05T17:21:33.554018Z"
    },
    "executionInfo": {
     "elapsed": 4,
     "status": "ok",
     "timestamp": 1715713597991,
     "user": {
      "displayName": "Hoàng Hoàng",
      "userId": "00394762033841351221"
     },
     "user_tz": -420
    },
    "id": "m6ebZJNpvD5b"
   },
   "outputs": [],
   "source": [
    "def get_path(self, u):\n",
    "    self.path.append(u)\n",
    "    while self.father.get(u) is not None:\n",
    "        self.path.append(self.father.get(u))\n",
    "        u = self.father.get(u)\n",
    "    self.path.reverse()\n",
    "    return \"->\".join(list(map(str, self.path)))"
   ]
  },
  {
   "cell_type": "code",
   "execution_count": 6,
   "metadata": {
    "ExecuteTime": {
     "end_time": "2024-10-05T17:21:35.144543Z",
     "start_time": "2024-10-05T17:21:35.134507Z"
    },
    "executionInfo": {
     "elapsed": 364,
     "status": "ok",
     "timestamp": 1715713614890,
     "user": {
      "displayName": "Hoàng Hoàng",
      "userId": "00394762033841351221"
     },
     "user_tz": -420
    },
    "id": "SV4OmwxHw5SU"
   },
   "outputs": [],
   "source": [
    "def a_star_search(self, node_start):\n",
    "    open_list = []\n",
    "    close_list = []\n",
    "    heapq.heappush(open_list, (self.heuristic[node_start], node_start))\n",
    "    self.g[node_start] = 0\n",
    "    while len(open_list) > 0:\n",
    "        n = heapq.heappop(open_list)\n",
    "        if n[1] in self.goal:\n",
    "            return n[1]\n",
    "        else:\n",
    "            if self.graph.get(n[1]) is not None:\n",
    "                for m, cost in self.graph.get(n[1]):\n",
    "                    if m not in open_list + close_list:\n",
    "                        self.g[m] = self.g[n[1]] + cost\n",
    "                        f = self.g[m] + self.heuristic[m]\n",
    "                        heapq.heappush(open_list, (f, m))\n",
    "                        self.father[m] = n[1]\n",
    "                    else:\n",
    "                        if self.g[m] > self.g[n[1]] + cost:\n",
    "                            self.father[m] = n[1]\n",
    "                        self.g[m] = min(self.g[n[1]] + cost, self.g[m])\n",
    "        close_list.append(n[1])\n",
    "    return -1\n",
    "\n"
   ]
  },
  {
   "cell_type": "code",
   "execution_count": 7,
   "metadata": {
    "ExecuteTime": {
     "end_time": "2024-10-05T17:21:36.506145Z",
     "start_time": "2024-10-05T17:21:36.499969Z"
    },
    "executionInfo": {
     "elapsed": 4,
     "status": "ok",
     "timestamp": 1715713621646,
     "user": {
      "displayName": "Hoàng Hoàng",
      "userId": "00394762033841351221"
     },
     "user_tz": -420
    },
    "id": "jw3DUl65vFzE"
   },
   "outputs": [],
   "source": [
    "Graph.add_node = add_node\n",
    "Graph.get_path = get_path\n",
    "Graph.a_star_search = a_star_search\n",
    "Graph.add_weight = add_weight"
   ]
  }
 ],
 "metadata": {
  "colab": {
   "authorship_tag": "ABX9TyNu7pIgt8Z2LRCN5bjAOa6f",
   "provenance": []
  },
  "kernelspec": {
   "display_name": "Python 3",
   "language": "python",
   "name": "python3"
  },
  "language_info": {
   "codemirror_mode": {
    "name": "ipython",
    "version": 3
   },
   "file_extension": ".py",
   "mimetype": "text/x-python",
   "name": "python",
   "nbconvert_exporter": "python",
   "pygments_lexer": "ipython3",
   "version": "3.12.7"
  }
 },
 "nbformat": 4,
 "nbformat_minor": 0
}
