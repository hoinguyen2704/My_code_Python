{
 "cells": [
  {
   "cell_type": "code",
   "execution_count": 1,
   "metadata": {},
   "outputs": [],
   "source": [
    "import numpy as np"
   ]
  },
  {
   "cell_type": "code",
   "execution_count": 4,
   "metadata": {},
   "outputs": [],
   "source": [
    "def read_file(filename_name):    \n",
    "    with open(filename_name, 'r') as f:\n",
    "        x_train=[]\n",
    "        while True:\n",
    "            line = f.readline()\n",
    "            if not line: break\n",
    "            x_train.append(line.split())\n",
    "        return np.array(x_train)"
   ]
  },
  {
   "cell_type": "code",
   "execution_count": 30,
   "metadata": {},
   "outputs": [],
   "source": [
    "def get_label(X_train, x_test, labels):\n",
    "    distances = [np.sqrt(np.sum((x_test - x_train)**2)) for x_train in X_train]\n",
    "    nearist = np.argsort(distances)[0]\n",
    "    return str(labels[nearist])"
   ]
  },
  {
   "cell_type": "code",
   "execution_count": 23,
   "metadata": {},
   "outputs": [
    {
     "name": "stdout",
     "output_type": "stream",
     "text": [
      "[[ 181. 5450.    0. ...    0.    0.    0.]\n",
      " [ 239.  486.    0. ...    0.    0.    0.]\n",
      " [ 235. 1337.    0. ...    0.    0.    0.]\n",
      " ...\n",
      " [1032.    0.    0. ...    0.    0.    0.]\n",
      " [1032.    0.    0. ...    0.    0.    0.]\n",
      " [1032.    0.    0. ...    0.    0.    0.]]\n"
     ]
    }
   ],
   "source": [
    "if __name__ == '__main__':\n",
    "    X_train = read_file('./kddcup.data')\n",
    "    label = X_train[:, -1]\n",
    "    X_train = X_train[:, 4:-1].astype(np.float64)\n",
    "    x_test = read_file('./kddcup.test')\n",
    "    label_test = x_test[:, -1]\n",
    "    x_test = x_test[:, 4:-1].astype(np.float64)\n",
    "    print(X_train)"
   ]
  },
  {
   "cell_type": "code",
   "execution_count": 26,
   "metadata": {},
   "outputs": [
    {
     "name": "stdout",
     "output_type": "stream",
     "text": [
      "['normal.' 'normal.' 'normal.' 'normal.' 'normal.' 'smurf.' 'smurf.'\n",
      " 'smurf.' 'smurf.' 'smurf.' 'neptune.' 'neptune.' 'neptune.' 'neptune.'\n",
      " 'neptune.']\n"
     ]
    }
   ],
   "source": [
    "print(label_test)"
   ]
  },
  {
   "cell_type": "code",
   "execution_count": 31,
   "metadata": {},
   "outputs": [
    {
     "name": "stdout",
     "output_type": "stream",
     "text": [
      "['normal.', 'normal.', 'normal.', 'normal.', 'normal.', 'smurf.', 'smurf.', 'smurf.', 'smurf.', 'smurf.', 'neptune.', 'neptune.', 'neptune.', 'neptune.', 'neptune.']\n"
     ]
    }
   ],
   "source": [
    "print(list(get_label(X_train, x, label) for x in x_test))"
   ]
  }
 ],
 "metadata": {
  "kernelspec": {
   "display_name": "Python 3",
   "language": "python",
   "name": "python3"
  },
  "language_info": {
   "codemirror_mode": {
    "name": "ipython",
    "version": 3
   },
   "file_extension": ".py",
   "mimetype": "text/x-python",
   "name": "python",
   "nbconvert_exporter": "python",
   "pygments_lexer": "ipython3",
   "version": "3.11.9"
  }
 },
 "nbformat": 4,
 "nbformat_minor": 2
}
