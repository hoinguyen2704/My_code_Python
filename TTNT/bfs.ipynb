{
 "nbformat": 4,
 "nbformat_minor": 0,
 "metadata": {
  "colab": {
   "provenance": [],
   "authorship_tag": "ABX9TyMGDadyaD/uTKtt1ym2QTE9"
  },
  "kernelspec": {
   "name": "python3",
   "display_name": "Python 3 (ipykernel)",
   "language": "python"
  },
  "language_info": {
   "name": "python"
  }
 },
 "cells": [
  {
   "cell_type": "code",
   "metadata": {
    "id": "Le7hoGkZeyUT",
    "ExecuteTime": {
     "end_time": "2024-10-05T14:15:17.819429Z",
     "start_time": "2024-10-05T14:15:17.813549Z"
    }
   },
   "source": [
    "class Graph:\n",
    "  def __init__(self):\n",
    "    self.visited : list = []\n",
    "    self.graph : dict[str,list] = {}\n",
    "    self.goal = []\n",
    "    self.queue : list = []\n",
    "    self.father :dict = {}\n",
    "    self.path = []"
   ],
   "execution_count": 2,
   "outputs": []
  },
  {
   "cell_type": "markdown",
   "source": [
    "tạo quan hệ giữa node(u) hàng xóm của nó (v)"
   ],
   "metadata": {
    "id": "cWKIwxfOphTy"
   }
  },
  {
   "cell_type": "code",
   "source": [
    "def add_node(self,u,v):\n",
    "    if self.graph.get(u) is None:\n",
    "      self.graph[u] = []\n",
    "    self.graph[u].append(v)"
   ],
   "metadata": {
    "id": "KFQc9Ykgl5Dh",
    "ExecuteTime": {
     "end_time": "2024-10-05T14:15:18.896646Z",
     "start_time": "2024-10-05T14:15:18.891003Z"
    }
   },
   "execution_count": 3,
   "outputs": []
  },
  {
   "cell_type": "markdown",
   "source": [
    "Tạo một function để duyệt qua các phần tử kế nó của điểm đang xét : nếu node đang xét có trong goal thì trả về node tìm thấy, khi đã duyệt hết điểm mà không có điểm nào thuộc goal sẽ trả về -1. Dùng vòng lặp while để lấy ra từng phần tử trong hàng đợi để duyệt"
   ],
   "metadata": {
    "id": "2TjyWS5FmpeZ"
   }
  },
  {
   "cell_type": "code",
   "source": [
    "def travel_bfs(self,v):\n",
    "    self.queue.append(v)\n",
    "    self.visited.append(v)\n",
    "    while len(self.queue) > 0:\n",
    "      node = self.queue.pop(0)\n",
    "      self.visited.append(node)\n",
    "      if node in self.goal:\n",
    "        return node\n",
    "      if self.graph.get(node) is not None:\n",
    "        for neighbour in self.graph[node]:\n",
    "          if neighbour not in self.visited:\n",
    "            self.queue.append(neighbour)\n",
    "            self.father[neighbour] = node\n",
    "    return -1"
   ],
   "metadata": {
    "id": "Bd5-7y5QmAyJ",
    "ExecuteTime": {
     "end_time": "2024-10-05T14:15:19.874166Z",
     "start_time": "2024-10-05T14:15:19.859678Z"
    }
   },
   "execution_count": 4,
   "outputs": []
  },
  {
   "cell_type": "code",
   "source": [
    "def get_path(self,u):\n",
    "  self.path.append(u)\n",
    "  while self.father.get(u) is not None:\n",
    "    self.path.append(self.father.get(u))\n",
    "    u = self.father.get(u)\n",
    "  self.path.reverse()\n",
    "  return \"->\".join(list(map(str,self.path)))"
   ],
   "metadata": {
    "id": "uwQzK3aln1yi",
    "ExecuteTime": {
     "end_time": "2024-10-05T14:15:20.482265Z",
     "start_time": "2024-10-05T14:15:20.476337Z"
    }
   },
   "execution_count": 5,
   "outputs": []
  },
  {
   "cell_type": "code",
   "source": [
    "Graph.add_node = add_node\n",
    "Graph.travel_bfs = travel_bfs\n",
    "Graph.get_path = get_path"
   ],
   "metadata": {
    "id": "dMBZIojhna2S",
    "ExecuteTime": {
     "end_time": "2024-10-05T14:15:20.849846Z",
     "start_time": "2024-10-05T14:15:20.843523Z"
    }
   },
   "execution_count": 6,
   "outputs": []
  },
  {
   "cell_type": "markdown",
   "source": [
    "Tạo ra đồ thị với hàm add_node\n",
    "set goal(điểm cần tìm)"
   ],
   "metadata": {
    "id": "gfwrlN6Bnqxq"
   }
  },
  {
   "cell_type": "code",
   "source": [
    "if __name__ == \"__main__\":\n",
    "    g = Graph()\n",
    "    g.add_node(0, 1)\n",
    "    g.add_node(0, 2)\n",
    "    g.add_node(1, 3)\n",
    "    g.add_node(1, 4)\n",
    "    g.add_node(2, 5)\n",
    "    g.add_node(2, 6)\n",
    "    g.add_node(3, 7)\n",
    "    g.add_node(3, 8)\n",
    "    g.add_node(4, 9)\n",
    "    g.add_node(5, 10)\n",
    "\n",
    "    g.goal = [9,10]\n",
    "    print(\"Following is Breath First Search (starting from vertex 0)\")\n",
    "    element = g.travel_bfs(0)\n",
    "    if element != -1:\n",
    "      print(g.get_path(element))"
   ],
   "metadata": {
    "colab": {
     "base_uri": "https://localhost:8080/"
    },
    "id": "b8zaQeqcmiea",
    "executionInfo": {
     "status": "ok",
     "timestamp": 1713923907056,
     "user_tz": -420,
     "elapsed": 351,
     "user": {
      "displayName": "Hoàng Hoàng",
      "userId": "00394762033841351221"
     }
    },
    "outputId": "5adf7f36-1595-4545-bc9c-756fab22a6cf",
    "ExecuteTime": {
     "end_time": "2024-10-05T14:15:22.063489Z",
     "start_time": "2024-10-05T14:15:22.051130Z"
    }
   },
   "execution_count": 7,
   "outputs": []
  },
  {
   "metadata": {},
   "cell_type": "code",
   "execution_count": null,
   "source": "",
   "outputs": []
  }
 ]
}
