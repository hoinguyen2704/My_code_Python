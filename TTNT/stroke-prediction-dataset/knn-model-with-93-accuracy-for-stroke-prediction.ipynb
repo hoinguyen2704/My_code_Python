{
 "cells": [
  {
   "cell_type": "markdown",
   "id": "9361fd2e",
   "metadata": {
    "papermill": {
     "duration": 0.020587,
     "end_time": "2024-01-22T00:45:30.598538",
     "exception": false,
     "start_time": "2024-01-22T00:45:30.577951",
     "status": "completed"
    },
    "tags": []
   },
   "source": [
    "# **Stroke Prediction using KNN Model**"
   ]
  },
  {
   "cell_type": "markdown",
   "id": "e8bcb2bf",
   "metadata": {
    "papermill": {
     "duration": 0.020723,
     "end_time": "2024-01-22T00:45:30.639559",
     "exception": false,
     "start_time": "2024-01-22T00:45:30.618836",
     "status": "completed"
    },
    "tags": []
   },
   "source": [
    "In this classification task, the **objective** is to predict the presence of a stroke (labeled as 1) or the absence of a stroke (labeled as 0) for a given patient. \n",
    "\n",
    "Features such as gender, age, hypertension, heart disease, marital status, work type, residence type, average glucose level, BMI, and smoking status are the input for the prediction."
   ]
  },
  {
   "cell_type": "markdown",
   "id": "7c89d109",
   "metadata": {
    "papermill": {
     "duration": 0.019864,
     "end_time": "2024-01-22T00:45:30.679714",
     "exception": false,
     "start_time": "2024-01-22T00:45:30.659850",
     "status": "completed"
    },
    "tags": []
   },
   "source": [
    "# Import the libraries"
   ]
  },
  {
   "cell_type": "code",
   "execution_count": 1,
   "id": "415ef82d",
   "metadata": {
    "execution": {
     "iopub.execute_input": "2024-01-22T00:45:30.722612Z",
     "iopub.status.busy": "2024-01-22T00:45:30.722070Z",
     "iopub.status.idle": "2024-01-22T00:45:33.894029Z",
     "shell.execute_reply": "2024-01-22T00:45:33.892807Z"
    },
    "papermill": {
     "duration": 3.197013,
     "end_time": "2024-01-22T00:45:33.896888",
     "exception": false,
     "start_time": "2024-01-22T00:45:30.699875",
     "status": "completed"
    },
    "tags": []
   },
   "outputs": [],
   "source": [
    "import pandas as pd \n",
    "import numpy as np\n",
    "import matplotlib.pyplot as plt\n",
    "import seaborn as sns\n",
    "from imblearn.over_sampling import SMOTE\n",
    "from collections import Counter\n",
    "from sklearn.model_selection import train_test_split\n",
    "from sklearn.preprocessing import StandardScaler\n",
    "from sklearn.neighbors import KNeighborsClassifier\n",
    "from sklearn.model_selection import GridSearchCV\n",
    "from sklearn.metrics import accuracy_score, roc_auc_score, f1_score, recall_score, confusion_matrix\n",
    "from sklearn.model_selection import cross_val_score\n",
    "from prettytable import PrettyTable"
   ]
  },
  {
   "cell_type": "markdown",
   "id": "8f53e031",
   "metadata": {
    "papermill": {
     "duration": 0.020003,
     "end_time": "2024-01-22T00:45:33.938471",
     "exception": false,
     "start_time": "2024-01-22T00:45:33.918468",
     "status": "completed"
    },
    "tags": []
   },
   "source": [
    "# Load the dataset"
   ]
  },
  {
   "cell_type": "code",
   "execution_count": 2,
   "id": "7838ae91",
   "metadata": {
    "execution": {
     "iopub.execute_input": "2024-01-22T00:45:33.983286Z",
     "iopub.status.busy": "2024-01-22T00:45:33.982727Z",
     "iopub.status.idle": "2024-01-22T00:45:34.027792Z",
     "shell.execute_reply": "2024-01-22T00:45:34.026691Z"
    },
    "papermill": {
     "duration": 0.07086,
     "end_time": "2024-01-22T00:45:34.030485",
     "exception": false,
     "start_time": "2024-01-22T00:45:33.959625",
     "status": "completed"
    },
    "tags": []
   },
   "outputs": [],
   "source": [
    "df = pd.read_csv('/kaggle/input/stroke-prediction-dataset/healthcare-dataset-stroke-data.csv')"
   ]
  },
  {
   "cell_type": "markdown",
   "id": "662d1721",
   "metadata": {
    "papermill": {
     "duration": 0.019855,
     "end_time": "2024-01-22T00:45:34.071306",
     "exception": false,
     "start_time": "2024-01-22T00:45:34.051451",
     "status": "completed"
    },
    "tags": []
   },
   "source": [
    "# EDA"
   ]
  },
  {
   "cell_type": "code",
   "execution_count": 3,
   "id": "8f40fa1a",
   "metadata": {
    "execution": {
     "iopub.execute_input": "2024-01-22T00:45:34.114674Z",
     "iopub.status.busy": "2024-01-22T00:45:34.113473Z",
     "iopub.status.idle": "2024-01-22T00:45:34.154562Z",
     "shell.execute_reply": "2024-01-22T00:45:34.153415Z"
    },
    "papermill": {
     "duration": 0.065233,
     "end_time": "2024-01-22T00:45:34.156902",
     "exception": false,
     "start_time": "2024-01-22T00:45:34.091669",
     "status": "completed"
    },
    "tags": []
   },
   "outputs": [
    {
     "data": {
      "text/html": [
       "<div>\n",
       "<style scoped>\n",
       "    .dataframe tbody tr th:only-of-type {\n",
       "        vertical-align: middle;\n",
       "    }\n",
       "\n",
       "    .dataframe tbody tr th {\n",
       "        vertical-align: top;\n",
       "    }\n",
       "\n",
       "    .dataframe thead th {\n",
       "        text-align: right;\n",
       "    }\n",
       "</style>\n",
       "<table border=\"1\" class=\"dataframe\">\n",
       "  <thead>\n",
       "    <tr style=\"text-align: right;\">\n",
       "      <th></th>\n",
       "      <th>id</th>\n",
       "      <th>gender</th>\n",
       "      <th>age</th>\n",
       "      <th>hypertension</th>\n",
       "      <th>heart_disease</th>\n",
       "      <th>ever_married</th>\n",
       "      <th>work_type</th>\n",
       "      <th>Residence_type</th>\n",
       "      <th>avg_glucose_level</th>\n",
       "      <th>bmi</th>\n",
       "      <th>smoking_status</th>\n",
       "      <th>stroke</th>\n",
       "    </tr>\n",
       "  </thead>\n",
       "  <tbody>\n",
       "    <tr>\n",
       "      <th>0</th>\n",
       "      <td>9046</td>\n",
       "      <td>Male</td>\n",
       "      <td>67.0</td>\n",
       "      <td>0</td>\n",
       "      <td>1</td>\n",
       "      <td>Yes</td>\n",
       "      <td>Private</td>\n",
       "      <td>Urban</td>\n",
       "      <td>228.69</td>\n",
       "      <td>36.6</td>\n",
       "      <td>formerly smoked</td>\n",
       "      <td>1</td>\n",
       "    </tr>\n",
       "    <tr>\n",
       "      <th>1</th>\n",
       "      <td>51676</td>\n",
       "      <td>Female</td>\n",
       "      <td>61.0</td>\n",
       "      <td>0</td>\n",
       "      <td>0</td>\n",
       "      <td>Yes</td>\n",
       "      <td>Self-employed</td>\n",
       "      <td>Rural</td>\n",
       "      <td>202.21</td>\n",
       "      <td>NaN</td>\n",
       "      <td>never smoked</td>\n",
       "      <td>1</td>\n",
       "    </tr>\n",
       "    <tr>\n",
       "      <th>2</th>\n",
       "      <td>31112</td>\n",
       "      <td>Male</td>\n",
       "      <td>80.0</td>\n",
       "      <td>0</td>\n",
       "      <td>1</td>\n",
       "      <td>Yes</td>\n",
       "      <td>Private</td>\n",
       "      <td>Rural</td>\n",
       "      <td>105.92</td>\n",
       "      <td>32.5</td>\n",
       "      <td>never smoked</td>\n",
       "      <td>1</td>\n",
       "    </tr>\n",
       "    <tr>\n",
       "      <th>3</th>\n",
       "      <td>60182</td>\n",
       "      <td>Female</td>\n",
       "      <td>49.0</td>\n",
       "      <td>0</td>\n",
       "      <td>0</td>\n",
       "      <td>Yes</td>\n",
       "      <td>Private</td>\n",
       "      <td>Urban</td>\n",
       "      <td>171.23</td>\n",
       "      <td>34.4</td>\n",
       "      <td>smokes</td>\n",
       "      <td>1</td>\n",
       "    </tr>\n",
       "    <tr>\n",
       "      <th>4</th>\n",
       "      <td>1665</td>\n",
       "      <td>Female</td>\n",
       "      <td>79.0</td>\n",
       "      <td>1</td>\n",
       "      <td>0</td>\n",
       "      <td>Yes</td>\n",
       "      <td>Self-employed</td>\n",
       "      <td>Rural</td>\n",
       "      <td>174.12</td>\n",
       "      <td>24.0</td>\n",
       "      <td>never smoked</td>\n",
       "      <td>1</td>\n",
       "    </tr>\n",
       "    <tr>\n",
       "      <th>...</th>\n",
       "      <td>...</td>\n",
       "      <td>...</td>\n",
       "      <td>...</td>\n",
       "      <td>...</td>\n",
       "      <td>...</td>\n",
       "      <td>...</td>\n",
       "      <td>...</td>\n",
       "      <td>...</td>\n",
       "      <td>...</td>\n",
       "      <td>...</td>\n",
       "      <td>...</td>\n",
       "      <td>...</td>\n",
       "    </tr>\n",
       "    <tr>\n",
       "      <th>5105</th>\n",
       "      <td>18234</td>\n",
       "      <td>Female</td>\n",
       "      <td>80.0</td>\n",
       "      <td>1</td>\n",
       "      <td>0</td>\n",
       "      <td>Yes</td>\n",
       "      <td>Private</td>\n",
       "      <td>Urban</td>\n",
       "      <td>83.75</td>\n",
       "      <td>NaN</td>\n",
       "      <td>never smoked</td>\n",
       "      <td>0</td>\n",
       "    </tr>\n",
       "    <tr>\n",
       "      <th>5106</th>\n",
       "      <td>44873</td>\n",
       "      <td>Female</td>\n",
       "      <td>81.0</td>\n",
       "      <td>0</td>\n",
       "      <td>0</td>\n",
       "      <td>Yes</td>\n",
       "      <td>Self-employed</td>\n",
       "      <td>Urban</td>\n",
       "      <td>125.20</td>\n",
       "      <td>40.0</td>\n",
       "      <td>never smoked</td>\n",
       "      <td>0</td>\n",
       "    </tr>\n",
       "    <tr>\n",
       "      <th>5107</th>\n",
       "      <td>19723</td>\n",
       "      <td>Female</td>\n",
       "      <td>35.0</td>\n",
       "      <td>0</td>\n",
       "      <td>0</td>\n",
       "      <td>Yes</td>\n",
       "      <td>Self-employed</td>\n",
       "      <td>Rural</td>\n",
       "      <td>82.99</td>\n",
       "      <td>30.6</td>\n",
       "      <td>never smoked</td>\n",
       "      <td>0</td>\n",
       "    </tr>\n",
       "    <tr>\n",
       "      <th>5108</th>\n",
       "      <td>37544</td>\n",
       "      <td>Male</td>\n",
       "      <td>51.0</td>\n",
       "      <td>0</td>\n",
       "      <td>0</td>\n",
       "      <td>Yes</td>\n",
       "      <td>Private</td>\n",
       "      <td>Rural</td>\n",
       "      <td>166.29</td>\n",
       "      <td>25.6</td>\n",
       "      <td>formerly smoked</td>\n",
       "      <td>0</td>\n",
       "    </tr>\n",
       "    <tr>\n",
       "      <th>5109</th>\n",
       "      <td>44679</td>\n",
       "      <td>Female</td>\n",
       "      <td>44.0</td>\n",
       "      <td>0</td>\n",
       "      <td>0</td>\n",
       "      <td>Yes</td>\n",
       "      <td>Govt_job</td>\n",
       "      <td>Urban</td>\n",
       "      <td>85.28</td>\n",
       "      <td>26.2</td>\n",
       "      <td>Unknown</td>\n",
       "      <td>0</td>\n",
       "    </tr>\n",
       "  </tbody>\n",
       "</table>\n",
       "<p>5110 rows × 12 columns</p>\n",
       "</div>"
      ],
      "text/plain": [
       "         id  gender   age  hypertension  heart_disease ever_married  \\\n",
       "0      9046    Male  67.0             0              1          Yes   \n",
       "1     51676  Female  61.0             0              0          Yes   \n",
       "2     31112    Male  80.0             0              1          Yes   \n",
       "3     60182  Female  49.0             0              0          Yes   \n",
       "4      1665  Female  79.0             1              0          Yes   \n",
       "...     ...     ...   ...           ...            ...          ...   \n",
       "5105  18234  Female  80.0             1              0          Yes   \n",
       "5106  44873  Female  81.0             0              0          Yes   \n",
       "5107  19723  Female  35.0             0              0          Yes   \n",
       "5108  37544    Male  51.0             0              0          Yes   \n",
       "5109  44679  Female  44.0             0              0          Yes   \n",
       "\n",
       "          work_type Residence_type  avg_glucose_level   bmi   smoking_status  \\\n",
       "0           Private          Urban             228.69  36.6  formerly smoked   \n",
       "1     Self-employed          Rural             202.21   NaN     never smoked   \n",
       "2           Private          Rural             105.92  32.5     never smoked   \n",
       "3           Private          Urban             171.23  34.4           smokes   \n",
       "4     Self-employed          Rural             174.12  24.0     never smoked   \n",
       "...             ...            ...                ...   ...              ...   \n",
       "5105        Private          Urban              83.75   NaN     never smoked   \n",
       "5106  Self-employed          Urban             125.20  40.0     never smoked   \n",
       "5107  Self-employed          Rural              82.99  30.6     never smoked   \n",
       "5108        Private          Rural             166.29  25.6  formerly smoked   \n",
       "5109       Govt_job          Urban              85.28  26.2          Unknown   \n",
       "\n",
       "      stroke  \n",
       "0          1  \n",
       "1          1  \n",
       "2          1  \n",
       "3          1  \n",
       "4          1  \n",
       "...      ...  \n",
       "5105       0  \n",
       "5106       0  \n",
       "5107       0  \n",
       "5108       0  \n",
       "5109       0  \n",
       "\n",
       "[5110 rows x 12 columns]"
      ]
     },
     "execution_count": 3,
     "metadata": {},
     "output_type": "execute_result"
    }
   ],
   "source": [
    "df"
   ]
  },
  {
   "cell_type": "markdown",
   "id": "d27fa7e2",
   "metadata": {
    "papermill": {
     "duration": 0.020466,
     "end_time": "2024-01-22T00:45:34.198091",
     "exception": false,
     "start_time": "2024-01-22T00:45:34.177625",
     "status": "completed"
    },
    "tags": []
   },
   "source": [
    "Remove the first column, \"ID,\" since it doesn't contribute valuable information."
   ]
  },
  {
   "cell_type": "code",
   "execution_count": 4,
   "id": "ec3fd4fa",
   "metadata": {
    "execution": {
     "iopub.execute_input": "2024-01-22T00:45:34.241233Z",
     "iopub.status.busy": "2024-01-22T00:45:34.240760Z",
     "iopub.status.idle": "2024-01-22T00:45:34.250527Z",
     "shell.execute_reply": "2024-01-22T00:45:34.249165Z"
    },
    "papermill": {
     "duration": 0.034099,
     "end_time": "2024-01-22T00:45:34.252782",
     "exception": false,
     "start_time": "2024-01-22T00:45:34.218683",
     "status": "completed"
    },
    "tags": []
   },
   "outputs": [],
   "source": [
    "df = df.drop('id', axis=1)"
   ]
  },
  {
   "cell_type": "markdown",
   "id": "512e6a23",
   "metadata": {
    "papermill": {
     "duration": 0.084834,
     "end_time": "2024-01-22T00:45:34.358212",
     "exception": false,
     "start_time": "2024-01-22T00:45:34.273378",
     "status": "completed"
    },
    "tags": []
   },
   "source": [
    "**Check for duplicates**"
   ]
  },
  {
   "cell_type": "code",
   "execution_count": 5,
   "id": "70b8388a",
   "metadata": {
    "execution": {
     "iopub.execute_input": "2024-01-22T00:45:34.402701Z",
     "iopub.status.busy": "2024-01-22T00:45:34.401910Z",
     "iopub.status.idle": "2024-01-22T00:45:34.425015Z",
     "shell.execute_reply": "2024-01-22T00:45:34.424156Z"
    },
    "papermill": {
     "duration": 0.047864,
     "end_time": "2024-01-22T00:45:34.427197",
     "exception": false,
     "start_time": "2024-01-22T00:45:34.379333",
     "status": "completed"
    },
    "tags": []
   },
   "outputs": [
    {
     "data": {
      "text/html": [
       "<div>\n",
       "<style scoped>\n",
       "    .dataframe tbody tr th:only-of-type {\n",
       "        vertical-align: middle;\n",
       "    }\n",
       "\n",
       "    .dataframe tbody tr th {\n",
       "        vertical-align: top;\n",
       "    }\n",
       "\n",
       "    .dataframe thead th {\n",
       "        text-align: right;\n",
       "    }\n",
       "</style>\n",
       "<table border=\"1\" class=\"dataframe\">\n",
       "  <thead>\n",
       "    <tr style=\"text-align: right;\">\n",
       "      <th></th>\n",
       "      <th>gender</th>\n",
       "      <th>age</th>\n",
       "      <th>hypertension</th>\n",
       "      <th>heart_disease</th>\n",
       "      <th>ever_married</th>\n",
       "      <th>work_type</th>\n",
       "      <th>Residence_type</th>\n",
       "      <th>avg_glucose_level</th>\n",
       "      <th>bmi</th>\n",
       "      <th>smoking_status</th>\n",
       "      <th>stroke</th>\n",
       "    </tr>\n",
       "  </thead>\n",
       "  <tbody>\n",
       "  </tbody>\n",
       "</table>\n",
       "</div>"
      ],
      "text/plain": [
       "Empty DataFrame\n",
       "Columns: [gender, age, hypertension, heart_disease, ever_married, work_type, Residence_type, avg_glucose_level, bmi, smoking_status, stroke]\n",
       "Index: []"
      ]
     },
     "execution_count": 5,
     "metadata": {},
     "output_type": "execute_result"
    }
   ],
   "source": [
    "duplicates = df[df.duplicated()]\n",
    "duplicates"
   ]
  },
  {
   "cell_type": "markdown",
   "id": "e38a6cec",
   "metadata": {
    "papermill": {
     "duration": 0.020889,
     "end_time": "2024-01-22T00:45:34.469285",
     "exception": false,
     "start_time": "2024-01-22T00:45:34.448396",
     "status": "completed"
    },
    "tags": []
   },
   "source": [
    "No duplicates in the dataset."
   ]
  },
  {
   "cell_type": "markdown",
   "id": "f9b90593",
   "metadata": {
    "papermill": {
     "duration": 0.020706,
     "end_time": "2024-01-22T00:45:34.511102",
     "exception": false,
     "start_time": "2024-01-22T00:45:34.490396",
     "status": "completed"
    },
    "tags": []
   },
   "source": [
    "**Check for missing values**"
   ]
  },
  {
   "cell_type": "code",
   "execution_count": 6,
   "id": "44db3943",
   "metadata": {
    "execution": {
     "iopub.execute_input": "2024-01-22T00:45:34.555658Z",
     "iopub.status.busy": "2024-01-22T00:45:34.554742Z",
     "iopub.status.idle": "2024-01-22T00:45:34.566768Z",
     "shell.execute_reply": "2024-01-22T00:45:34.565233Z"
    },
    "papermill": {
     "duration": 0.037419,
     "end_time": "2024-01-22T00:45:34.569605",
     "exception": false,
     "start_time": "2024-01-22T00:45:34.532186",
     "status": "completed"
    },
    "tags": []
   },
   "outputs": [
    {
     "name": "stdout",
     "output_type": "stream",
     "text": [
      "Missing values:\n",
      "gender                 0\n",
      "age                    0\n",
      "hypertension           0\n",
      "heart_disease          0\n",
      "ever_married           0\n",
      "work_type              0\n",
      "Residence_type         0\n",
      "avg_glucose_level      0\n",
      "bmi                  201\n",
      "smoking_status         0\n",
      "stroke                 0\n",
      "dtype: int64\n"
     ]
    }
   ],
   "source": [
    "# Check for missing values\n",
    "print(\"Missing values:\")\n",
    "print(df.isnull().sum())"
   ]
  },
  {
   "cell_type": "markdown",
   "id": "cc46e49a",
   "metadata": {
    "papermill": {
     "duration": 0.021766,
     "end_time": "2024-01-22T00:45:34.613661",
     "exception": false,
     "start_time": "2024-01-22T00:45:34.591895",
     "status": "completed"
    },
    "tags": []
   },
   "source": [
    "There are 201 entries with missing values for BMI. Let's eliminate the rows from the DataFrame, df, where BMI is not available."
   ]
  },
  {
   "cell_type": "code",
   "execution_count": 7,
   "id": "d7ba9519",
   "metadata": {
    "execution": {
     "iopub.execute_input": "2024-01-22T00:45:34.658935Z",
     "iopub.status.busy": "2024-01-22T00:45:34.658477Z",
     "iopub.status.idle": "2024-01-22T00:45:34.666838Z",
     "shell.execute_reply": "2024-01-22T00:45:34.665817Z"
    },
    "papermill": {
     "duration": 0.033904,
     "end_time": "2024-01-22T00:45:34.669318",
     "exception": false,
     "start_time": "2024-01-22T00:45:34.635414",
     "status": "completed"
    },
    "tags": []
   },
   "outputs": [],
   "source": [
    "df.dropna(subset=['bmi'], inplace=True)"
   ]
  },
  {
   "cell_type": "markdown",
   "id": "e1235f92",
   "metadata": {
    "papermill": {
     "duration": 0.021122,
     "end_time": "2024-01-22T00:45:34.711792",
     "exception": false,
     "start_time": "2024-01-22T00:45:34.690670",
     "status": "completed"
    },
    "tags": []
   },
   "source": [
    "**Check the data types**"
   ]
  },
  {
   "cell_type": "code",
   "execution_count": 8,
   "id": "670ae839",
   "metadata": {
    "execution": {
     "iopub.execute_input": "2024-01-22T00:45:34.756801Z",
     "iopub.status.busy": "2024-01-22T00:45:34.756404Z",
     "iopub.status.idle": "2024-01-22T00:45:34.764606Z",
     "shell.execute_reply": "2024-01-22T00:45:34.763511Z"
    },
    "papermill": {
     "duration": 0.033821,
     "end_time": "2024-01-22T00:45:34.767281",
     "exception": false,
     "start_time": "2024-01-22T00:45:34.733460",
     "status": "completed"
    },
    "tags": []
   },
   "outputs": [
    {
     "data": {
      "text/plain": [
       "gender                object\n",
       "age                  float64\n",
       "hypertension           int64\n",
       "heart_disease          int64\n",
       "ever_married          object\n",
       "work_type             object\n",
       "Residence_type        object\n",
       "avg_glucose_level    float64\n",
       "bmi                  float64\n",
       "smoking_status        object\n",
       "stroke                 int64\n",
       "dtype: object"
      ]
     },
     "execution_count": 8,
     "metadata": {},
     "output_type": "execute_result"
    }
   ],
   "source": [
    "df.dtypes"
   ]
  },
  {
   "cell_type": "markdown",
   "id": "651b586c",
   "metadata": {
    "papermill": {
     "duration": 0.021277,
     "end_time": "2024-01-22T00:45:34.810581",
     "exception": false,
     "start_time": "2024-01-22T00:45:34.789304",
     "status": "completed"
    },
    "tags": []
   },
   "source": [
    "The categorical values are: 'gender', 'ever_married', 'work_type', 'Residence_type', 'smoking_status'"
   ]
  },
  {
   "cell_type": "markdown",
   "id": "50b725a5",
   "metadata": {
    "papermill": {
     "duration": 0.021533,
     "end_time": "2024-01-22T00:45:34.853544",
     "exception": false,
     "start_time": "2024-01-22T00:45:34.832011",
     "status": "completed"
    },
    "tags": []
   },
   "source": [
    "**Map numerical values to the categorical variables**"
   ]
  },
  {
   "cell_type": "markdown",
   "id": "3a638f02",
   "metadata": {
    "papermill": {
     "duration": 0.022093,
     "end_time": "2024-01-22T00:45:34.897640",
     "exception": false,
     "start_time": "2024-01-22T00:45:34.875547",
     "status": "completed"
    },
    "tags": []
   },
   "source": [
    "1. Gender"
   ]
  },
  {
   "cell_type": "code",
   "execution_count": 9,
   "id": "df773b00",
   "metadata": {
    "execution": {
     "iopub.execute_input": "2024-01-22T00:45:34.943841Z",
     "iopub.status.busy": "2024-01-22T00:45:34.943065Z",
     "iopub.status.idle": "2024-01-22T00:45:34.949307Z",
     "shell.execute_reply": "2024-01-22T00:45:34.948429Z"
    },
    "papermill": {
     "duration": 0.032768,
     "end_time": "2024-01-22T00:45:34.951955",
     "exception": false,
     "start_time": "2024-01-22T00:45:34.919187",
     "status": "completed"
    },
    "tags": []
   },
   "outputs": [
    {
     "name": "stdout",
     "output_type": "stream",
     "text": [
      "Categories are: ['Male' 'Female' 'Other']\n"
     ]
    }
   ],
   "source": [
    "Unique_gender = df['gender'].unique()\n",
    "print(\"Categories are:\", Unique_gender)"
   ]
  },
  {
   "cell_type": "markdown",
   "id": "2cce155b",
   "metadata": {
    "papermill": {
     "duration": 0.022118,
     "end_time": "2024-01-22T00:45:34.995853",
     "exception": false,
     "start_time": "2024-01-22T00:45:34.973735",
     "status": "completed"
    },
    "tags": []
   },
   "source": [
    "Let's identify how many patients are labeled as \"Other.\""
   ]
  },
  {
   "cell_type": "code",
   "execution_count": 10,
   "id": "54b52ab3",
   "metadata": {
    "execution": {
     "iopub.execute_input": "2024-01-22T00:45:35.041468Z",
     "iopub.status.busy": "2024-01-22T00:45:35.041000Z",
     "iopub.status.idle": "2024-01-22T00:45:35.053654Z",
     "shell.execute_reply": "2024-01-22T00:45:35.052360Z"
    },
    "papermill": {
     "duration": 0.038281,
     "end_time": "2024-01-22T00:45:35.056171",
     "exception": false,
     "start_time": "2024-01-22T00:45:35.017890",
     "status": "completed"
    },
    "tags": []
   },
   "outputs": [
    {
     "data": {
      "text/plain": [
       "gender\n",
       "Female    2897\n",
       "Male      2011\n",
       "Other        1\n",
       "Name: count, dtype: int64"
      ]
     },
     "execution_count": 10,
     "metadata": {},
     "output_type": "execute_result"
    }
   ],
   "source": [
    "category_counts = df['gender'].value_counts()\n",
    "category_counts"
   ]
  },
  {
   "cell_type": "markdown",
   "id": "3e8f102b",
   "metadata": {
    "papermill": {
     "duration": 0.021529,
     "end_time": "2024-01-22T00:45:35.099573",
     "exception": false,
     "start_time": "2024-01-22T00:45:35.078044",
     "status": "completed"
    },
    "tags": []
   },
   "source": [
    "There is only one patient labeled as 'Other.' Let's exclude that row from the dataset."
   ]
  },
  {
   "cell_type": "code",
   "execution_count": 11,
   "id": "e78bc390",
   "metadata": {
    "execution": {
     "iopub.execute_input": "2024-01-22T00:45:35.145801Z",
     "iopub.status.busy": "2024-01-22T00:45:35.144439Z",
     "iopub.status.idle": "2024-01-22T00:45:35.153027Z",
     "shell.execute_reply": "2024-01-22T00:45:35.152226Z"
    },
    "papermill": {
     "duration": 0.034061,
     "end_time": "2024-01-22T00:45:35.155570",
     "exception": false,
     "start_time": "2024-01-22T00:45:35.121509",
     "status": "completed"
    },
    "tags": []
   },
   "outputs": [],
   "source": [
    "df.drop(df[df['gender'] == 'Other'].index, inplace=True)"
   ]
  },
  {
   "cell_type": "code",
   "execution_count": 12,
   "id": "eee67af9",
   "metadata": {
    "execution": {
     "iopub.execute_input": "2024-01-22T00:45:35.201180Z",
     "iopub.status.busy": "2024-01-22T00:45:35.200759Z",
     "iopub.status.idle": "2024-01-22T00:45:35.207870Z",
     "shell.execute_reply": "2024-01-22T00:45:35.207050Z"
    },
    "papermill": {
     "duration": 0.032235,
     "end_time": "2024-01-22T00:45:35.210112",
     "exception": false,
     "start_time": "2024-01-22T00:45:35.177877",
     "status": "completed"
    },
    "tags": []
   },
   "outputs": [],
   "source": [
    "#mapping\n",
    "gender_mapping={'Female': 0,'Male': 1}\n",
    "df['gender']=df['gender'].map(gender_mapping)"
   ]
  },
  {
   "cell_type": "markdown",
   "id": "b5d344df",
   "metadata": {
    "papermill": {
     "duration": 0.021313,
     "end_time": "2024-01-22T00:45:35.253083",
     "exception": false,
     "start_time": "2024-01-22T00:45:35.231770",
     "status": "completed"
    },
    "tags": []
   },
   "source": [
    "2. ever_married"
   ]
  },
  {
   "cell_type": "code",
   "execution_count": 13,
   "id": "90aecc52",
   "metadata": {
    "execution": {
     "iopub.execute_input": "2024-01-22T00:45:35.298759Z",
     "iopub.status.busy": "2024-01-22T00:45:35.297709Z",
     "iopub.status.idle": "2024-01-22T00:45:35.304574Z",
     "shell.execute_reply": "2024-01-22T00:45:35.303571Z"
    },
    "papermill": {
     "duration": 0.031834,
     "end_time": "2024-01-22T00:45:35.306703",
     "exception": false,
     "start_time": "2024-01-22T00:45:35.274869",
     "status": "completed"
    },
    "tags": []
   },
   "outputs": [
    {
     "name": "stdout",
     "output_type": "stream",
     "text": [
      "Categories are: ['Yes' 'No']\n"
     ]
    }
   ],
   "source": [
    "Unique_ever_married = df['ever_married'].unique()\n",
    "print(\"Categories are:\", Unique_ever_married)"
   ]
  },
  {
   "cell_type": "code",
   "execution_count": 14,
   "id": "17ca76e0",
   "metadata": {
    "execution": {
     "iopub.execute_input": "2024-01-22T00:45:35.361538Z",
     "iopub.status.busy": "2024-01-22T00:45:35.360725Z",
     "iopub.status.idle": "2024-01-22T00:45:35.370660Z",
     "shell.execute_reply": "2024-01-22T00:45:35.369123Z"
    },
    "papermill": {
     "duration": 0.043155,
     "end_time": "2024-01-22T00:45:35.374678",
     "exception": false,
     "start_time": "2024-01-22T00:45:35.331523",
     "status": "completed"
    },
    "tags": []
   },
   "outputs": [
    {
     "data": {
      "text/plain": [
       "ever_married\n",
       "Yes    3204\n",
       "No     1704\n",
       "Name: count, dtype: int64"
      ]
     },
     "execution_count": 14,
     "metadata": {},
     "output_type": "execute_result"
    }
   ],
   "source": [
    "category_counts = df['ever_married'].value_counts()\n",
    "category_counts"
   ]
  },
  {
   "cell_type": "code",
   "execution_count": 15,
   "id": "d5087c11",
   "metadata": {
    "execution": {
     "iopub.execute_input": "2024-01-22T00:45:35.433207Z",
     "iopub.status.busy": "2024-01-22T00:45:35.432289Z",
     "iopub.status.idle": "2024-01-22T00:45:35.442372Z",
     "shell.execute_reply": "2024-01-22T00:45:35.441208Z"
    },
    "papermill": {
     "duration": 0.045705,
     "end_time": "2024-01-22T00:45:35.445694",
     "exception": false,
     "start_time": "2024-01-22T00:45:35.399989",
     "status": "completed"
    },
    "tags": []
   },
   "outputs": [],
   "source": [
    "#mapping\n",
    "ever_married_mapping={'Yes': 0,'No': 1}\n",
    "df['ever_married']=df['ever_married'].map(ever_married_mapping)"
   ]
  },
  {
   "cell_type": "markdown",
   "id": "b619bbc1",
   "metadata": {
    "papermill": {
     "duration": 0.021648,
     "end_time": "2024-01-22T00:45:35.494216",
     "exception": false,
     "start_time": "2024-01-22T00:45:35.472568",
     "status": "completed"
    },
    "tags": []
   },
   "source": [
    "3. work_type"
   ]
  },
  {
   "cell_type": "code",
   "execution_count": 16,
   "id": "2c113561",
   "metadata": {
    "execution": {
     "iopub.execute_input": "2024-01-22T00:45:35.540541Z",
     "iopub.status.busy": "2024-01-22T00:45:35.539738Z",
     "iopub.status.idle": "2024-01-22T00:45:35.546275Z",
     "shell.execute_reply": "2024-01-22T00:45:35.545092Z"
    },
    "papermill": {
     "duration": 0.032095,
     "end_time": "2024-01-22T00:45:35.548463",
     "exception": false,
     "start_time": "2024-01-22T00:45:35.516368",
     "status": "completed"
    },
    "tags": []
   },
   "outputs": [
    {
     "name": "stdout",
     "output_type": "stream",
     "text": [
      "Categories are: ['Private' 'Self-employed' 'Govt_job' 'children' 'Never_worked']\n"
     ]
    }
   ],
   "source": [
    "Unique_work_type = df['work_type'].unique()\n",
    "print(\"Categories are:\", Unique_work_type)"
   ]
  },
  {
   "cell_type": "code",
   "execution_count": 17,
   "id": "9bea08f3",
   "metadata": {
    "execution": {
     "iopub.execute_input": "2024-01-22T00:45:35.594554Z",
     "iopub.status.busy": "2024-01-22T00:45:35.594134Z",
     "iopub.status.idle": "2024-01-22T00:45:35.603512Z",
     "shell.execute_reply": "2024-01-22T00:45:35.602347Z"
    },
    "papermill": {
     "duration": 0.035325,
     "end_time": "2024-01-22T00:45:35.605828",
     "exception": false,
     "start_time": "2024-01-22T00:45:35.570503",
     "status": "completed"
    },
    "tags": []
   },
   "outputs": [
    {
     "data": {
      "text/plain": [
       "work_type\n",
       "Private          2810\n",
       "Self-employed     775\n",
       "children          671\n",
       "Govt_job          630\n",
       "Never_worked       22\n",
       "Name: count, dtype: int64"
      ]
     },
     "execution_count": 17,
     "metadata": {},
     "output_type": "execute_result"
    }
   ],
   "source": [
    "category_counts = df['work_type'].value_counts()\n",
    "category_counts"
   ]
  },
  {
   "cell_type": "code",
   "execution_count": 18,
   "id": "adb7fc41",
   "metadata": {
    "execution": {
     "iopub.execute_input": "2024-01-22T00:45:35.653580Z",
     "iopub.status.busy": "2024-01-22T00:45:35.652836Z",
     "iopub.status.idle": "2024-01-22T00:45:35.659819Z",
     "shell.execute_reply": "2024-01-22T00:45:35.659018Z"
    },
    "papermill": {
     "duration": 0.033593,
     "end_time": "2024-01-22T00:45:35.662175",
     "exception": false,
     "start_time": "2024-01-22T00:45:35.628582",
     "status": "completed"
    },
    "tags": []
   },
   "outputs": [],
   "source": [
    "#mapping\n",
    "work_type_mapping={'Private': 0,'Self-employed': 1, 'children': 2,'Govt_job':3, 'Never_worked': 4 }\n",
    "df['work_type']=df['work_type'].map(work_type_mapping)"
   ]
  },
  {
   "cell_type": "markdown",
   "id": "cd70a6b1",
   "metadata": {
    "papermill": {
     "duration": 0.022091,
     "end_time": "2024-01-22T00:45:35.706503",
     "exception": false,
     "start_time": "2024-01-22T00:45:35.684412",
     "status": "completed"
    },
    "tags": []
   },
   "source": [
    "4. Residence_type"
   ]
  },
  {
   "cell_type": "code",
   "execution_count": 19,
   "id": "8e7d5c41",
   "metadata": {
    "execution": {
     "iopub.execute_input": "2024-01-22T00:45:35.760726Z",
     "iopub.status.busy": "2024-01-22T00:45:35.759714Z",
     "iopub.status.idle": "2024-01-22T00:45:35.767782Z",
     "shell.execute_reply": "2024-01-22T00:45:35.766361Z"
    },
    "papermill": {
     "duration": 0.036857,
     "end_time": "2024-01-22T00:45:35.770210",
     "exception": false,
     "start_time": "2024-01-22T00:45:35.733353",
     "status": "completed"
    },
    "tags": []
   },
   "outputs": [
    {
     "name": "stdout",
     "output_type": "stream",
     "text": [
      "Categories are: ['Urban' 'Rural']\n"
     ]
    }
   ],
   "source": [
    "Unique_Residence_type = df['Residence_type'].unique()\n",
    "print(\"Categories are:\", Unique_Residence_type)"
   ]
  },
  {
   "cell_type": "code",
   "execution_count": 20,
   "id": "1ad7765c",
   "metadata": {
    "execution": {
     "iopub.execute_input": "2024-01-22T00:45:35.820301Z",
     "iopub.status.busy": "2024-01-22T00:45:35.819525Z",
     "iopub.status.idle": "2024-01-22T00:45:35.828335Z",
     "shell.execute_reply": "2024-01-22T00:45:35.827366Z"
    },
    "papermill": {
     "duration": 0.037642,
     "end_time": "2024-01-22T00:45:35.830714",
     "exception": false,
     "start_time": "2024-01-22T00:45:35.793072",
     "status": "completed"
    },
    "tags": []
   },
   "outputs": [
    {
     "data": {
      "text/plain": [
       "Residence_type\n",
       "Urban    2490\n",
       "Rural    2418\n",
       "Name: count, dtype: int64"
      ]
     },
     "execution_count": 20,
     "metadata": {},
     "output_type": "execute_result"
    }
   ],
   "source": [
    "category_counts = df['Residence_type'].value_counts()\n",
    "category_counts"
   ]
  },
  {
   "cell_type": "code",
   "execution_count": 21,
   "id": "602a0427",
   "metadata": {
    "execution": {
     "iopub.execute_input": "2024-01-22T00:45:35.879129Z",
     "iopub.status.busy": "2024-01-22T00:45:35.878365Z",
     "iopub.status.idle": "2024-01-22T00:45:35.884903Z",
     "shell.execute_reply": "2024-01-22T00:45:35.884056Z"
    },
    "papermill": {
     "duration": 0.033603,
     "end_time": "2024-01-22T00:45:35.887362",
     "exception": false,
     "start_time": "2024-01-22T00:45:35.853759",
     "status": "completed"
    },
    "tags": []
   },
   "outputs": [],
   "source": [
    "#mapping\n",
    "Residence_type_mapping={'Urban': 0,'Rural': 1}\n",
    "df['Residence_type']=df['Residence_type'].map(Residence_type_mapping)"
   ]
  },
  {
   "cell_type": "markdown",
   "id": "e050f8ea",
   "metadata": {
    "papermill": {
     "duration": 0.022262,
     "end_time": "2024-01-22T00:45:35.932463",
     "exception": false,
     "start_time": "2024-01-22T00:45:35.910201",
     "status": "completed"
    },
    "tags": []
   },
   "source": [
    "5. smoking_status"
   ]
  },
  {
   "cell_type": "code",
   "execution_count": 22,
   "id": "3560b3ef",
   "metadata": {
    "execution": {
     "iopub.execute_input": "2024-01-22T00:45:35.979967Z",
     "iopub.status.busy": "2024-01-22T00:45:35.979203Z",
     "iopub.status.idle": "2024-01-22T00:45:35.985693Z",
     "shell.execute_reply": "2024-01-22T00:45:35.984601Z"
    },
    "papermill": {
     "duration": 0.032696,
     "end_time": "2024-01-22T00:45:35.987947",
     "exception": false,
     "start_time": "2024-01-22T00:45:35.955251",
     "status": "completed"
    },
    "tags": []
   },
   "outputs": [
    {
     "name": "stdout",
     "output_type": "stream",
     "text": [
      "Categories are: ['formerly smoked' 'never smoked' 'smokes' 'Unknown']\n"
     ]
    }
   ],
   "source": [
    "Unique_smoking_status = df['smoking_status'].unique()\n",
    "print(\"Categories are:\", Unique_smoking_status)"
   ]
  },
  {
   "cell_type": "code",
   "execution_count": 23,
   "id": "341d2bed",
   "metadata": {
    "execution": {
     "iopub.execute_input": "2024-01-22T00:45:36.035426Z",
     "iopub.status.busy": "2024-01-22T00:45:36.034971Z",
     "iopub.status.idle": "2024-01-22T00:45:36.044484Z",
     "shell.execute_reply": "2024-01-22T00:45:36.043339Z"
    },
    "papermill": {
     "duration": 0.036271,
     "end_time": "2024-01-22T00:45:36.046810",
     "exception": false,
     "start_time": "2024-01-22T00:45:36.010539",
     "status": "completed"
    },
    "tags": []
   },
   "outputs": [
    {
     "data": {
      "text/plain": [
       "smoking_status\n",
       "never smoked       1852\n",
       "Unknown            1483\n",
       "formerly smoked     836\n",
       "smokes              737\n",
       "Name: count, dtype: int64"
      ]
     },
     "execution_count": 23,
     "metadata": {},
     "output_type": "execute_result"
    }
   ],
   "source": [
    "category_counts = df['smoking_status'].value_counts()\n",
    "category_counts"
   ]
  },
  {
   "cell_type": "code",
   "execution_count": 24,
   "id": "f1bb6de2",
   "metadata": {
    "execution": {
     "iopub.execute_input": "2024-01-22T00:45:36.095699Z",
     "iopub.status.busy": "2024-01-22T00:45:36.095223Z",
     "iopub.status.idle": "2024-01-22T00:45:36.103009Z",
     "shell.execute_reply": "2024-01-22T00:45:36.101769Z"
    },
    "papermill": {
     "duration": 0.034979,
     "end_time": "2024-01-22T00:45:36.105438",
     "exception": false,
     "start_time": "2024-01-22T00:45:36.070459",
     "status": "completed"
    },
    "tags": []
   },
   "outputs": [],
   "source": [
    "#mapping\n",
    "smoking_status_mapping={'never smoked': 0,'Unknown': 1, 'formerly smoked': 2,'smokes':3}\n",
    "df['smoking_status']=df['smoking_status'].map(smoking_status_mapping)"
   ]
  },
  {
   "cell_type": "markdown",
   "id": "0db8525f",
   "metadata": {
    "papermill": {
     "duration": 0.027988,
     "end_time": "2024-01-22T00:45:36.159214",
     "exception": false,
     "start_time": "2024-01-22T00:45:36.131226",
     "status": "completed"
    },
    "tags": []
   },
   "source": [
    "The categorical variables have now been transformed into numerical variables."
   ]
  },
  {
   "cell_type": "markdown",
   "id": "4f97276e",
   "metadata": {
    "papermill": {
     "duration": 0.025444,
     "end_time": "2024-01-22T00:45:36.208181",
     "exception": false,
     "start_time": "2024-01-22T00:45:36.182737",
     "status": "completed"
    },
    "tags": []
   },
   "source": [
    "**Correlation matrix of variables.**"
   ]
  },
  {
   "cell_type": "code",
   "execution_count": 25,
   "id": "10887be8",
   "metadata": {
    "execution": {
     "iopub.execute_input": "2024-01-22T00:45:36.256927Z",
     "iopub.status.busy": "2024-01-22T00:45:36.256094Z",
     "iopub.status.idle": "2024-01-22T00:45:37.068560Z",
     "shell.execute_reply": "2024-01-22T00:45:37.067636Z"
    },
    "papermill": {
     "duration": 0.841217,
     "end_time": "2024-01-22T00:45:37.072213",
     "exception": false,
     "start_time": "2024-01-22T00:45:36.230996",
     "status": "completed"
    },
    "tags": []
   },
   "outputs": [
    {
     "data": {
      "image/png": "[encoded data removed]",
      "text/plain": [
       "<Figure size 1200x800 with 2 Axes>"
      ]
     },
     "metadata": {},
     "output_type": "display_data"
    }
   ],
   "source": [
    "plt.figure(figsize=(12, 8))\n",
    "correlation_matrix = df.corr()\n",
    "sns.heatmap(correlation_matrix, annot=True, cmap='coolwarm', fmt=\".2f\")\n",
    "plt.title('Correlation Matrix')\n",
    "plt.show()\n"
   ]
  },
  {
   "cell_type": "markdown",
   "id": "60d208da",
   "metadata": {
    "papermill": {
     "duration": 0.024489,
     "end_time": "2024-01-22T00:45:37.122061",
     "exception": false,
     "start_time": "2024-01-22T00:45:37.097572",
     "status": "completed"
    },
    "tags": []
   },
   "source": [
    "Marital status and age display a significant positive correlation, which indicates potential collinearity. To mitigate this collinearity, I plan to eliminate one of the variables, specifically \"ever_married.\""
   ]
  },
  {
   "cell_type": "markdown",
   "id": "7fef52f1",
   "metadata": {
    "papermill": {
     "duration": 0.024476,
     "end_time": "2024-01-22T00:45:37.171627",
     "exception": false,
     "start_time": "2024-01-22T00:45:37.147151",
     "status": "completed"
    },
    "tags": []
   },
   "source": [
    "**Understand the target variable, stroke.**"
   ]
  },
  {
   "cell_type": "code",
   "execution_count": 26,
   "id": "a6b79b32",
   "metadata": {
    "execution": {
     "iopub.execute_input": "2024-01-22T00:45:37.223865Z",
     "iopub.status.busy": "2024-01-22T00:45:37.223109Z",
     "iopub.status.idle": "2024-01-22T00:45:37.463785Z",
     "shell.execute_reply": "2024-01-22T00:45:37.462669Z"
    },
    "papermill": {
     "duration": 0.269941,
     "end_time": "2024-01-22T00:45:37.466406",
     "exception": false,
     "start_time": "2024-01-22T00:45:37.196465",
     "status": "completed"
    },
    "tags": []
   },
   "outputs": [
    {
     "data": {
      "image/png": "[encoded data removed]",
      "text/plain": [
       "<Figure size 640x480 with 1 Axes>"
      ]
     },
     "metadata": {},
     "output_type": "display_data"
    },
    {
     "name": "stdout",
     "output_type": "stream",
     "text": [
      "Count of each unique value in 'counts':\n",
      "stroke\n",
      "0    4699\n",
      "1     209\n",
      "Name: count, dtype: int64\n"
     ]
    }
   ],
   "source": [
    "sns.countplot(x='stroke', data=df)\n",
    "plt.title('Distribution of stroke counts')\n",
    "plt.xlabel('Stroke Status')\n",
    "plt.ylabel('Count')\n",
    "plt.show()\n",
    "\n",
    "counts = df['stroke'].value_counts()\n",
    "\n",
    "# Display the count of each unique value\n",
    "print(\"Count of each unique value in 'counts':\")\n",
    "print(counts)"
   ]
  },
  {
   "cell_type": "markdown",
   "id": "1a7e013f",
   "metadata": {
    "papermill": {
     "duration": 0.025066,
     "end_time": "2024-01-22T00:45:37.517591",
     "exception": false,
     "start_time": "2024-01-22T00:45:37.492525",
     "status": "completed"
    },
    "tags": []
   },
   "source": [
    "Class imbalance is noted."
   ]
  },
  {
   "cell_type": "markdown",
   "id": "1383de5d",
   "metadata": {
    "papermill": {
     "duration": 0.025734,
     "end_time": "2024-01-22T00:45:37.569146",
     "exception": false,
     "start_time": "2024-01-22T00:45:37.543412",
     "status": "completed"
    },
    "tags": []
   },
   "source": [
    "# Feature selection"
   ]
  },
  {
   "cell_type": "code",
   "execution_count": 27,
   "id": "57e16561",
   "metadata": {
    "execution": {
     "iopub.execute_input": "2024-01-22T00:45:37.623539Z",
     "iopub.status.busy": "2024-01-22T00:45:37.623091Z",
     "iopub.status.idle": "2024-01-22T00:45:37.629996Z",
     "shell.execute_reply": "2024-01-22T00:45:37.628670Z"
    },
    "papermill": {
     "duration": 0.037464,
     "end_time": "2024-01-22T00:45:37.632661",
     "exception": false,
     "start_time": "2024-01-22T00:45:37.595197",
     "status": "completed"
    },
    "tags": []
   },
   "outputs": [],
   "source": [
    "x = df.drop(['ever_married','stroke'], axis=1)\n",
    "y = df.stroke"
   ]
  },
  {
   "cell_type": "markdown",
   "id": "0166f215",
   "metadata": {
    "papermill": {
     "duration": 0.026278,
     "end_time": "2024-01-22T00:45:37.684678",
     "exception": false,
     "start_time": "2024-01-22T00:45:37.658400",
     "status": "completed"
    },
    "tags": []
   },
   "source": [
    "# Standardize the data"
   ]
  },
  {
   "cell_type": "code",
   "execution_count": 28,
   "id": "1b04993e",
   "metadata": {
    "execution": {
     "iopub.execute_input": "2024-01-22T00:45:37.739868Z",
     "iopub.status.busy": "2024-01-22T00:45:37.738125Z",
     "iopub.status.idle": "2024-01-22T00:45:37.750654Z",
     "shell.execute_reply": "2024-01-22T00:45:37.749147Z"
    },
    "papermill": {
     "duration": 0.042874,
     "end_time": "2024-01-22T00:45:37.753965",
     "exception": false,
     "start_time": "2024-01-22T00:45:37.711091",
     "status": "completed"
    },
    "tags": []
   },
   "outputs": [],
   "source": [
    "sc = StandardScaler()\n",
    "x = sc.fit_transform(x)"
   ]
  },
  {
   "cell_type": "markdown",
   "id": "3a6defef",
   "metadata": {
    "papermill": {
     "duration": 0.025978,
     "end_time": "2024-01-22T00:45:37.807290",
     "exception": false,
     "start_time": "2024-01-22T00:45:37.781312",
     "status": "completed"
    },
    "tags": []
   },
   "source": [
    "To address the issue of class imbalance, apply Synthetic Minority Over-sampling Technique (SMOTE)."
   ]
  },
  {
   "cell_type": "code",
   "execution_count": 29,
   "id": "5d6b590f",
   "metadata": {
    "execution": {
     "iopub.execute_input": "2024-01-22T00:45:37.861158Z",
     "iopub.status.busy": "2024-01-22T00:45:37.860339Z",
     "iopub.status.idle": "2024-01-22T00:45:38.328679Z",
     "shell.execute_reply": "2024-01-22T00:45:38.327528Z"
    },
    "papermill": {
     "duration": 0.498329,
     "end_time": "2024-01-22T00:45:38.331245",
     "exception": false,
     "start_time": "2024-01-22T00:45:37.832916",
     "status": "completed"
    },
    "tags": []
   },
   "outputs": [
    {
     "data": {
      "image/png": "[encoded data removed]",
      "text/plain": [
       "<Figure size 1000x500 with 2 Axes>"
      ]
     },
     "metadata": {},
     "output_type": "display_data"
    }
   ],
   "source": [
    "# Apply SMOTE to balance the class distribution\n",
    "smote = SMOTE(random_state=42)\n",
    "x_resampled, y_resampled = smote.fit_resample(x, y)\n",
    "fig, axes = plt.subplots(1, 2, figsize=(10, 5))\n",
    "\n",
    "# Before SMOTE\n",
    "sns.countplot(x=y, ax=axes[0])\n",
    "axes[0].set_title('Class Distribution Before SMOTE')\n",
    "axes[0].set_xlabel('Target Variable, stroke')\n",
    "axes[0].set_ylabel('Count')\n",
    "\n",
    "# After SMOTE\n",
    "sns.countplot(x=y_resampled, ax=axes[1])\n",
    "axes[1].set_title('Class Distribution After SMOTE')\n",
    "axes[1].set_xlabel('Target Variable, stroke')\n",
    "axes[1].set_ylabel('Count')\n",
    "plt.tight_layout()\n",
    "plt.show()"
   ]
  },
  {
   "cell_type": "markdown",
   "id": "bb7dff09",
   "metadata": {
    "papermill": {
     "duration": 0.026184,
     "end_time": "2024-01-22T00:45:38.383374",
     "exception": false,
     "start_time": "2024-01-22T00:45:38.357190",
     "status": "completed"
    },
    "tags": []
   },
   "source": [
    "# Initialize the KNN classifier"
   ]
  },
  {
   "cell_type": "code",
   "execution_count": 30,
   "id": "6c89de40",
   "metadata": {
    "execution": {
     "iopub.execute_input": "2024-01-22T00:45:38.440937Z",
     "iopub.status.busy": "2024-01-22T00:45:38.440522Z",
     "iopub.status.idle": "2024-01-22T00:45:38.447972Z",
     "shell.execute_reply": "2024-01-22T00:45:38.447009Z"
    },
    "papermill": {
     "duration": 0.038097,
     "end_time": "2024-01-22T00:45:38.450558",
     "exception": false,
     "start_time": "2024-01-22T00:45:38.412461",
     "status": "completed"
    },
    "tags": []
   },
   "outputs": [],
   "source": [
    "#  Split the resampled data into training and testing sets\n",
    "x_train, x_test, y_train, y_test = train_test_split(x_resampled, y_resampled, test_size=0.2, random_state=42)"
   ]
  },
  {
   "cell_type": "code",
   "execution_count": 31,
   "id": "02649849",
   "metadata": {
    "execution": {
     "iopub.execute_input": "2024-01-22T00:45:38.505601Z",
     "iopub.status.busy": "2024-01-22T00:45:38.504836Z",
     "iopub.status.idle": "2024-01-22T00:45:38.512230Z",
     "shell.execute_reply": "2024-01-22T00:45:38.510878Z"
    },
    "papermill": {
     "duration": 0.037566,
     "end_time": "2024-01-22T00:45:38.514480",
     "exception": false,
     "start_time": "2024-01-22T00:45:38.476914",
     "status": "completed"
    },
    "tags": []
   },
   "outputs": [
    {
     "name": "stdout",
     "output_type": "stream",
     "text": [
      "Shape of x_train: (7518, 9)\n",
      "Shape of x_test: (1880, 9)\n",
      "Shape of y_train: (7518,)\n",
      "Shape of y_test: (1880,)\n"
     ]
    }
   ],
   "source": [
    "# Assuming you have these variables already defined in your code\n",
    "print(\"Shape of x_train:\", x_train.shape)\n",
    "print(\"Shape of x_test:\", x_test.shape)\n",
    "print(\"Shape of y_train:\", y_train.shape)\n",
    "print(\"Shape of y_test:\", y_test.shape)"
   ]
  },
  {
   "cell_type": "code",
   "execution_count": 32,
   "id": "7edab6f7",
   "metadata": {
    "execution": {
     "iopub.execute_input": "2024-01-22T00:45:38.567810Z",
     "iopub.status.busy": "2024-01-22T00:45:38.567407Z",
     "iopub.status.idle": "2024-01-22T00:45:39.322986Z",
     "shell.execute_reply": "2024-01-22T00:45:39.321926Z"
    },
    "papermill": {
     "duration": 0.785816,
     "end_time": "2024-01-22T00:45:39.325921",
     "exception": false,
     "start_time": "2024-01-22T00:45:38.540105",
     "status": "completed"
    },
    "tags": []
   },
   "outputs": [],
   "source": [
    "# Initialize KNN classifier with default parameters\n",
    "knn_model = KNeighborsClassifier()\n",
    "\n",
    "# Train the KNN model on the training set\n",
    "knn_model.fit(x_train, y_train)\n",
    "\n",
    "# Predict on the training set\n",
    "y_train_pred = knn_model.predict(x_train)"
   ]
  },
  {
   "cell_type": "markdown",
   "id": "5b422410",
   "metadata": {
    "papermill": {
     "duration": 0.026282,
     "end_time": "2024-01-22T00:45:39.379345",
     "exception": false,
     "start_time": "2024-01-22T00:45:39.353063",
     "status": "completed"
    },
    "tags": []
   },
   "source": [
    "Evaluate and print results"
   ]
  },
  {
   "cell_type": "code",
   "execution_count": 33,
   "id": "5de40a67",
   "metadata": {
    "execution": {
     "iopub.execute_input": "2024-01-22T00:45:39.433933Z",
     "iopub.status.busy": "2024-01-22T00:45:39.433543Z",
     "iopub.status.idle": "2024-01-22T00:45:40.443910Z",
     "shell.execute_reply": "2024-01-22T00:45:40.442601Z"
    },
    "papermill": {
     "duration": 1.040526,
     "end_time": "2024-01-22T00:45:40.446722",
     "exception": false,
     "start_time": "2024-01-22T00:45:39.406196",
     "status": "completed"
    },
    "tags": []
   },
   "outputs": [
    {
     "name": "stdout",
     "output_type": "stream",
     "text": [
      "KNN Model - Training Metrics:\n",
      "+----------+-------+\n",
      "|  Metric  | Value |\n",
      "+----------+-------+\n",
      "| Accuracy | 0.934 |\n",
      "|   AUC    | 0.934 |\n",
      "| F1 Score | 0.937 |\n",
      "|  Recall  | 0.994 |\n",
      "+----------+-------+\n",
      "==================================================\n",
      "\n",
      "KNN Model - Testing Metrics:\n",
      "+----------+-------+\n",
      "|  Metric  | Value |\n",
      "+----------+-------+\n",
      "| Accuracy | 0.916 |\n",
      "|   AUC    | 0.914 |\n",
      "| F1 Score | 0.923 |\n",
      "|  Recall  | 0.992 |\n",
      "+----------+-------+\n",
      "==================================================\n",
      "KNN Model - Cross-Validation Scores:\n",
      "CV Mean Accuracy: 0.895\n",
      "CV Standard Deviation: 0.007\n",
      "==================================================\n"
     ]
    }
   ],
   "source": [
    "# Evaluate the KNN model on the training set\n",
    "train_accuracy = accuracy_score(y_train, y_train_pred)\n",
    "train_auc = roc_auc_score(y_train, y_train_pred)\n",
    "train_f1 = f1_score(y_train, y_train_pred)\n",
    "train_recall = recall_score(y_train, y_train_pred)\n",
    "\n",
    "# Print training results\n",
    "print(\"KNN Model - Training Metrics:\")\n",
    "table_train = PrettyTable()\n",
    "table_train.field_names = [\"Metric\", \"Value\"]\n",
    "table_train.add_row([\"Accuracy\", round(train_accuracy, 3)])\n",
    "table_train.add_row([\"AUC\", round(train_auc, 3)])\n",
    "table_train.add_row([\"F1 Score\", round(train_f1, 3)])\n",
    "table_train.add_row([\"Recall\", round(train_recall, 3)])\n",
    "print(table_train)\n",
    "print(\"=\" * 50)\n",
    "\n",
    "# Predict on the testing set\n",
    "y_test_pred = knn_model.predict(x_test)\n",
    "\n",
    "# Evaluate the KNN model on the testing set\n",
    "test_accuracy = accuracy_score(y_test, y_test_pred)\n",
    "test_auc = roc_auc_score(y_test, y_test_pred)\n",
    "test_f1 = f1_score(y_test, y_test_pred)\n",
    "test_recall = recall_score(y_test, y_test_pred)\n",
    "\n",
    "# Print testing results\n",
    "print(\"\\nKNN Model - Testing Metrics:\")\n",
    "table_test = PrettyTable()\n",
    "table_test.field_names = [\"Metric\", \"Value\"]\n",
    "table_test.add_row([\"Accuracy\", round(test_accuracy, 3)])\n",
    "table_test.add_row([\"AUC\", round(test_auc, 3)])\n",
    "table_test.add_row([\"F1 Score\", round(test_f1, 3)])\n",
    "table_test.add_row([\"Recall\", round(test_recall, 3)])\n",
    "print(table_test)\n",
    "print(\"=\" * 50)\n",
    "\n",
    "# Cross-validation on the training set\n",
    "cv_scores = cross_val_score(knn_model, x_train, y_train, cv=5, scoring='accuracy')\n",
    "\n",
    "# Print cross-validation results\n",
    "print(\"KNN Model - Cross-Validation Scores:\")\n",
    "print(\"CV Mean Accuracy: {:.3f}\".format(round(cv_scores.mean(), 3)))\n",
    "print(\"CV Standard Deviation: {:.3f}\".format(round(cv_scores.std(), 3)))\n",
    "print(\"=\" * 50)"
   ]
  },
  {
   "cell_type": "markdown",
   "id": "cfdc4ec7",
   "metadata": {
    "papermill": {
     "duration": 0.026005,
     "end_time": "2024-01-22T00:45:40.499157",
     "exception": false,
     "start_time": "2024-01-22T00:45:40.473152",
     "status": "completed"
    },
    "tags": []
   },
   "source": [
    "# Note\n",
    "\n",
    "In summary, the model seems to perform well on both the training and testing datasets, with high accuracy, AUC, F1, and recall. The cross-validation results also indicate good generalization performance. However, to enhance the model's performance even further, let's do hyperparameter tuning. "
   ]
  },
  {
   "cell_type": "markdown",
   "id": "cc819943",
   "metadata": {
    "papermill": {
     "duration": 0.025563,
     "end_time": "2024-01-22T00:45:40.550935",
     "exception": false,
     "start_time": "2024-01-22T00:45:40.525372",
     "status": "completed"
    },
    "tags": []
   },
   "source": [
    "# Hyperparameter tuning for the classifier"
   ]
  },
  {
   "cell_type": "code",
   "execution_count": 34,
   "id": "50b28a71",
   "metadata": {
    "execution": {
     "iopub.execute_input": "2024-01-22T00:45:40.605024Z",
     "iopub.status.busy": "2024-01-22T00:45:40.604596Z",
     "iopub.status.idle": "2024-01-22T00:45:40.610563Z",
     "shell.execute_reply": "2024-01-22T00:45:40.609398Z"
    },
    "papermill": {
     "duration": 0.036103,
     "end_time": "2024-01-22T00:45:40.613169",
     "exception": false,
     "start_time": "2024-01-22T00:45:40.577066",
     "status": "completed"
    },
    "tags": []
   },
   "outputs": [],
   "source": [
    "# Define the parameter grid \n",
    "knn_param_grid = {\n",
    "    'n_neighbors': [3, 5, 7, 9],\n",
    "    'weights': ['uniform', 'distance'],\n",
    "    'p': [1, 2]\n",
    "}"
   ]
  },
  {
   "cell_type": "code",
   "execution_count": 35,
   "id": "b912a4db",
   "metadata": {
    "execution": {
     "iopub.execute_input": "2024-01-22T00:45:40.668243Z",
     "iopub.status.busy": "2024-01-22T00:45:40.667841Z",
     "iopub.status.idle": "2024-01-22T00:45:40.673017Z",
     "shell.execute_reply": "2024-01-22T00:45:40.671807Z"
    },
    "papermill": {
     "duration": 0.035292,
     "end_time": "2024-01-22T00:45:40.675387",
     "exception": false,
     "start_time": "2024-01-22T00:45:40.640095",
     "status": "completed"
    },
    "tags": []
   },
   "outputs": [],
   "source": [
    "# Initialize the classifier\n",
    "knn_model = KNeighborsClassifier()"
   ]
  },
  {
   "cell_type": "code",
   "execution_count": 36,
   "id": "27bd477e",
   "metadata": {
    "execution": {
     "iopub.execute_input": "2024-01-22T00:45:40.730994Z",
     "iopub.status.busy": "2024-01-22T00:45:40.730559Z",
     "iopub.status.idle": "2024-01-22T00:45:50.376965Z",
     "shell.execute_reply": "2024-01-22T00:45:50.375896Z"
    },
    "papermill": {
     "duration": 9.67756,
     "end_time": "2024-01-22T00:45:50.379607",
     "exception": false,
     "start_time": "2024-01-22T00:45:40.702047",
     "status": "completed"
    },
    "tags": []
   },
   "outputs": [
    {
     "data": {
      "text/html": [
       "<style>#sk-container-id-1 {color: black;background-color: white;}#sk-container-id-1 pre{padding: 0;}#sk-container-id-1 div.sk-toggleable {background-color: white;}#sk-container-id-1 label.sk-toggleable__label {cursor: pointer;display: block;width: 100%;margin-bottom: 0;padding: 0.3em;box-sizing: border-box;text-align: center;}#sk-container-id-1 label.sk-toggleable__label-arrow:before {content: \"▸\";float: left;margin-right: 0.25em;color: #696969;}#sk-container-id-1 label.sk-toggleable__label-arrow:hover:before {color: black;}#sk-container-id-1 div.sk-estimator:hover label.sk-toggleable__label-arrow:before {color: black;}#sk-container-id-1 div.sk-toggleable__content {max-height: 0;max-width: 0;overflow: hidden;text-align: left;background-color: #f0f8ff;}#sk-container-id-1 div.sk-toggleable__content pre {margin: 0.2em;color: black;border-radius: 0.25em;background-color: #f0f8ff;}#sk-container-id-1 input.sk-toggleable__control:checked~div.sk-toggleable__content {max-height: 200px;max-width: 100%;overflow: auto;}#sk-container-id-1 input.sk-toggleable__control:checked~label.sk-toggleable__label-arrow:before {content: \"▾\";}#sk-container-id-1 div.sk-estimator input.sk-toggleable__control:checked~label.sk-toggleable__label {background-color: #d4ebff;}#sk-container-id-1 div.sk-label input.sk-toggleable__control:checked~label.sk-toggleable__label {background-color: #d4ebff;}#sk-container-id-1 input.sk-hidden--visually {border: 0;clip: rect(1px 1px 1px 1px);clip: rect(1px, 1px, 1px, 1px);height: 1px;margin: -1px;overflow: hidden;padding: 0;position: absolute;width: 1px;}#sk-container-id-1 div.sk-estimator {font-family: monospace;background-color: #f0f8ff;border: 1px dotted black;border-radius: 0.25em;box-sizing: border-box;margin-bottom: 0.5em;}#sk-container-id-1 div.sk-estimator:hover {background-color: #d4ebff;}#sk-container-id-1 div.sk-parallel-item::after {content: \"\";width: 100%;border-bottom: 1px solid gray;flex-grow: 1;}#sk-container-id-1 div.sk-label:hover label.sk-toggleable__label {background-color: #d4ebff;}#sk-container-id-1 div.sk-serial::before {content: \"\";position: absolute;border-left: 1px solid gray;box-sizing: border-box;top: 0;bottom: 0;left: 50%;z-index: 0;}#sk-container-id-1 div.sk-serial {display: flex;flex-direction: column;align-items: center;background-color: white;padding-right: 0.2em;padding-left: 0.2em;position: relative;}#sk-container-id-1 div.sk-item {position: relative;z-index: 1;}#sk-container-id-1 div.sk-parallel {display: flex;align-items: stretch;justify-content: center;background-color: white;position: relative;}#sk-container-id-1 div.sk-item::before, #sk-container-id-1 div.sk-parallel-item::before {content: \"\";position: absolute;border-left: 1px solid gray;box-sizing: border-box;top: 0;bottom: 0;left: 50%;z-index: -1;}#sk-container-id-1 div.sk-parallel-item {display: flex;flex-direction: column;z-index: 1;position: relative;background-color: white;}#sk-container-id-1 div.sk-parallel-item:first-child::after {align-self: flex-end;width: 50%;}#sk-container-id-1 div.sk-parallel-item:last-child::after {align-self: flex-start;width: 50%;}#sk-container-id-1 div.sk-parallel-item:only-child::after {width: 0;}#sk-container-id-1 div.sk-dashed-wrapped {border: 1px dashed gray;margin: 0 0.4em 0.5em 0.4em;box-sizing: border-box;padding-bottom: 0.4em;background-color: white;}#sk-container-id-1 div.sk-label label {font-family: monospace;font-weight: bold;display: inline-block;line-height: 1.2em;}#sk-container-id-1 div.sk-label-container {text-align: center;}#sk-container-id-1 div.sk-container {/* jupyter's `normalize.less` sets `[hidden] { display: none; }` but bootstrap.min.css set `[hidden] { display: none !important; }` so we also need the `!important` here to be able to override the default hidden behavior on the sphinx rendered scikit-learn.org. See: https://github.com/scikit-learn/scikit-learn/issues/21755 */display: inline-block !important;position: relative;}#sk-container-id-1 div.sk-text-repr-fallback {display: none;}</style><div id=\"sk-container-id-1\" class=\"sk-top-container\"><div class=\"sk-text-repr-fallback\"><pre>GridSearchCV(cv=5, estimator=KNeighborsClassifier(),\n",
       "             param_grid={&#x27;n_neighbors&#x27;: [3, 5, 7, 9], &#x27;p&#x27;: [1, 2],\n",
       "                         &#x27;weights&#x27;: [&#x27;uniform&#x27;, &#x27;distance&#x27;]},\n",
       "             scoring=&#x27;accuracy&#x27;)</pre><b>In a Jupyter environment, please rerun this cell to show the HTML representation or trust the notebook. <br />On GitHub, the HTML representation is unable to render, please try loading this page with nbviewer.org.</b></div><div class=\"sk-container\" hidden><div class=\"sk-item sk-dashed-wrapped\"><div class=\"sk-label-container\"><div class=\"sk-label sk-toggleable\"><input class=\"sk-toggleable__control sk-hidden--visually\" id=\"sk-estimator-id-1\" type=\"checkbox\" ><label for=\"sk-estimator-id-1\" class=\"sk-toggleable__label sk-toggleable__label-arrow\">GridSearchCV</label><div class=\"sk-toggleable__content\"><pre>GridSearchCV(cv=5, estimator=KNeighborsClassifier(),\n",
       "             param_grid={&#x27;n_neighbors&#x27;: [3, 5, 7, 9], &#x27;p&#x27;: [1, 2],\n",
       "                         &#x27;weights&#x27;: [&#x27;uniform&#x27;, &#x27;distance&#x27;]},\n",
       "             scoring=&#x27;accuracy&#x27;)</pre></div></div></div><div class=\"sk-parallel\"><div class=\"sk-parallel-item\"><div class=\"sk-item\"><div class=\"sk-label-container\"><div class=\"sk-label sk-toggleable\"><input class=\"sk-toggleable__control sk-hidden--visually\" id=\"sk-estimator-id-2\" type=\"checkbox\" ><label for=\"sk-estimator-id-2\" class=\"sk-toggleable__label sk-toggleable__label-arrow\">estimator: KNeighborsClassifier</label><div class=\"sk-toggleable__content\"><pre>KNeighborsClassifier()</pre></div></div></div><div class=\"sk-serial\"><div class=\"sk-item\"><div class=\"sk-estimator sk-toggleable\"><input class=\"sk-toggleable__control sk-hidden--visually\" id=\"sk-estimator-id-3\" type=\"checkbox\" ><label for=\"sk-estimator-id-3\" class=\"sk-toggleable__label sk-toggleable__label-arrow\">KNeighborsClassifier</label><div class=\"sk-toggleable__content\"><pre>KNeighborsClassifier()</pre></div></div></div></div></div></div></div></div></div></div>"
      ],
      "text/plain": [
       "GridSearchCV(cv=5, estimator=KNeighborsClassifier(),\n",
       "             param_grid={'n_neighbors': [3, 5, 7, 9], 'p': [1, 2],\n",
       "                         'weights': ['uniform', 'distance']},\n",
       "             scoring='accuracy')"
      ]
     },
     "execution_count": 36,
     "metadata": {},
     "output_type": "execute_result"
    }
   ],
   "source": [
    "# Perform grid search with cross-validation\n",
    "knn_grid_search = GridSearchCV(knn_model, knn_param_grid, cv=5, scoring='accuracy')\n",
    "knn_grid_search.fit(x_train, y_train)"
   ]
  },
  {
   "cell_type": "code",
   "execution_count": 37,
   "id": "b2a3f2ef",
   "metadata": {
    "execution": {
     "iopub.execute_input": "2024-01-22T00:45:50.435891Z",
     "iopub.status.busy": "2024-01-22T00:45:50.434995Z",
     "iopub.status.idle": "2024-01-22T00:45:50.442833Z",
     "shell.execute_reply": "2024-01-22T00:45:50.441768Z"
    },
    "papermill": {
     "duration": 0.039297,
     "end_time": "2024-01-22T00:45:50.446060",
     "exception": false,
     "start_time": "2024-01-22T00:45:50.406763",
     "status": "completed"
    },
    "tags": []
   },
   "outputs": [
    {
     "name": "stdout",
     "output_type": "stream",
     "text": [
      "Best Hyperparameters for KNN:\n",
      "+-------------+----------+\n",
      "|  Parameter  |  Value   |\n",
      "+-------------+----------+\n",
      "| n_neighbors |    3     |\n",
      "|      p      |    1     |\n",
      "|   weights   | distance |\n",
      "+-------------+----------+\n",
      "Best Accuracy for KNN: 0.9288\n",
      "==================================================\n"
     ]
    }
   ],
   "source": [
    "# Print the best hyperparameters and corresponding accuracy\n",
    "print(\"Best Hyperparameters for KNN:\")\n",
    "table_hyperparams = PrettyTable()\n",
    "table_hyperparams.field_names = [\"Parameter\", \"Value\"]\n",
    "for param, value in knn_grid_search.best_params_.items():\n",
    "    table_hyperparams.add_row([param, value])\n",
    "print(table_hyperparams)\n",
    "print(\"Best Accuracy for KNN: {:.4f}\".format(knn_grid_search.best_score_))\n",
    "print(\"=\" * 50)"
   ]
  },
  {
   "cell_type": "code",
   "execution_count": 38,
   "id": "ac10f6e4",
   "metadata": {
    "execution": {
     "iopub.execute_input": "2024-01-22T00:45:50.501384Z",
     "iopub.status.busy": "2024-01-22T00:45:50.500924Z",
     "iopub.status.idle": "2024-01-22T00:45:50.517319Z",
     "shell.execute_reply": "2024-01-22T00:45:50.516310Z"
    },
    "papermill": {
     "duration": 0.046906,
     "end_time": "2024-01-22T00:45:50.519825",
     "exception": false,
     "start_time": "2024-01-22T00:45:50.472919",
     "status": "completed"
    },
    "tags": []
   },
   "outputs": [
    {
     "data": {
      "text/html": [
       "<style>#sk-container-id-2 {color: black;background-color: white;}#sk-container-id-2 pre{padding: 0;}#sk-container-id-2 div.sk-toggleable {background-color: white;}#sk-container-id-2 label.sk-toggleable__label {cursor: pointer;display: block;width: 100%;margin-bottom: 0;padding: 0.3em;box-sizing: border-box;text-align: center;}#sk-container-id-2 label.sk-toggleable__label-arrow:before {content: \"▸\";float: left;margin-right: 0.25em;color: #696969;}#sk-container-id-2 label.sk-toggleable__label-arrow:hover:before {color: black;}#sk-container-id-2 div.sk-estimator:hover label.sk-toggleable__label-arrow:before {color: black;}#sk-container-id-2 div.sk-toggleable__content {max-height: 0;max-width: 0;overflow: hidden;text-align: left;background-color: #f0f8ff;}#sk-container-id-2 div.sk-toggleable__content pre {margin: 0.2em;color: black;border-radius: 0.25em;background-color: #f0f8ff;}#sk-container-id-2 input.sk-toggleable__control:checked~div.sk-toggleable__content {max-height: 200px;max-width: 100%;overflow: auto;}#sk-container-id-2 input.sk-toggleable__control:checked~label.sk-toggleable__label-arrow:before {content: \"▾\";}#sk-container-id-2 div.sk-estimator input.sk-toggleable__control:checked~label.sk-toggleable__label {background-color: #d4ebff;}#sk-container-id-2 div.sk-label input.sk-toggleable__control:checked~label.sk-toggleable__label {background-color: #d4ebff;}#sk-container-id-2 input.sk-hidden--visually {border: 0;clip: rect(1px 1px 1px 1px);clip: rect(1px, 1px, 1px, 1px);height: 1px;margin: -1px;overflow: hidden;padding: 0;position: absolute;width: 1px;}#sk-container-id-2 div.sk-estimator {font-family: monospace;background-color: #f0f8ff;border: 1px dotted black;border-radius: 0.25em;box-sizing: border-box;margin-bottom: 0.5em;}#sk-container-id-2 div.sk-estimator:hover {background-color: #d4ebff;}#sk-container-id-2 div.sk-parallel-item::after {content: \"\";width: 100%;border-bottom: 1px solid gray;flex-grow: 1;}#sk-container-id-2 div.sk-label:hover label.sk-toggleable__label {background-color: #d4ebff;}#sk-container-id-2 div.sk-serial::before {content: \"\";position: absolute;border-left: 1px solid gray;box-sizing: border-box;top: 0;bottom: 0;left: 50%;z-index: 0;}#sk-container-id-2 div.sk-serial {display: flex;flex-direction: column;align-items: center;background-color: white;padding-right: 0.2em;padding-left: 0.2em;position: relative;}#sk-container-id-2 div.sk-item {position: relative;z-index: 1;}#sk-container-id-2 div.sk-parallel {display: flex;align-items: stretch;justify-content: center;background-color: white;position: relative;}#sk-container-id-2 div.sk-item::before, #sk-container-id-2 div.sk-parallel-item::before {content: \"\";position: absolute;border-left: 1px solid gray;box-sizing: border-box;top: 0;bottom: 0;left: 50%;z-index: -1;}#sk-container-id-2 div.sk-parallel-item {display: flex;flex-direction: column;z-index: 1;position: relative;background-color: white;}#sk-container-id-2 div.sk-parallel-item:first-child::after {align-self: flex-end;width: 50%;}#sk-container-id-2 div.sk-parallel-item:last-child::after {align-self: flex-start;width: 50%;}#sk-container-id-2 div.sk-parallel-item:only-child::after {width: 0;}#sk-container-id-2 div.sk-dashed-wrapped {border: 1px dashed gray;margin: 0 0.4em 0.5em 0.4em;box-sizing: border-box;padding-bottom: 0.4em;background-color: white;}#sk-container-id-2 div.sk-label label {font-family: monospace;font-weight: bold;display: inline-block;line-height: 1.2em;}#sk-container-id-2 div.sk-label-container {text-align: center;}#sk-container-id-2 div.sk-container {/* jupyter's `normalize.less` sets `[hidden] { display: none; }` but bootstrap.min.css set `[hidden] { display: none !important; }` so we also need the `!important` here to be able to override the default hidden behavior on the sphinx rendered scikit-learn.org. See: https://github.com/scikit-learn/scikit-learn/issues/21755 */display: inline-block !important;position: relative;}#sk-container-id-2 div.sk-text-repr-fallback {display: none;}</style><div id=\"sk-container-id-2\" class=\"sk-top-container\"><div class=\"sk-text-repr-fallback\"><pre>KNeighborsClassifier(n_neighbors=3, p=1, weights=&#x27;distance&#x27;)</pre><b>In a Jupyter environment, please rerun this cell to show the HTML representation or trust the notebook. <br />On GitHub, the HTML representation is unable to render, please try loading this page with nbviewer.org.</b></div><div class=\"sk-container\" hidden><div class=\"sk-item\"><div class=\"sk-estimator sk-toggleable\"><input class=\"sk-toggleable__control sk-hidden--visually\" id=\"sk-estimator-id-4\" type=\"checkbox\" checked><label for=\"sk-estimator-id-4\" class=\"sk-toggleable__label sk-toggleable__label-arrow\">KNeighborsClassifier</label><div class=\"sk-toggleable__content\"><pre>KNeighborsClassifier(n_neighbors=3, p=1, weights=&#x27;distance&#x27;)</pre></div></div></div></div></div>"
      ],
      "text/plain": [
       "KNeighborsClassifier(n_neighbors=3, p=1, weights='distance')"
      ]
     },
     "execution_count": 38,
     "metadata": {},
     "output_type": "execute_result"
    }
   ],
   "source": [
    "# Train the KNN model with the best hyperparameters on the training set\n",
    "best_knn_model = KNeighborsClassifier(**knn_grid_search.best_params_)\n",
    "best_knn_model.fit(x_train, y_train)"
   ]
  },
  {
   "cell_type": "code",
   "execution_count": 39,
   "id": "b7fdfb03",
   "metadata": {
    "execution": {
     "iopub.execute_input": "2024-01-22T00:45:50.575501Z",
     "iopub.status.busy": "2024-01-22T00:45:50.574414Z",
     "iopub.status.idle": "2024-01-22T00:45:50.975743Z",
     "shell.execute_reply": "2024-01-22T00:45:50.974537Z"
    },
    "papermill": {
     "duration": 0.431953,
     "end_time": "2024-01-22T00:45:50.978451",
     "exception": false,
     "start_time": "2024-01-22T00:45:50.546498",
     "status": "completed"
    },
    "tags": []
   },
   "outputs": [],
   "source": [
    "# Predict on the training set\n",
    "y_train_pred = best_knn_model.predict(x_train)\n",
    "\n",
    "# Predict on the testing set\n",
    "y_test_pred = best_knn_model.predict(x_test)"
   ]
  },
  {
   "cell_type": "code",
   "execution_count": 40,
   "id": "4b0be101",
   "metadata": {
    "execution": {
     "iopub.execute_input": "2024-01-22T00:45:51.043950Z",
     "iopub.status.busy": "2024-01-22T00:45:51.043080Z",
     "iopub.status.idle": "2024-01-22T00:45:51.061521Z",
     "shell.execute_reply": "2024-01-22T00:45:51.060176Z"
    },
    "papermill": {
     "duration": 0.058372,
     "end_time": "2024-01-22T00:45:51.065381",
     "exception": false,
     "start_time": "2024-01-22T00:45:51.007009",
     "status": "completed"
    },
    "tags": []
   },
   "outputs": [],
   "source": [
    "# Evaluate the best KNN model on the testing set\n",
    "test_accuracy = accuracy_score(y_test, y_test_pred)\n",
    "test_auc = roc_auc_score(y_test, y_test_pred)\n",
    "test_f1 = f1_score(y_test, y_test_pred)\n",
    "test_recall = recall_score(y_test, y_test_pred)"
   ]
  },
  {
   "cell_type": "code",
   "execution_count": 41,
   "id": "5b390e89",
   "metadata": {
    "execution": {
     "iopub.execute_input": "2024-01-22T00:45:51.127094Z",
     "iopub.status.busy": "2024-01-22T00:45:51.126111Z",
     "iopub.status.idle": "2024-01-22T00:45:51.136913Z",
     "shell.execute_reply": "2024-01-22T00:45:51.135512Z"
    },
    "papermill": {
     "duration": 0.043349,
     "end_time": "2024-01-22T00:45:51.139771",
     "exception": false,
     "start_time": "2024-01-22T00:45:51.096422",
     "status": "completed"
    },
    "tags": []
   },
   "outputs": [
    {
     "name": "stdout",
     "output_type": "stream",
     "text": [
      "Best KNN Model - Testing Metrics:\n",
      "+----------+-------+\n",
      "|  Metric  | Value |\n",
      "+----------+-------+\n",
      "| Accuracy | 0.951 |\n",
      "|   AUC    |  0.95 |\n",
      "| F1 Score | 0.953 |\n",
      "|  Recall  | 0.992 |\n",
      "+----------+-------+\n",
      "==================================================\n"
     ]
    }
   ],
   "source": [
    "# Print testing results\n",
    "print(\"Best KNN Model - Testing Metrics:\")\n",
    "table_testing = PrettyTable()\n",
    "table_testing.field_names = [\"Metric\", \"Value\"]\n",
    "table_testing.add_row([\"Accuracy\", round(test_accuracy, 3)])\n",
    "table_testing.add_row([\"AUC\", round(test_auc, 3)])\n",
    "table_testing.add_row([\"F1 Score\", round(test_f1, 3)])\n",
    "table_testing.add_row([\"Recall\", round(test_recall, 3)])\n",
    "print(table_testing)\n",
    "print(\"=\" * 50)"
   ]
  },
  {
   "cell_type": "code",
   "execution_count": 42,
   "id": "6dc9e2a3",
   "metadata": {
    "execution": {
     "iopub.execute_input": "2024-01-22T00:45:51.205164Z",
     "iopub.status.busy": "2024-01-22T00:45:51.204290Z",
     "iopub.status.idle": "2024-01-22T00:45:51.558720Z",
     "shell.execute_reply": "2024-01-22T00:45:51.557569Z"
    },
    "papermill": {
     "duration": 0.386835,
     "end_time": "2024-01-22T00:45:51.561341",
     "exception": false,
     "start_time": "2024-01-22T00:45:51.174506",
     "status": "completed"
    },
    "tags": []
   },
   "outputs": [
    {
     "name": "stdout",
     "output_type": "stream",
     "text": [
      "Best KNN Model - Cross-Validation Scores:\n",
      "CV Mean Accuracy: 0.9290\n",
      "CV Standard Deviation: 0.0070\n",
      "==================================================\n"
     ]
    }
   ],
   "source": [
    "# Cross-validation \n",
    "cv_scores = cross_val_score(best_knn_model, x_train, y_train, cv=5, scoring='accuracy')\n",
    "\n",
    "# Print cross-validation results\n",
    "print(\"Best KNN Model - Cross-Validation Scores:\")\n",
    "print(\"CV Mean Accuracy: {:.4f}\".format(round(cv_scores.mean(), 3)))\n",
    "print(\"CV Standard Deviation: {:.4f}\".format(round(cv_scores.std(), 3)))\n",
    "print(\"=\" * 50)"
   ]
  },
  {
   "cell_type": "markdown",
   "id": "4788f836",
   "metadata": {
    "papermill": {
     "duration": 0.027188,
     "end_time": "2024-01-22T00:45:51.615746",
     "exception": false,
     "start_time": "2024-01-22T00:45:51.588558",
     "status": "completed"
    },
    "tags": []
   },
   "source": [
    "# confusion matrix for the test model (tuned KNN classifier)"
   ]
  },
  {
   "cell_type": "code",
   "execution_count": 43,
   "id": "a051d43b",
   "metadata": {
    "execution": {
     "iopub.execute_input": "2024-01-22T00:45:51.672644Z",
     "iopub.status.busy": "2024-01-22T00:45:51.671847Z",
     "iopub.status.idle": "2024-01-22T00:45:51.680351Z",
     "shell.execute_reply": "2024-01-22T00:45:51.679106Z"
    },
    "papermill": {
     "duration": 0.039779,
     "end_time": "2024-01-22T00:45:51.682727",
     "exception": false,
     "start_time": "2024-01-22T00:45:51.642948",
     "status": "completed"
    },
    "tags": []
   },
   "outputs": [
    {
     "name": "stdout",
     "output_type": "stream",
     "text": [
      "\n",
      "Confusion Matrix (Testing):\n",
      "[[837  85]\n",
      " [  8 950]]\n"
     ]
    }
   ],
   "source": [
    "# Print confusion matrix\n",
    "conf_matrix = confusion_matrix(y_test, y_test_pred)\n",
    "print(\"\\nConfusion Matrix (Testing):\")\n",
    "print(conf_matrix)"
   ]
  },
  {
   "cell_type": "code",
   "execution_count": 44,
   "id": "edc1695d",
   "metadata": {
    "execution": {
     "iopub.execute_input": "2024-01-22T00:45:51.740346Z",
     "iopub.status.busy": "2024-01-22T00:45:51.739881Z",
     "iopub.status.idle": "2024-01-22T00:45:51.942426Z",
     "shell.execute_reply": "2024-01-22T00:45:51.941569Z"
    },
    "papermill": {
     "duration": 0.23332,
     "end_time": "2024-01-22T00:45:51.944740",
     "exception": false,
     "start_time": "2024-01-22T00:45:51.711420",
     "status": "completed"
    },
    "tags": []
   },
   "outputs": [
    {
     "data": {
      "image/png": "[encoded data removed]",
      "text/plain": [
       "<Figure size 800x600 with 1 Axes>"
      ]
     },
     "metadata": {},
     "output_type": "display_data"
    }
   ],
   "source": [
    "# Plot confusion matrix\n",
    "plt.figure(figsize=(8, 6))\n",
    "sns.heatmap(conf_matrix, annot=True, fmt='d', cmap='Blues', cbar=False)\n",
    "plt.xlabel('Predicted labels')\n",
    "plt.ylabel('Actual labels')\n",
    "plt.title('Confusion Matrix')\n",
    "plt.show()\n"
   ]
  },
  {
   "cell_type": "markdown",
   "id": "6360d528",
   "metadata": {
    "papermill": {
     "duration": 0.027363,
     "end_time": "2024-01-22T00:45:52.000146",
     "exception": false,
     "start_time": "2024-01-22T00:45:51.972783",
     "status": "completed"
    },
    "tags": []
   },
   "source": [
    "# **Summary**\n",
    "\n",
    "Hyperparameter tuning process has significantly enhanced the KNN model's accuracy and generalization performance."
   ]
  }
 ],
 "metadata": {
  "kaggle": {
   "accelerator": "none",
   "dataSources": [
    {
     "datasetId": 1120859,
     "sourceId": 1882037,
     "sourceType": "datasetVersion"
    }
   ],
   "dockerImageVersionId": 30626,
   "isGpuEnabled": false,
   "isInternetEnabled": true,
   "language": "python",
   "sourceType": "notebook"
  },
  "kernelspec": {
   "display_name": "Python 3",
   "language": "python",
   "name": "python3"
  },
  "language_info": {
   "codemirror_mode": {
    "name": "ipython",
    "version": 3
   },
   "file_extension": ".py",
   "mimetype": "text/x-python",
   "name": "python",
   "nbconvert_exporter": "python",
   "pygments_lexer": "ipython3",
   "version": "3.10.12"
  },
  "papermill": {
   "default_parameters": {},
   "duration": 25.991553,
   "end_time": "2024-01-22T00:45:52.750469",
   "environment_variables": {},
   "exception": null,
   "input_path": "__notebook__.ipynb",
   "output_path": "__notebook__.ipynb",
   "parameters": {},
   "start_time": "2024-01-22T00:45:26.758916",
   "version": "2.4.0"
  }
 },
 "nbformat": 4,
 "nbformat_minor": 5
}
