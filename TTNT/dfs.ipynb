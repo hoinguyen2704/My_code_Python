{
 "nbformat": 4,
 "nbformat_minor": 0,
 "metadata": {
  "colab": {
   "provenance": [],
   "authorship_tag": "ABX9TyNFLYdWD+Am5589BwFvm05t"
  },
  "kernelspec": {
   "name": "python3",
   "display_name": "Python 3"
  },
  "language_info": {
   "name": "python"
  }
 },
 "cells": [
  {
   "cell_type": "code",
   "execution_count": 1,
   "metadata": {
    "id": "ZqYJB0g7xhAq",
    "executionInfo": {
     "status": "ok",
     "timestamp": 1713923465695,
     "user_tz": -420,
     "elapsed": 4,
     "user": {
      "displayName": "Hoàng Hoàng",
      "userId": "00394762033841351221"
     }
    }
   },
   "source": [
    "class Graph:\n",
    "  def __init__(self):\n",
    "    self.visited : list = []\n",
    "    self.graph : dict[str,list] = {}\n",
    "    self.goal = []\n",
    "    self.stack : list = []\n",
    "    self.father :dict = {}\n",
    "    self.path = []\n"
   ],
   "outputs": []
  },
  {
   "cell_type": "markdown",
   "source": [
    "Sử dụng stack để duyệt đồ thị"
   ],
   "metadata": {
    "id": "bwPcUyLN0cWE"
   }
  },
  {
   "cell_type": "code",
   "source": [
    "def travel_dfs(self,v):\n",
    "    self.stack.append(v)\n",
    "    self.visited.append(v)\n",
    "    while len(self.stack) > 0:\n",
    "      node = self.stack.pop()\n",
    "      self.visited.append(node)\n",
    "      if node in self.goal:\n",
    "        return node\n",
    "      if self.graph.get(node) is not None:\n",
    "        for neighbour in self.graph[node]:\n",
    "          if neighbour not in self.visited:\n",
    "            self.stack.append(neighbour)\n",
    "            self.father[neighbour] = node\n",
    "    return -1"
   ],
   "metadata": {
    "id": "zLn7zxBJx3xk",
    "executionInfo": {
     "status": "ok",
     "timestamp": 1713923469067,
     "user_tz": -420,
     "elapsed": 2,
     "user": {
      "displayName": "Hoàng Hoàng",
      "userId": "00394762033841351221"
     }
    }
   },
   "execution_count": 2,
   "outputs": []
  },
  {
   "cell_type": "code",
   "source": [
    "def add_node(self,u,v):\n",
    "    if self.graph.get(u) is None:\n",
    "      self.graph[u] = []\n",
    "    self.graph[u].append(v)"
   ],
   "metadata": {
    "id": "4qAfL6dMxjJS",
    "executionInfo": {
     "status": "ok",
     "timestamp": 1713923476291,
     "user_tz": -420,
     "elapsed": 308,
     "user": {
      "displayName": "Hoàng Hoàng",
      "userId": "00394762033841351221"
     }
    }
   },
   "execution_count": 3,
   "outputs": []
  },
  {
   "cell_type": "code",
   "source": [
    "def get_path(self,u):\n",
    "  self.path.append(u)\n",
    "  while self.father.get(u) is not None:\n",
    "    self.path.append(self.father.get(u))\n",
    "    u = self.father.get(u)\n",
    "  self.path.reverse()\n",
    "  return \"->\".join(list(map(str,self.path)))"
   ],
   "metadata": {
    "id": "gFZ8mhE3x70s",
    "executionInfo": {
     "status": "ok",
     "timestamp": 1713923506111,
     "user_tz": -420,
     "elapsed": 307,
     "user": {
      "displayName": "Hoàng Hoàng",
      "userId": "00394762033841351221"
     }
    }
   },
   "execution_count": 5,
   "outputs": []
  },
  {
   "cell_type": "markdown",
   "source": [
    "lấy đường đi cuối cùng"
   ],
   "metadata": {
    "id": "S-xVXxCX0kw1"
   }
  },
  {
   "cell_type": "code",
   "source": [
    "Graph.add_node = add_node\n",
    "Graph.travel_bfs = travel_dfs\n",
    "Graph.get_path = get_path"
   ],
   "metadata": {
    "id": "e4JRLrVozXIL",
    "executionInfo": {
     "status": "ok",
     "timestamp": 1713923526119,
     "user_tz": -420,
     "elapsed": 287,
     "user": {
      "displayName": "Hoàng Hoàng",
      "userId": "00394762033841351221"
     }
    }
   },
   "execution_count": 7,
   "outputs": []
  },
  {
   "cell_type": "code",
   "source": [
    "if __name__ == \"__main__\":\n",
    "    g = Graph()\n",
    "    g.add_node(0, 1)\n",
    "    g.add_node(0, 2)\n",
    "    g.add_node(1, 3)\n",
    "    g.add_node(1, 4)\n",
    "    g.add_node(2, 5)\n",
    "    g.add_node(2, 6)\n",
    "    g.add_node(3, 7)\n",
    "    g.add_node(3, 8)\n",
    "    g.add_node(4, 9)\n",
    "    g.add_node(5, 10)\n",
    "\n",
    "    g.goal = [7]\n",
    "    print(\"Following is Breath First Search (starting from vertex 0)\")\n",
    "    element = g.travel_bfs(0)\n",
    "    if element != -1:\n",
    "      print(g.get_path(element))"
   ],
   "metadata": {
    "colab": {
     "base_uri": "https://localhost:8080/"
    },
    "id": "ZWO1l5xCzSLc",
    "executionInfo": {
     "status": "ok",
     "timestamp": 1713923597307,
     "user_tz": -420,
     "elapsed": 312,
     "user": {
      "displayName": "Hoàng Hoàng",
      "userId": "00394762033841351221"
     }
    },
    "outputId": "d02be94d-6435-4223-af39-5439743646e2"
   },
   "execution_count": 9,
   "outputs": []
  },
  {
   "cell_type": "markdown",
   "source": [],
   "metadata": {
    "id": "nWpQB_mK0Z9-"
   }
  }
 ]
}
