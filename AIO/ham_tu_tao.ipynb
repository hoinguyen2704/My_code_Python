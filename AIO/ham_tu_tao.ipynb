{
 "cells": [
  {
   "cell_type": "code",
   "execution_count": null,
   "id": "384cb85c",
   "metadata": {
    "jupyter": {
     "is_executing": true
    }
   },
   "source": [
    "import math\n",
    "print (math.e)"
   ],
   "outputs": []
  },
  {
   "cell_type": "code",
   "execution_count": null,
   "id": "e2b2412c",
   "metadata": {},
   "source": [
    "def computer_sigmoid(x):\n",
    "    '''\n",
    "    x---- input\n",
    "    output is a value sigmoid \n",
    "    '''\n",
    "    result = 1/ ( 1 + math.exp(-x))\n",
    "    #sample data x=0\n",
    "    return result\n"
   ],
   "outputs": []
  },
  {
   "cell_type": "code",
   "execution_count": null,
   "id": "17eff691",
   "metadata": {
    "jupyter": {
     "is_executing": true
    }
   },
   "source": [
    "x= 0\n",
    "x=5\n",
    "print(computer_sigmoid(x))"
   ],
   "outputs": []
  },
  {
   "cell_type": "code",
   "execution_count": null,
   "id": "64354d1e",
   "metadata": {},
   "source": [],
   "outputs": []
  }
 ],
 "metadata": {
  "kernelspec": {
   "display_name": "Python 3 (ipykernel)",
   "language": "python",
   "name": "python3"
  },
  "language_info": {
   "codemirror_mode": {
    "name": "ipython",
    "version": 3
   },
   "file_extension": ".py",
   "mimetype": "text/x-python",
   "name": "python",
   "nbconvert_exporter": "python",
   "pygments_lexer": "ipython3",
   "version": "3.12.4"
  }
 },
 "nbformat": 4,
 "nbformat_minor": 5
}
