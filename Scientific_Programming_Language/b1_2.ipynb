{
 "cells": [
  {
   "cell_type": "markdown",
   "id": "69db4c8a26572597",
   "metadata": {},
   "source": [
    "bài 3"
   ]
  },
  {
   "cell_type": "code",
   "execution_count": 20,
   "id": "20ffe0b2c49a6484",
   "metadata": {
    "ExecuteTime": {
     "end_time": "2024-09-15T12:20:38.935431Z",
     "start_time": "2024-09-15T12:20:38.929709Z"
    }
   },
   "outputs": [],
   "source": [
    "import math"
   ]
  },
  {
   "cell_type": "code",
   "execution_count": 1,
   "id": "initial_id",
   "metadata": {
    "ExecuteTime": {
     "end_time": "2024-09-15T12:02:22.330718Z",
     "start_time": "2024-09-15T12:02:17.558195Z"
    }
   },
   "outputs": [
    {
     "name": "stdout",
     "output_type": "stream",
     "text": [
      "12.0\n",
      "-45.0\n",
      "7.0\n"
     ]
    }
   ],
   "source": [
    "a, b, c = map(float,(input().split()))\n",
    "print(a)\n",
    "print(b)\n",
    "print(c)\n",
    "while a==0:\n",
    "    print(f\"a must be different from 0: \")\n",
    "    a = int(input())"
   ]
  },
  {
   "cell_type": "code",
   "execution_count": null,
   "id": "bf299b2adacec9f3",
   "metadata": {},
   "outputs": [],
   "source": [
    "def TinhPTB2():\n",
    "    Delta = b**2 -4*a*c\n",
    "    print(f\"Delta = {Delta}\")\n",
    "    if Delta > 0:\n",
    "        x1 = (-b + math.sqrt(Delta))/(2*a)\n",
    "        x2 = (-b - math.sqrt(Delta))/(2*a)\n",
    "        print(f\"x1= {x1}\\n\"\n",
    "              f\"x2= {x2}\")\n",
    "        return [x1,x2]\n",
    "    elif Delta ==0:\n",
    "        x= -b/(2*a)\n",
    "        print(f\"x= {x}\")\n",
    "        return x\n",
    "    else:\n",
    "        print(\"No solution\")\n",
    "        return"
   ]
  },
  {
   "cell_type": "code",
   "execution_count": 3,
   "id": "4b2a9818537810b5",
   "metadata": {
    "ExecuteTime": {
     "end_time": "2024-09-15T12:03:06.075904Z",
     "start_time": "2024-09-15T12:02:58.587536Z"
    }
   },
   "outputs": [
    {
     "name": "stdout",
     "output_type": "stream",
     "text": [
      "['jkr', '384b', 'kjf', '4i85y', 'hf', '34']\n"
     ]
    }
   ],
   "source": [
    "str = input().split()\n",
    "print(str)"
   ]
  },
  {
   "cell_type": "code",
   "execution_count": 4,
   "id": "7c02f12af4415153",
   "metadata": {
    "ExecuteTime": {
     "end_time": "2024-09-15T12:03:08.091130Z",
     "start_time": "2024-09-15T12:03:08.079683Z"
    }
   },
   "outputs": [
    {
     "name": "stdout",
     "output_type": "stream",
     "text": [
      "[]\n"
     ]
    }
   ],
   "source": [
    "list =[]\n",
    "for x in str:\n",
    "    if x.isnumeric():\n",
    "        list.append(int(x))\n",
    "    elif not x.isnumeric():\n",
    "        break\n",
    "print(list)\n",
    "        "
   ]
  },
  {
   "cell_type": "markdown",
   "id": "75ec81ebeea901c9",
   "metadata": {},
   "source": [
    "Bài 4"
   ]
  },
  {
   "cell_type": "code",
   "execution_count": null,
   "id": "a028e862b32fa343",
   "metadata": {},
   "outputs": [],
   "source": [
    "n= int(input(\"n [20;30] =  \"))\n",
    "x= float(input(\"x= \"))\n",
    "print(f\"n= {n}\")\n",
    "print(f\"x= {x}\")"
   ]
  },
  {
   "cell_type": "code",
   "execution_count": 79,
   "id": "a10e0188ac838502",
   "metadata": {
    "ExecuteTime": {
     "end_time": "2024-09-15T11:35:01.892172Z",
     "start_time": "2024-09-15T11:35:01.886156Z"
    }
   },
   "outputs": [],
   "source": [
    "def P(n, x):\n",
    "    final_result =2022*(x**n)\n",
    "    for i in range(1, n+1):\n",
    "        final_result += float(i/(x**i))\n",
    "    return final_result"
   ]
  },
  {
   "cell_type": "code",
   "execution_count": 80,
   "id": "3c9aa03191b51423",
   "metadata": {
    "ExecuteTime": {
     "end_time": "2024-09-15T11:35:01.975013Z",
     "start_time": "2024-09-15T11:35:01.968857Z"
    }
   },
   "outputs": [],
   "source": [
    "result =P(n, x)"
   ]
  },
  {
   "cell_type": "code",
   "execution_count": 81,
   "id": "9d47d79de75848f",
   "metadata": {
    "ExecuteTime": {
     "end_time": "2024-09-15T11:35:01.992053Z",
     "start_time": "2024-09-15T11:35:01.985543Z"
    }
   },
   "outputs": [
    {
     "name": "stdout",
     "output_type": "stream",
     "text": [
      "final_result=81284171875.96\n"
     ]
    }
   ],
   "source": [
    "print(\"final_result={:.2f}\".format(result))"
   ]
  },
  {
   "cell_type": "code",
   "execution_count": 82,
   "id": "d3c7d6e52546e6fd",
   "metadata": {
    "ExecuteTime": {
     "end_time": "2024-09-15T11:35:02.025912Z",
     "start_time": "2024-09-15T11:35:02.019118Z"
    }
   },
   "outputs": [
    {
     "name": "stdout",
     "output_type": "stream",
     "text": [
      "final_result=81284171875.96 81284171875.9614\n"
     ]
    }
   ],
   "source": [
    "print(\"final_result={:.2f} {:.4f}\" .format(P(n, x),P(n, x)))"
   ]
  },
  {
   "cell_type": "code",
   "execution_count": 83,
   "id": "33ab4364acc56aab",
   "metadata": {
    "ExecuteTime": {
     "end_time": "2024-09-15T11:35:02.043162Z",
     "start_time": "2024-09-15T11:35:02.038447Z"
    }
   },
   "outputs": [
    {
     "name": "stdout",
     "output_type": "stream",
     "text": [
      "final_result=81284171875.96 \n",
      "81284171875.9614\n"
     ]
    }
   ],
   "source": [
    "print(f\"final_result={P(n, x):.2f} \\n{P(n, x):.4f}\")"
   ]
  },
  {
   "cell_type": "code",
   "execution_count": 84,
   "id": "ed2a5c249096e811",
   "metadata": {
    "ExecuteTime": {
     "end_time": "2024-09-15T11:35:02.056411Z",
     "start_time": "2024-09-15T11:35:02.051676Z"
    }
   },
   "outputs": [
    {
     "name": "stdout",
     "output_type": "stream",
     "text": [
      "final_result={81284171875.96} \n",
      "{81284171875.9614}\n"
     ]
    }
   ],
   "source": [
    "print(\"final_result={%.2f} \\n\"\n",
    "      \"{%.4f}\"%(P(n, x), P(n, x)))"
   ]
  },
  {
   "cell_type": "code",
   "execution_count": 84,
   "id": "68afc2222649633b",
   "metadata": {
    "ExecuteTime": {
     "end_time": "2024-09-15T11:35:02.082055Z",
     "start_time": "2024-09-15T11:35:02.079551Z"
    }
   },
   "outputs": [],
   "source": []
  },
  {
   "cell_type": "markdown",
   "id": "1f2c6259744b41a5",
   "metadata": {},
   "source": [
    "BÀI 5"
   ]
  },
  {
   "cell_type": "code",
   "execution_count": 89,
   "id": "9dfe5073eb220c72",
   "metadata": {
    "ExecuteTime": {
     "end_time": "2024-09-15T11:35:12.401884Z",
     "start_time": "2024-09-15T11:35:12.395842Z"
    }
   },
   "outputs": [],
   "source": [
    "import math"
   ]
  },
  {
   "cell_type": "code",
   "execution_count": 93,
   "id": "4b77f8085ed15fff",
   "metadata": {
    "ExecuteTime": {
     "end_time": "2024-09-15T11:35:33.147555Z",
     "start_time": "2024-09-15T11:35:30.277273Z"
    }
   },
   "outputs": [
    {
     "name": "stdout",
     "output_type": "stream",
     "text": [
      "n= 13\n"
     ]
    }
   ],
   "source": [
    "n = int(input(\"Nhập n= \"))\n",
    "print(f\"n= {n}\")"
   ]
  },
  {
   "cell_type": "code",
   "execution_count": 26,
   "id": "23289aeae0dbb47a",
   "metadata": {
    "ExecuteTime": {
     "end_time": "2024-09-15T12:22:29.524578Z",
     "start_time": "2024-09-15T12:22:29.517482Z"
    }
   },
   "outputs": [],
   "source": [
    "def is_prime(n):\n",
    "    for i in range(2, int(math.sqrt(n)+1)):\n",
    "        if n% i ==0:\n",
    "            return False\n",
    "    return True if not n<=1 else False"
   ]
  },
  {
   "cell_type": "code",
   "execution_count": 27,
   "id": "ce5cf4410cdb856c",
   "metadata": {
    "ExecuteTime": {
     "end_time": "2024-09-15T12:22:30.039120Z",
     "start_time": "2024-09-15T12:22:30.031764Z"
    }
   },
   "outputs": [
    {
     "name": "stdout",
     "output_type": "stream",
     "text": [
      "[(0, True), (1, True), (2, True), (3, True), (4, False), (5, True), (6, False), (7, True), (8, False), (9, False), (10, False), (11, True), (12, False), (13, True), (14, False), (15, False), (16, False), (17, True), (18, False), (19, True), (20, False), (21, False), (22, False), (23, True), (24, False), (25, False), (26, False), (27, False), (28, False), (29, True), (30, False), (31, True), (32, False), (33, False), (34, False), (35, False), (36, False), (37, True), (38, False), (39, False), (40, False), (41, True), (42, False), (43, True), (44, False), (45, False), (46, False), (47, True), (48, False), (49, False), (50, False), (51, False), (52, False), (53, True), (54, False), (55, False), (56, False), (57, False), (58, False), (59, True), (60, False), (61, True), (62, False), (63, False), (64, False), (65, False), (66, False), (67, True), (68, False), (69, False), (70, False), (71, True), (72, False), (73, True), (74, False), (75, False), (76, False), (77, False), (78, False), (79, True), (80, False), (81, False), (82, False), (83, True), (84, False), (85, False), (86, False), (87, False), (88, False), (89, True), (90, False), (91, False), (92, False), (93, False), (94, False), (95, False), (96, False), (97, True), (98, False), (99, False)]\n"
     ]
    }
   ],
   "source": [
    "list =[]\n",
    "for i in range (100):\n",
    "    list.append( [i,is_prime(i)] )\n",
    "# result = is_prime(n)\n",
    "# print(result)\n",
    "print(list)\n",
    "list.clear()\n",
    "del(list)"
   ]
  },
  {
   "cell_type": "code",
   "execution_count": 138,
   "id": "ca889dcf5c16499f",
   "metadata": {
    "ExecuteTime": {
     "end_time": "2024-09-15T11:49:50.610292Z",
     "start_time": "2024-09-15T11:49:50.603758Z"
    }
   },
   "outputs": [
    {
     "name": "stdout",
     "output_type": "stream",
     "text": [
      "result (n= 13)= True\n"
     ]
    }
   ],
   "source": [
    "result = is_prime(n)\n",
    "print(f\"result (n= {n})= {result}\")"
   ]
  },
  {
   "cell_type": "markdown",
   "id": "85f31e876add66e0",
   "metadata": {},
   "source": [
    "Bài 6-a"
   ]
  },
  {
   "cell_type": "code",
   "execution_count": 8,
   "id": "c66b0a6bb9d84f0a",
   "metadata": {
    "ExecuteTime": {
     "end_time": "2024-09-15T12:04:17.782200Z",
     "start_time": "2024-09-15T12:04:11.733834Z"
    }
   },
   "outputs": [
    {
     "name": "stdout",
     "output_type": "stream",
     "text": [
      "Thành Công\n",
      "n= 200\n"
     ]
    }
   ],
   "source": [
    "n= int (input(\"n ([100;200]) = \"))\n",
    "while n>200 or n<100:\n",
    "    n= int(input(\"nhập lại n ([100;200]) = \"))\n",
    "else:\n",
    "    print(f\"Thành Công\\nn= {n}\")"
   ]
  },
  {
   "cell_type": "markdown",
   "id": "cc9556d1",
   "metadata": {},
   "source": [
    "Bài 6-B"
   ]
  },
  {
   "cell_type": "code",
   "execution_count": 16,
   "id": "49b44342f78105d5",
   "metadata": {
    "ExecuteTime": {
     "end_time": "2024-09-15T12:11:17.576903Z",
     "start_time": "2024-09-15T12:11:17.569598Z"
    }
   },
   "outputs": [],
   "source": [
    "def find(n):\n",
    "    num = 0\n",
    "    while 2**num <= n:\n",
    "        num+=1\n",
    "    else:\n",
    "        print(f\"found num = {num}\\n\"\n",
    "              f\"final_result = {2**num}\")"
   ]
  },
  {
   "cell_type": "code",
   "execution_count": 17,
   "id": "2890c1484e701fc0",
   "metadata": {
    "ExecuteTime": {
     "end_time": "2024-09-15T12:11:19.214096Z",
     "start_time": "2024-09-15T12:11:19.205652Z"
    }
   },
   "outputs": [
    {
     "name": "stdout",
     "output_type": "stream",
     "text": [
      "found num = 0\n",
      "final_result = 1\n"
     ]
    }
   ],
   "source": [
    "find(0)"
   ]
  },
  {
   "cell_type": "code",
   "execution_count": null,
   "id": "fe5dcdd16bdcda85",
   "metadata": {},
   "outputs": [],
   "source": []
  }
 ],
 "metadata": {
  "kernelspec": {
   "display_name": "Python 3",
   "language": "python",
   "name": "python3"
  },
  "language_info": {
   "codemirror_mode": {
    "name": "ipython",
    "version": 3
   },
   "file_extension": ".py",
   "mimetype": "text/x-python",
   "name": "python",
   "nbconvert_exporter": "python",
   "pygments_lexer": "ipython3",
   "version": "3.12.6"
  }
 },
 "nbformat": 4,
 "nbformat_minor": 5
}
