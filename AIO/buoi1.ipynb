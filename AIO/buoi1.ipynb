{
 "cells": [
  {
   "cell_type": "code",
   "metadata": {
    "jupyter": {
     "is_executing": true
    }
   },
   "source": [
    "import math"
   ],
   "outputs": [],
   "execution_count": null
  },
  {
   "cell_type": "code",
   "execution_count": null,
   "metadata": {},
   "outputs": [],
   "source": [
    "x=\"\"\n",
    "x = input(x)"
   ]
  },
  {
   "cell_type": "code",
   "execution_count": null,
   "metadata": {},
   "outputs": [],
   "source": [
    "y = x.split(\" \")\n",
    "print(y)"
   ]
  },
  {
   "cell_type": "code",
   "execution_count": null,
   "metadata": {},
   "outputs": [],
   "source": [
    "print(len(y))"
   ]
  },
  {
   "cell_type": "code",
   "execution_count": null,
   "metadata": {},
   "outputs": [],
   "source": [
    "a= int(input(\"a= \"))\n",
    "b= int(input(\"b= \"))"
   ]
  },
  {
   "cell_type": "code",
   "execution_count": null,
   "metadata": {},
   "outputs": [],
   "source": [
    "sum = a+b\n",
    "hieu = a-b\n",
    "tich = a*b\n",
    "flash = a/b\n",
    "print(f\"tổng = {sum}\\nHiệu= {hieu}\\nTích={tich}\")\n",
    "print(\"Thương = %.3f\"%flash)"
   ]
  },
  {
   "cell_type": "markdown",
   "metadata": {},
   "source": [
    "bài 2"
   ]
  },
  {
   "cell_type": "code",
   "execution_count": 5,
   "metadata": {},
   "outputs": [
    {
     "name": "stdout",
     "output_type": "stream",
     "text": [
      "tọa độ A: 5.4 3.6\n",
      "tọa độ B: 2.5 6.7\n"
     ]
    }
   ],
   "source": [
    "import math\n",
    "print(\"tọa độ A: \", end = \"\")\n",
    "x1= float(input(\"x1= \"))\n",
    "y1= float(input(\"y1= \"))\n",
    "print(x1, y1)\n",
    "print(\"tọa độ B: \", end= \"\")\n",
    "x2= float(input(\"x2= \"))\n",
    "y2= float(input(\"y2= \"))\n",
    "print(x2, y2)"
   ]
  },
  {
   "cell_type": "code",
   "execution_count": 2,
   "metadata": {},
   "outputs": [
    {
     "ename": "NameError",
     "evalue": "name 'x1' is not defined",
     "output_type": "error",
     "traceback": [
      "\u001B[1;31m---------------------------------------------------------------------------\u001B[0m",
      "\u001B[1;31mNameError\u001B[0m                                 Traceback (most recent call last)",
      "Cell \u001B[1;32mIn[2], line 1\u001B[0m\n\u001B[1;32m----> 1\u001B[0m khoang_cach \u001B[38;5;241m=\u001B[39m math\u001B[38;5;241m.\u001B[39msqrt((\u001B[43mx1\u001B[49m\u001B[38;5;241m-\u001B[39mx2)\u001B[38;5;241m*\u001B[39m\u001B[38;5;241m*\u001B[39m\u001B[38;5;241m2\u001B[39m \u001B[38;5;241m+\u001B[39m (y1\u001B[38;5;241m-\u001B[39my2)\u001B[38;5;241m*\u001B[39m\u001B[38;5;241m*\u001B[39m\u001B[38;5;241m2\u001B[39m)\n\u001B[0;32m      2\u001B[0m \u001B[38;5;28mprint\u001B[39m(\u001B[38;5;124mf\u001B[39m\u001B[38;5;124m\"\u001B[39m\u001B[38;5;124mkhoảng cách: \u001B[39m\u001B[38;5;132;01m{\u001B[39;00mkhoang_cach\u001B[38;5;132;01m}\u001B[39;00m\u001B[38;5;124m\"\u001B[39m)\n",
      "\u001B[1;31mNameError\u001B[0m: name 'x1' is not defined"
     ]
    }
   ],
   "source": [
    "khoang_cach = math.sqrt((x1-x2)**2 + (y1-y2)**2)\n",
    "print(f\"khoảng cách: {khoang_cach}\")"
   ]
  },
  {
   "cell_type": "code",
   "execution_count": 26,
   "metadata": {},
   "outputs": [
    {
     "name": "stdout",
     "output_type": "stream",
     "text": [
      "['8567', '98347', '28937', '94859058']\n"
     ]
    }
   ],
   "source": [
    "str = input(\"nhập một xâu: \").split()\n",
    "print(str)"
   ]
  },
  {
   "cell_type": "code",
   "execution_count": 27,
   "metadata": {},
   "outputs": [
    {
     "name": "stdout",
     "output_type": "stream",
     "text": [
      "[8567, 98347, 28937, 94859058]\n"
     ]
    }
   ],
   "source": [
    "for i in range (0, len(str)):\n",
    "    str[i]=int(str[i])\n",
    "print(str)"
   ]
  },
  {
   "cell_type": "code",
   "execution_count": 18,
   "metadata": {},
   "outputs": [
    {
     "name": "stdout",
     "output_type": "stream",
     "text": [
      "[67, 84, 9834, 98745, 90904]\n"
     ]
    }
   ],
   "source": [
    "b= list(map(int, str))\n",
    "print(b)"
   ]
  },
  {
   "cell_type": "code",
   "execution_count": 22,
   "metadata": {},
   "outputs": [
    {
     "name": "stdout",
     "output_type": "stream",
     "text": [
      "[896, 968, 984098, 909808]\n"
     ]
    }
   ],
   "source": [
    "print(list(map(int,input(\"nhập một xâu: \").split())))"
   ]
  }
 ],
 "metadata": {
  "kernelspec": {
   "display_name": "Python 3",
   "language": "python",
   "name": "python3"
  },
  "language_info": {
   "codemirror_mode": {
    "name": "ipython",
    "version": 3
   },
   "file_extension": ".py",
   "mimetype": "text/x-python",
   "name": "python",
   "nbconvert_exporter": "python",
   "pygments_lexer": "ipython3",
   "version": "3.12.6"
  }
 },
 "nbformat": 4,
 "nbformat_minor": 2
}
