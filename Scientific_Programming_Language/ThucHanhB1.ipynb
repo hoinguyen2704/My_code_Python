{
 "cells": [
  {
   "metadata": {
    "ExecuteTime": {
     "end_time": "2024-09-16T20:03:41.236059Z",
     "start_time": "2024-09-16T20:03:41.230946Z"
    }
   },
   "cell_type": "code",
   "source": "from math import sqrt",
   "id": "a44f3743cab16a34",
   "outputs": [],
   "execution_count": 7
  },
  {
   "metadata": {},
   "cell_type": "code",
   "outputs": [],
   "execution_count": null,
   "source": "",
   "id": "b75c73e2a31cc5f8"
  },
  {
   "metadata": {},
   "cell_type": "code",
   "outputs": [],
   "execution_count": null,
   "source": [
    "def isPrime(n):\n",
    "    if n <= 1:\n",
    "        return False\n",
    "    if n <= 3:\n",
    "        return True\n",
    "    if n % 2 == 0 or n % 3 == 0:\n",
    "        return False\n",
    "    i = 5\n",
    "    while i * i <= n:\n",
    "        if n % i == 0 or n % (i + 2) == 0:\n",
    "            return False\n",
    "        i += 6\n",
    "    return True"
   ],
   "id": "d98d52b0f73c107d"
  },
  {
   "metadata": {},
   "cell_type": "code",
   "outputs": [],
   "execution_count": null,
   "source": [
    "def checkPrime(n):\n",
    "    if isPrime(n):\n",
    "        return 'Prime'\n",
    "    else:\n",
    "        return 'Not Prime'"
   ],
   "id": "fb547e5443e59f83"
  },
  {
   "metadata": {
    "ExecuteTime": {
     "end_time": "2024-09-16T20:03:21.954002Z",
     "start_time": "2024-09-16T20:03:21.947611Z"
    }
   },
   "cell_type": "code",
   "source": [
    "def isPrime(n):\n",
    "    for i in range (2, int(sqrt(n)+1) ):\n",
    "        if n % i == 0:\n",
    "            return False\n",
    "    return True if n > 1 else False"
   ],
   "id": "845ea4ba98b0d3a3",
   "outputs": [],
   "execution_count": 2
  },
  {
   "metadata": {
    "ExecuteTime": {
     "end_time": "2024-09-16T20:03:24.675367Z",
     "start_time": "2024-09-16T20:03:24.669996Z"
    }
   },
   "cell_type": "code",
   "source": [
    "def check_doxung(n):\n",
    "    str2 = \"\".join(reversed(str(n)))\n",
    "    if int(str2) == n:\n",
    "        return True\n",
    "    return False"
   ],
   "id": "15cf6be229ebe12",
   "outputs": [],
   "execution_count": 3
  },
  {
   "metadata": {},
   "cell_type": "markdown",
   "source": "",
   "id": "b7ea1c331f55ba29"
  },
  {
   "metadata": {},
   "cell_type": "code",
   "outputs": [],
   "execution_count": null,
   "source": "",
   "id": "26c4f0c191a9806"
  },
  {
   "metadata": {
    "ExecuteTime": {
     "end_time": "2024-09-16T20:04:57.489899Z",
     "start_time": "2024-09-16T20:04:57.484869Z"
    }
   },
   "cell_type": "code",
   "source": [
    "x= 1221\n",
    "def check_number(n):\n",
    "    if check_doxung(n) and isPrime(n):\n",
    "        return True\n",
    "    else:\n",
    "        return False"
   ],
   "id": "83355c09ad9151fa",
   "outputs": [],
   "execution_count": 12
  },
  {
   "metadata": {
    "ExecuteTime": {
     "end_time": "2024-09-16T20:06:32.294018Z",
     "start_time": "2024-09-16T20:06:32.285015Z"
    }
   },
   "cell_type": "code",
   "source": [
    "for i in range (1011):\n",
    "    if check_number(i):\n",
    "        print(f'{i} : {check_number(i)}')"
   ],
   "id": "dfe00ae8dbf39338",
   "outputs": [
    {
     "name": "stdout",
     "output_type": "stream",
     "text": [
      "2 : True\n",
      "3 : True\n",
      "5 : True\n",
      "7 : True\n",
      "11 : True\n",
      "101 : True\n",
      "131 : True\n",
      "151 : True\n",
      "181 : True\n",
      "191 : True\n",
      "313 : True\n",
      "353 : True\n",
      "373 : True\n",
      "383 : True\n",
      "727 : True\n",
      "757 : True\n",
      "787 : True\n",
      "797 : True\n",
      "919 : True\n",
      "929 : True\n"
     ]
    }
   ],
   "execution_count": 15
  },
  {
   "metadata": {},
   "cell_type": "code",
   "outputs": [],
   "execution_count": null,
   "source": "",
   "id": "6c79597a8a51396c"
  }
 ],
 "metadata": {
  "kernelspec": {
   "display_name": "Python 3",
   "language": "python",
   "name": "python3"
  },
  "language_info": {
   "codemirror_mode": {
    "name": "ipython",
    "version": 2
   },
   "file_extension": ".py",
   "mimetype": "text/x-python",
   "name": "python",
   "nbconvert_exporter": "python",
   "pygments_lexer": "ipython2",
   "version": "2.7.6"
  }
 },
 "nbformat": 4,
 "nbformat_minor": 5
}
