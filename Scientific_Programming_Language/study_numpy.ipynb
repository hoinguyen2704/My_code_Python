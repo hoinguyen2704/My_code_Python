{
 "cells": [
  {
   "cell_type": "code",
   "execution_count": null,
   "id": "initial_id",
   "metadata": {
    "collapsed": true,
    "jupyter": {
     "is_executing": true
    }
   },
   "outputs": [],
   "source": [
    "import numpy as np\n",
    "import pandas as pd\n",
    "import random"
   ]
  },
  {
   "cell_type": "code",
   "execution_count": null,
   "id": "8675133a7fb9f923",
   "metadata": {
    "ExecuteTime": {
     "end_time": "2024-10-14T05:37:48.414481Z",
     "start_time": "2024-10-14T05:37:48.404528Z"
    }
   },
   "outputs": [],
   "source": [
    "a= np.array([[1,4,2,4,2],[3,1,3,5,6]])\n",
    "a"
   ]
  },
  {
   "cell_type": "code",
   "execution_count": null,
   "id": "6ff86b227cb481f7",
   "metadata": {
    "ExecuteTime": {
     "end_time": "2024-10-14T05:37:50.944204Z",
     "start_time": "2024-10-14T05:37:50.930524Z"
    }
   },
   "outputs": [],
   "source": [
    "print(a)\n",
    "print(type(a))"
   ]
  },
  {
   "cell_type": "code",
   "execution_count": null,
   "id": "cd4cab9b0c70ebc4",
   "metadata": {
    "ExecuteTime": {
     "end_time": "2024-10-14T05:37:53.276745Z",
     "start_time": "2024-10-14T05:37:53.271177Z"
    }
   },
   "outputs": [],
   "source": [
    "print(a.shape)"
   ]
  },
  {
   "cell_type": "code",
   "execution_count": null,
   "id": "cb4de17be82249a3",
   "metadata": {
    "ExecuteTime": {
     "end_time": "2024-10-14T05:38:10.330637Z",
     "start_time": "2024-10-14T05:38:10.324880Z"
    }
   },
   "outputs": [],
   "source": [
    "print(a[0,2])"
   ]
  },
  {
   "cell_type": "code",
   "execution_count": null,
   "id": "a673a717bbefdf52",
   "metadata": {},
   "outputs": [],
   "source": [
    "\n",
    "\n",
    "\n",
    "a = pd.DataFrame([[2, np.nan, 5,8], [3, 7, 9, 20],[4, 4, 12, np.nan]])\n",
    "\n",
    "c=a.dropna()\n",
    "\n",
    "print(np.array(c))\n",
    "\n",
    "a = pd.DataFrame([[2, np.nan, 5,8],[3, 7, 9, 20],[4, 4, 12, np.nan]])\n",
    "\n",
    "c=a.dropna(axis=1)\n",
    "\n",
    "print(np.array(c))"
   ]
  },
  {
   "cell_type": "markdown",
   "id": "cbdfb2254ac56379",
   "metadata": {},
   "source": [
    "TẠO MẢNG NGẪU NHIÊN"
   ]
  },
  {
   "cell_type": "code",
   "execution_count": null,
   "id": "29bec62d4c3afdbf",
   "metadata": {
    "ExecuteTime": {
     "end_time": "2024-10-14T05:38:36.002991Z",
     "start_time": "2024-10-14T05:38:35.998439Z"
    }
   },
   "outputs": [],
   "source": []
  },
  {
   "cell_type": "code",
   "execution_count": null,
   "id": "bd9b80babea50e2d",
   "metadata": {
    "ExecuteTime": {
     "end_time": "2024-10-14T05:40:58.954612Z",
     "start_time": "2024-10-14T05:40:58.945069Z"
    }
   },
   "outputs": [],
   "source": [
    "np.random.random((2,4))"
   ]
  },
  {
   "cell_type": "code",
   "execution_count": null,
   "id": "f7abc4511e65f0b5",
   "metadata": {
    "ExecuteTime": {
     "end_time": "2024-10-14T05:42:14.420608Z",
     "start_time": "2024-10-14T05:42:14.411880Z"
    }
   },
   "outputs": [],
   "source": [
    "#tạo mảng ngẫu nhiên các phần tử ko thay đổi khi chạy lại\n",
    "np.random.seed(11)\n",
    "print(np.random.random((2,4)))"
   ]
  },
  {
   "cell_type": "markdown",
   "id": "3b473c5c09db91fd",
   "metadata": {},
   "source": [
    "MẢNG 3 chiều"
   ]
  },
  {
   "cell_type": "code",
   "execution_count": null,
   "id": "872dc5dcbca954e9",
   "metadata": {
    "ExecuteTime": {
     "end_time": "2024-10-14T06:52:08.664116Z",
     "start_time": "2024-10-14T06:52:08.658199Z"
    }
   },
   "outputs": [],
   "source": [
    "e = np.array([1,4,2,4,34,55,210,56,32,4,3,1,4,5,12])\n",
    "print(len(e))\n",
    "print(e.reshape((5,-1)))"
   ]
  },
  {
   "cell_type": "code",
   "execution_count": null,
   "id": "31311ce3f1ec3001",
   "metadata": {
    "ExecuteTime": {
     "end_time": "2024-10-14T05:57:07.522299Z",
     "start_time": "2024-10-14T05:57:07.512496Z"
    }
   },
   "outputs": [],
   "source": [
    "print(a)\n",
    "print()\n",
    "print(a.reshape(a.shape[0]*a.shape[1]))"
   ]
  },
  {
   "cell_type": "code",
   "execution_count": null,
   "id": "d1101b91e2efe7c0",
   "metadata": {
    "ExecuteTime": {
     "end_time": "2024-10-14T06:02:12.940916Z",
     "start_time": "2024-10-14T06:02:12.933682Z"
    }
   },
   "outputs": [],
   "source": [
    "f = np.arange(7)\n",
    "print(f\"{f}\\n\")\n",
    "print(f\"{type(f)}\\n\")"
   ]
  },
  {
   "cell_type": "markdown",
   "id": "5317c36c80c4b146",
   "metadata": {},
   "source": [
    "SO SÁNH"
   ]
  },
  {
   "cell_type": "code",
   "execution_count": null,
   "id": "5b1023b92664e1ff",
   "metadata": {
    "ExecuteTime": {
     "end_time": "2024-10-14T06:52:16.907054Z",
     "start_time": "2024-10-14T06:52:16.902250Z"
    }
   },
   "outputs": [],
   "source": [
    "print(e)\n",
    "e= e.reshape(3,-1)"
   ]
  },
  {
   "cell_type": "code",
   "execution_count": null,
   "id": "f6386b489c02278d",
   "metadata": {
    "ExecuteTime": {
     "end_time": "2024-10-14T06:53:47.311985Z",
     "start_time": "2024-10-14T06:53:47.305212Z"
    }
   },
   "outputs": [],
   "source": [
    "print(e)\n",
    "print(e.shape)\n",
    "e_2 = np.array([[1,40,2,4,2],[3,1,3,5,6],[2,3,4,5,2]])\n",
    "print(e_2)\n",
    "print(e_2.shape)"
   ]
  },
  {
   "cell_type": "markdown",
   "id": "65a57f46ddcfcf44",
   "metadata": {},
   "source": [
    "lọc các phần tử thỏa mãn 1 điều kiện nào đó"
   ]
  },
  {
   "cell_type": "code",
   "execution_count": null,
   "id": "8f2593d6864485b",
   "metadata": {
    "ExecuteTime": {
     "end_time": "2024-10-14T06:35:04.297880Z",
     "start_time": "2024-10-14T06:35:04.292173Z"
    }
   },
   "outputs": [],
   "source": [
    "e_af = e>5\n",
    "print(e_af)"
   ]
  },
  {
   "cell_type": "code",
   "execution_count": null,
   "id": "fcf80dced5971ea0",
   "metadata": {
    "ExecuteTime": {
     "end_time": "2024-10-14T06:35:09.511755Z",
     "start_time": "2024-10-14T06:35:09.504285Z"
    }
   },
   "outputs": [],
   "source": [
    "e[e>5]"
   ]
  },
  {
   "cell_type": "code",
   "execution_count": null,
   "id": "f17eec85a64164be",
   "metadata": {
    "ExecuteTime": {
     "end_time": "2024-10-14T06:35:26.924856Z",
     "start_time": "2024-10-14T06:35:26.920637Z"
    }
   },
   "outputs": [],
   "source": [
    "print(type(e_af))"
   ]
  },
  {
   "cell_type": "markdown",
   "id": "4f846d9c47ef4d27",
   "metadata": {},
   "source": [
    "dtype"
   ]
  },
  {
   "cell_type": "code",
   "execution_count": null,
   "id": "73a708549581b1d",
   "metadata": {
    "ExecuteTime": {
     "end_time": "2024-10-14T06:35:33.877012Z",
     "start_time": "2024-10-14T06:35:33.869149Z"
    }
   },
   "outputs": [],
   "source": [
    "print(e)\n",
    "\n",
    "e.dtype"
   ]
  },
  {
   "cell_type": "code",
   "execution_count": null,
   "id": "7d4beb2f1cf73ec9",
   "metadata": {
    "ExecuteTime": {
     "end_time": "2024-10-14T06:51:02.824316Z",
     "start_time": "2024-10-14T06:51:02.817750Z"
    }
   },
   "outputs": [],
   "source": [
    "e.reshape(-1,5)"
   ]
  },
  {
   "cell_type": "code",
   "execution_count": null,
   "id": "c61a8be41d7f1ce4",
   "metadata": {
    "ExecuteTime": {
     "end_time": "2024-10-14T06:51:35.251751Z",
     "start_time": "2024-10-14T06:51:35.245636Z"
    }
   },
   "outputs": [],
   "source": [
    "e.reshape((5,-1))\n",
    "print(e)"
   ]
  },
  {
   "cell_type": "code",
   "execution_count": null,
   "id": "32bf06caf931fef3",
   "metadata": {
    "ExecuteTime": {
     "end_time": "2024-10-14T07:06:36.375962Z",
     "start_time": "2024-10-14T07:06:36.370449Z"
    }
   },
   "outputs": [],
   "source": [
    "print(e)\n",
    "print(e_2)\n",
    "print(e*e_2)\n",
    "# e_2= np.append(e_2,[1,4,2,4,2])\n",
    "# e_2 =e_2.reshape((-11, 5))\n",
    "# print(e_2)"
   ]
  },
  {
   "cell_type": "code",
   "execution_count": null,
   "id": "849692516c200014",
   "metadata": {
    "ExecuteTime": {
     "end_time": "2024-10-14T07:09:21.651801Z",
     "start_time": "2024-10-14T07:09:21.647436Z"
    }
   },
   "outputs": [],
   "source": [
    "e = e.reshape(1, -1)\n",
    "e = np.append(e, [13])\n"
   ]
  },
  {
   "cell_type": "code",
   "execution_count": null,
   "id": "b0893553139db78",
   "metadata": {
    "ExecuteTime": {
     "end_time": "2024-10-14T07:09:47.656989Z",
     "start_time": "2024-10-14T07:09:47.649957Z"
    }
   },
   "outputs": [],
   "source": [
    "e = np.delete(e, -1)\n",
    "print(e)\n",
    "print(len(e))"
   ]
  },
  {
   "cell_type": "code",
   "execution_count": null,
   "id": "bc7cf7a0971db127",
   "metadata": {
    "ExecuteTime": {
     "end_time": "2024-10-14T07:10:02.059854Z",
     "start_time": "2024-10-14T07:10:02.055822Z"
    }
   },
   "outputs": [],
   "source": [
    "e = e.reshape(4, -1)"
   ]
  },
  {
   "cell_type": "code",
   "execution_count": null,
   "id": "627fc9aa3146cdee",
   "metadata": {
    "ExecuteTime": {
     "end_time": "2024-10-14T07:10:31.263704Z",
     "start_time": "2024-10-14T07:10:31.234979Z"
    }
   },
   "outputs": [],
   "source": [
    "np.linalg.inv(e)"
   ]
  },
  {
   "cell_type": "code",
   "execution_count": null,
   "id": "916961c2d018793e",
   "metadata": {
    "ExecuteTime": {
     "end_time": "2024-10-14T07:11:55.721662Z",
     "start_time": "2024-10-14T07:11:55.714146Z"
    }
   },
   "outputs": [],
   "source": [
    "print(e)\n",
    "e[0] = [1,2,3,10]\n",
    "print(e[0])"
   ]
  },
  {
   "cell_type": "code",
   "execution_count": null,
   "id": "7dfb9a045fac09cd",
   "metadata": {
    "ExecuteTime": {
     "end_time": "2024-10-14T07:11:57.470732Z",
     "start_time": "2024-10-14T07:11:57.463018Z"
    }
   },
   "outputs": [],
   "source": [
    "print(e)"
   ]
  },
  {
   "cell_type": "code",
   "execution_count": null,
   "id": "de3c6c4f2de79e34",
   "metadata": {},
   "outputs": [],
   "source": []
  },
  {
   "cell_type": "markdown",
   "id": "99b3e10dac84fae",
   "metadata": {},
   "source": [
    "LẤY TỔNG MIN MAX"
   ]
  },
  {
   "cell_type": "code",
   "execution_count": null,
   "id": "49e361465fa3f8a",
   "metadata": {
    "ExecuteTime": {
     "end_time": "2024-10-14T07:12:59.844815Z",
     "start_time": "2024-10-14T07:12:59.839020Z"
    }
   },
   "outputs": [],
   "source": [
    "print(e)"
   ]
  },
  {
   "cell_type": "code",
   "execution_count": null,
   "id": "637fa581afbffc5",
   "metadata": {
    "ExecuteTime": {
     "end_time": "2024-10-14T07:24:20.654367Z",
     "start_time": "2024-10-14T07:24:20.644852Z"
    }
   },
   "outputs": [],
   "source": [
    "print(e.sum())\n",
    "print(e.max())\n",
    "print(e.min())\n",
    "print(e)"
   ]
  },
  {
   "cell_type": "markdown",
   "id": "142c9b8c2f196736",
   "metadata": {},
   "source": [
    "nhân ma trận -> a.dot(b)"
   ]
  },
  {
   "cell_type": "code",
   "execution_count": null,
   "id": "6a6ecc87cd906028",
   "metadata": {
    "ExecuteTime": {
     "end_time": "2024-10-14T07:45:12.512901Z",
     "start_time": "2024-10-14T07:45:12.506886Z"
    }
   },
   "outputs": [],
   "source": [
    "a = np.array([[1,3,2,4],\n",
    "              [3,1,3,5]])\n",
    "b = np.array([[3,5],\n",
    "              [10,5],\n",
    "              [3,6],\n",
    "              [7,5]])\n",
    "print(a.dot(b))\n"
   ]
  },
  {
   "cell_type": "code",
   "execution_count": null,
   "id": "30962522",
   "metadata": {},
   "outputs": [],
   "source": [
    "b= np.array([[7,8],[11,12]])\n",
    "print(np.transpose(b))"
   ]
  },
  {
   "cell_type": "code",
   "execution_count": null,
   "id": "74aee5cf",
   "metadata": {},
   "outputs": [],
   "source": [
    "a= np.array([[7,8,9], [3,2,1]])\n",
    "print(np.sum(a, 0)) #tính tổng các phần tử theo trục thứ 0 (các cột)\n",
    "print(np.min(a, 1)) #tìm phần tử nhỏ nhất theo trục 1 (các hàng)"
   ]
  },
  {
   "cell_type": "code",
   "execution_count": null,
   "id": "a43aea0a3f4254b3",
   "metadata": {},
   "outputs": [],
   "source": [
    "a= np.array([1,3,7,7,1,3,4,4,2,1,3,4])\n",
    "b= np.array([-10,5,2])\n",
    "a= a.reshape((4,-1))\n",
    "print(a.flatten())"
   ]
  },
  {
   "cell_type": "markdown",
   "id": "4da6274e",
   "metadata": {},
   "source": [
    "Bài 5.3"
   ]
  },
  {
   "cell_type": "code",
   "execution_count": null,
   "id": "ffc92f3b",
   "metadata": {},
   "outputs": [],
   "source": [
    "import random\n",
    "import numpy as np"
   ]
  },
  {
   "cell_type": "code",
   "execution_count": null,
   "id": "6c4ba6bb",
   "metadata": {},
   "outputs": [],
   "source": [
    "def input_arr(n):\n",
    "    arr= []\n",
    "    for i in range (n):\n",
    "        arr.append(random.randint(1,10))\n",
    "    return np.array(arr)"
   ]
  },
  {
   "cell_type": "code",
   "execution_count": null,
   "id": "79ef7087",
   "metadata": {},
   "outputs": [],
   "source": [
    "def find_equal(arr_a, arr_b):\n",
    "    k= a==b\n",
    "    for i in range(len(k)):\n",
    "        if k[i]:\n",
    "            print(i, end=\"\\t\")\n",
    "    print()"
   ]
  },
  {
   "cell_type": "code",
   "execution_count": null,
   "id": "84ec7911",
   "metadata": {},
   "outputs": [],
   "source": [
    "def reshap_arr(arr_b):\n",
    "    n= int(input('input something: '))\n",
    "    m= int(input('input something: '))\n",
    "    if m*n == len(b):\n",
    "        return np.reshape(arr_b,(m, n))\n",
    "    raise ValueError (\"m*n must be a power of 2\")"
   ]
  },
  {
   "cell_type": "code",
   "execution_count": null,
   "id": "f9ed46fa",
   "metadata": {},
   "outputs": [],
   "source": [
    "n= int(input(\"input something: \"))\n",
    "a= input_arr(n)\n",
    "b= input_arr(n)\n",
    "print(f\"a= {a}\")\n",
    "print(f\"b= {b}\")\n",
    "find_equal(a, b)\n",
    "\n",
    "shape_b = reshap_arr(b)\n",
    "print(shape_b)"
   ]
  },
  {
   "cell_type": "code",
   "execution_count": null,
   "id": "88287318",
   "metadata": {},
   "outputs": [],
   "source": [
    "c= np.array((a,b))\n",
    "print(c)\n",
    "print(c.size)"
   ]
  },
  {
   "cell_type": "markdown",
   "id": "c9b03a43",
   "metadata": {},
   "source": [
    "join and split -> nối vs tách mảng"
   ]
  },
  {
   "cell_type": "code",
   "execution_count": null,
   "id": "72645ce3",
   "metadata": {},
   "outputs": [],
   "source": [
    "# nối mản: concatenate\n",
    "a= np.array([1,2,3,44])\n",
    "b= np.array([133,4,23,44])\n",
    "c= np.concatenate((a, b))\n",
    "\n",
    "#ghép 2 chiều (thêm tham số axis = 0, 1, 2)\n",
    "print(c)"
   ]
  },
  {
   "cell_type": "markdown",
   "id": "49a3ef2e",
   "metadata": {},
   "source": [
    "np.array_split(array, số lượng cần tách)"
   ]
  },
  {
   "cell_type": "code",
   "execution_count": null,
   "id": "acc32b40",
   "metadata": {},
   "outputs": [],
   "source": [
    "b= input_arr(24)\n",
    "b= b.reshape(6,-1)\n",
    "print(b)\n",
    "c= np.array_split(b, 4)\n"
   ]
  },
  {
   "cell_type": "markdown",
   "id": "ce2f74e0",
   "metadata": {},
   "source": [
    "searching"
   ]
  },
  {
   "cell_type": "code",
   "execution_count": null,
   "id": "b2115be2",
   "metadata": {},
   "outputs": [],
   "source": [
    "mang = input_arr(20)\n",
    "print(mang)"
   ]
  },
  {
   "cell_type": "code",
   "execution_count": null,
   "id": "b8e1def3",
   "metadata": {},
   "outputs": [],
   "source": [
    "\n",
    "from audioop import reverse\n",
    "\n",
    "\n",
    "k = np.where((mang >= 4) | (mang <= 8) )\n",
    "print(k[0])\n",
    "print(  np.sort(mang)[::-1] )\n",
    "# print(sum(a[k[[0]]]) )\n",
    "[3,2,4,4,2].sort()"
   ]
  },
  {
   "cell_type": "code",
   "execution_count": null,
   "id": "2cdb397a",
   "metadata": {},
   "outputs": [],
   "source": [
    "a=  input_arr(10)\n",
    "print(a)"
   ]
  },
  {
   "cell_type": "code",
   "execution_count": null,
   "id": "824f3e88",
   "metadata": {},
   "outputs": [],
   "source": [
    "print(f\"vị trí chẵn: {np.where(a%2 ==0)[0]}\")\n",
    "total = sum(a[np.where(a%2==0)[0]])\n",
    "print(f\"tổng = {total}\")\n",
    "\n",
    "b= np.sort(a)[::-1]\n",
    "print(b)\n"
   ]
  },
  {
   "cell_type": "code",
   "execution_count": null,
   "id": "87754c6f",
   "metadata": {},
   "outputs": [],
   "source": [
    "import numpy as np\n",
    "def check(arr):\n",
    "    T=0\n",
    "    G=0\n",
    "    B=0\n",
    "    for i in range(len(arr)-1):\n",
    "        if arr[i] > arr[i+1]: G+=1\n",
    "        if arr[i] < arr[i+1]: T+=1\n",
    "        if arr[i] == arr[i+1]: B+=1\n",
    "    if G== len(arr)-1: print('Giảm Ngặt')\n",
    "    if T== len(arr)-1: print('Tăng Ngặt')\n",
    "    if T==0 and B > 0: print('Giảm')\n",
    "    if G==0 and B > 0: print('Tăng')\n",
    "    else: print('chưa sắp')"
   ]
  },
  {
   "cell_type": "markdown",
   "id": "33e76861f68bab4d",
   "metadata": {},
   "source": [
    "MATPLOTLIB->PYPLOT"
   ]
  },
  {
   "cell_type": "code",
   "execution_count": 9,
   "id": "8246f049c19853f7",
   "metadata": {
    "ExecuteTime": {
     "end_time": "2024-10-14T08:30:36.713245Z",
     "start_time": "2024-10-14T08:30:36.705792Z"
    }
   },
   "outputs": [
    {
     "data": {
      "text/plain": [
       "Text(0.5, 1.0, 'f(x)')"
      ]
     },
     "execution_count": 9,
     "metadata": {},
     "output_type": "execute_result"
    },
    {
     "data": {
      "image/png": "[encoded data removed]",
      "text/plain": [
       "<Figure size 640x480 with 2 Axes>"
      ]
     },
     "metadata": {},
     "output_type": "display_data"
    }
   ],
   "source": [
    "import matplotlib.pyplot as plt\n",
    "import numpy as np\n",
    "import math\n",
    "import random as rand\n",
    "x= np.linspace(start=-10, stop= 10, num=100, endpoint=True)\n",
    "y= np.random.randint(0, 10, 100)\n",
    "f_x = 3*x**3 + - 3*x**2 + 3*x -3\n",
    "from turtle import color\n",
    "font ={'family': 'segoe UI', 'size':20, 'color': ' green'}\n",
    "plt.subplot(1,2,1)\n",
    "plt.plot(x, y, color='red', marker='.', ms=10)\n",
    "plt.xlabel('x', loc='center')\n",
    "plt.ylabel('y', loc='bottom')\n",
    "plt.title(\"tọa độ các điểm ngẫu nhiên\")\n",
    "# plt.show()\n",
    "\n",
    "plt.subplot(1,2,2)\n",
    "plt.plot(x, f_x, color = 'green', marker ='o', ms= 10, mec= 'r', mfc ='g')\n",
    "plt.xlabel('x', loc='center')\n",
    "plt.ylabel('3*x**3 + - 3*x**2 + 3*x -3', loc='bottom')\n",
    "plt.title('f(x)')\n",
    "# plt.show()"
   ]
  },
  {
   "cell_type": "code",
   "execution_count": null,
   "id": "6db86034",
   "metadata": {},
   "outputs": [
    {
     "data": {
      "text/plain": [
       "Text(0.5, 1.0, 'đồ thị y= sin(x)')"
      ]
     },
     "execution_count": 13,
     "metadata": {},
     "output_type": "execute_result"
    },
    {
     "data": {
      "image/png": "[encoded data removed]",
      "text/plain": [
       "<Figure size 640x480 with 1 Axes>"
      ]
     },
     "metadata": {},
     "output_type": "display_data"
    }
   ],
   "source": [
    "import matplotlib.pyplot as plt\n",
    "import numpy as np\n",
    "import math\n",
    "import random as rand\n",
    "import math\n",
    "x= np.linspace(-2*math.pi, 2*math.pi, int( (4*math.pi) / (math.pi/15)), endpoint='True' )\n",
    "y= np.sin(x)\n",
    "\n",
    "font = {'family': 'segoe UI', 'color': 'green','size':20}\n",
    "plt.plot(x, y, color ='green', marker ='*', ms='10', mec ='b', mfc ='r' )\n",
    "plt.xlabel('x')\n",
    "plt.ylabel('y= sin(x)')\n",
    "plt.title(\"đồ thị y= sin(x)\")\n",
    "plt.show()"
   ]
  },
  {
   "cell_type": "code",
   "execution_count": null,
   "id": "fb94e73b",
   "metadata": {},
   "outputs": [],
   "source": [
    "from turtle import color\n",
    "\n",
    "\n",
    "x_data=np.linspace(-10, 10, 10)\n",
    "\n",
    "fx = 2*x_data*x_data + 3*x_data +5\n",
    "# fx = np.cos(x_data)\n",
    "font = {'family':'segoe UI', 'color': 'green', 'size':20}\n",
    "plt.plot(x_data, fx, color = \"red\", marker ='o', ms =10, mec ='r', mfc ='b')\n",
    "plt.xlabel(\"x\", fontdict=font, loc='left')\n",
    "plt.ylabel(\"y= x^2 + 3x +5\", fontdict=font, loc= 'top')\n",
    "plt.title(\"this is paragram\", fontdict=font)\n"
   ]
  },
  {
   "cell_type": "code",
   "execution_count": null,
   "id": "a7c566c3f94f12e8",
   "metadata": {
    "ExecuteTime": {
     "end_time": "2024-10-14T08:59:59.583670Z",
     "start_time": "2024-10-14T08:59:59.576841Z"
    }
   },
   "outputs": [],
   "source": [
    "X =np.arange(0,2*math.pi+1, math.pi/15)\n",
    "y= np.sin(X)\n",
    "y_cos = np.cos(X)"
   ]
  },
  {
   "cell_type": "code",
   "execution_count": null,
   "id": "a88708eaac63965d",
   "metadata": {
    "ExecuteTime": {
     "end_time": "2024-10-14T09:08:01.127621Z",
     "start_time": "2024-10-14T09:08:00.933799Z"
    }
   },
   "outputs": [],
   "source": [
    "from matplotlib import axis\n",
    "\n",
    "\n",
    "plt.plot(X, y, color =\"green\")\n",
    "plt.plot(X, y_cos, color =\"red\")\n",
    "plt.title(\"this is sin(x)\")\n",
    "plt.xlabel(\"x value\")\n",
    "plt.ylabel(\"y= sin(x)\")\n",
    "plt.grid(color = \"blue\")\n",
    "plt.show()\n",
    "#giải giá trị của cần vẽ, hàm giá trị"
   ]
  },
  {
   "cell_type": "markdown",
   "id": "deafe96af59df47f",
   "metadata": {},
   "source": [
    "Vẽ nhiều đồ thị"
   ]
  },
  {
   "cell_type": "code",
   "execution_count": null,
   "id": "d20899d71a32b2ec",
   "metadata": {
    "ExecuteTime": {
     "end_time": "2024-10-14T09:41:33.240150Z",
     "start_time": "2024-10-14T09:41:32.944558Z"
    }
   },
   "outputs": [],
   "source": [
    "plt.subplot(1,2,2) # màn hình 1 dòng và 2 cột, vẽ đồ thị ở cột số 2\n",
    "plt.plot(X, y, color =\"red\")\n",
    "plt.title(\"this is sin x\")\n",
    "plt.xlabel(\"x value\")\n",
    "plt.ylabel(\"y = sin x\")\n",
    "\n",
    "plt.subplot(1,2,1)\n",
    "plt.title(\"this is cos x\")\n",
    "plt.xlabel(\"x value\")\n",
    "plt.ylabel(\"y= cos x\")\n",
    "plt.scatter(X, y_cos, color =\"green\")\n",
    "plt.show()"
   ]
  },
  {
   "cell_type": "markdown",
   "id": "a0fed1144642979c",
   "metadata": {},
   "source": [
    "BAR"
   ]
  },
  {
   "cell_type": "code",
   "execution_count": null,
   "id": "c64a2b9d0d334021",
   "metadata": {
    "ExecuteTime": {
     "end_time": "2024-10-14T10:38:32.590668Z",
     "start_time": "2024-10-14T10:38:32.425049Z"
    }
   },
   "outputs": [],
   "source": [
    "list_name =[\"hội\", \"toàn\", \"Thảo\", \"hằng\", \"Quân\"]\n",
    "list_value = [1,10,3,3,5]\n",
    "list_canNang =[1.5, 1.68, 1.70, 1.4, 1.5]\n",
    "plt.bar(list_name, list_value)\n",
    "plt.bar(list_name, list_canNang)\n",
    "plt.title(\"phiếu điểm\")\n",
    "plt.xlabel(\"tên thành viên\")\n",
    "plt.ylabel(\"điểm\")\n",
    "plt.legend([\"màu\", \"cân nặng\"])\n",
    "plt.show()\n",
    "#list label tiêu đề, list giá trị cần vẽ"
   ]
  },
  {
   "cell_type": "markdown",
   "id": "874c528612bd9bab",
   "metadata": {},
   "source": [
    "PANDAS - SEABORN"
   ]
  },
  {
   "cell_type": "code",
   "execution_count": null,
   "id": "5b263cef4307cbb4",
   "metadata": {
    "ExecuteTime": {
     "end_time": "2024-10-14T10:38:20.076140Z",
     "start_time": "2024-10-14T10:38:20.068633Z"
    }
   },
   "outputs": [],
   "source": [
    "import pandas as pd\n",
    "import matplotlib.pyplot as plt\n",
    "%matplotlib inline"
   ]
  },
  {
   "cell_type": "code",
   "execution_count": null,
   "id": "af41aa66d799a3c4",
   "metadata": {
    "ExecuteTime": {
     "end_time": "2024-10-14T12:06:14.956252Z",
     "start_time": "2024-10-14T12:06:14.949385Z"
    }
   },
   "outputs": [],
   "source": [
    "path = \"../TTNT/Dulieu_1.csv\"\n",
    "df = pd.read_csv(path)"
   ]
  },
  {
   "cell_type": "code",
   "execution_count": null,
   "id": "c6e7b6b6c472c41",
   "metadata": {
    "ExecuteTime": {
     "end_time": "2024-10-14T12:06:16.472927Z",
     "start_time": "2024-10-14T12:06:16.449839Z"
    }
   },
   "outputs": [],
   "source": [
    "df.head(-1)\n",
    "\n",
    "# Assuming 'df' is your DataFrame\n",
    "num_columns = df.shape[1]\n",
    "num_rows = df.shape[0]\n",
    "\n",
    "print(\"Number of columns:\", num_columns)\n",
    "print(\"Number of rows:\", num_rows)"
   ]
  },
  {
   "cell_type": "code",
   "execution_count": null,
   "id": "c8554796",
   "metadata": {},
   "outputs": [],
   "source": [
    "print(type(df.iloc[:, :-1]))\n",
    "print(df.iloc[:, :-1])\n",
    "print(type(df.loc[:, df.columns[:-1]]))\n",
    "df.loc[:,df.columns[-1]]\n",
    "df.iloc[:,-1]"
   ]
  },
  {
   "cell_type": "code",
   "execution_count": null,
   "id": "97ea5762",
   "metadata": {},
   "outputs": [],
   "source": [
    "x = df.iloc[:, :-1]\n",
    "y = df.iloc[:,-1]"
   ]
  },
  {
   "cell_type": "code",
   "execution_count": null,
   "id": "789c7285",
   "metadata": {},
   "outputs": [],
   "source": [
    "print(x)\n",
    "print(y)"
   ]
  },
  {
   "cell_type": "code",
   "execution_count": null,
   "id": "bb641791",
   "metadata": {},
   "outputs": [],
   "source": [
    "\n",
    "import numpy as np\n",
    "from sklearn.preprocessing import LabelEncoder\n",
    "\n",
    "# Assuming 'data' is a pandas DataFrame and 'CLASS' is the column to be encoded\n",
    "y = LabelEncoder().fit_transform(df['CLASS'])"
   ]
  },
  {
   "cell_type": "code",
   "execution_count": null,
   "id": "4aef4653cc798950",
   "metadata": {
    "jupyter": {
     "is_executing": true
    }
   },
   "outputs": [],
   "source": [
    "print(type(x))"
   ]
  },
  {
   "cell_type": "code",
   "execution_count": null,
   "id": "8b97c42bb7cd7794",
   "metadata": {},
   "outputs": [],
   "source": [
    "from sklearn.tree import plot_tree\n",
    "from sklearn.model_selection import train_test_split\n",
    "from sklearn import tree\n",
    "from sklearn.tree import DecisionTreeClassifier, DecisionTreeRegressor"
   ]
  },
  {
   "cell_type": "code",
   "execution_count": null,
   "id": "d4ba4c5e",
   "metadata": {},
   "outputs": [],
   "source": []
  }
 ],
 "metadata": {
  "kernelspec": {
   "display_name": "Python 3",
   "language": "python",
   "name": "python3"
  },
  "language_info": {
   "codemirror_mode": {
    "name": "ipython",
    "version": 3
   },
   "file_extension": ".py",
   "mimetype": "text/x-python",
   "name": "python",
   "nbconvert_exporter": "python",
   "pygments_lexer": "ipython3",
   "version": "3.11.9"
  }
 },
 "nbformat": 4,
 "nbformat_minor": 5
}
