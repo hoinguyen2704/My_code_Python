{
 "cells": [
  {
   "cell_type": "markdown",
   "metadata": {},
   "source": [
    "online 3 bài 1"
   ]
  },
  {
   "cell_type": "code",
   "execution_count": 2,
   "metadata": {},
   "outputs": [],
   "source": [
    "import pandas as pd\n",
    "import numpy as np"
   ]
  },
  {
   "cell_type": "code",
   "execution_count": 62,
   "metadata": {},
   "outputs": [
    {
     "name": "stdout",
     "output_type": "stream",
     "text": [
      "n= 150\tm= 5\n",
      "mảng y có 3 giá trị khác nhau\n",
      "1 : 50\n",
      "2 : 50\n",
      "3 : 50\n",
      "avg_format = [5.8 3.  3.7 1.2]\n",
      "avg_list = <class 'numpy.ndarray'>\n",
      "(array([ 1,  7, 22, 25, 25, 26, 45, 62, 67, 93], dtype=int64), array([1, 0, 2, 0, 1, 0, 1, 2, 3, 3], dtype=int64))\n",
      "[1 1 1 1 1 1 1 1 1 1 1 1 1 1 1 1 1 1 1 1 1 1 1 1 1 1 1 1 1 1 1 1 1 1 1 1 1\n",
      " 1 1 1 1 1 1 1 1 1 1 1 1 1 2 2 2 2 2 2 2 2 2 2 2 2 2 2 2 2 2 2 2 2 2 2 2 2\n",
      " 2 2 2 2 2 2 2 2 2 2 2 2 2 2 2 2 2 2 2 2 2 2 2 2 2 2 3 3 3 3 3 3 3 3 3 3 3\n",
      " 3 3 3 3 3 3 3 3 3 3 3 3 3 3 3 3 3 3 3 3 3 3 3 3 3 3 3 3 3 3 3 3 3 3 3 3 3\n",
      " 3 3]\n"
     ]
    }
   ],
   "source": [
    "#1\n",
    "file_path = './dataBaiO2.txt'\n",
    "with open(file_path, 'r', encoding ='utf8') as f:\n",
    "    n, m = list(map(int,f.readline().split()))\n",
    "    a=[]\n",
    "    for i in range(n):\n",
    "        k= f.readline().split()\n",
    "        for col in range (m):\n",
    "            if k[col] != '?' :\n",
    "                k[col]= float(k[col])\n",
    "        a.append(k)\n",
    "#/1\n",
    "#2\n",
    "print(f'n= {n}\\tm= {m}')\n",
    "# for i in range(len(a)):\n",
    "#     print(f'{a[i]}')\n",
    "\n",
    "x= [col[:-1] for col in a]\n",
    "x= np.array([ [float(value) if value != '?' else np.nan for value in row] for row in x])\n",
    "\n",
    "# for i in range(len(x)):\n",
    "#     print(f'{x[i]}')\n",
    "y= list(map(int,[col[-1] for col in a]))\n",
    "y=np.array(y)\n",
    "#/2\n",
    "# for i in range(len(y)):\n",
    "#     print(f'{y[i]}')\n",
    "# print(type(y))\n",
    "#3\n",
    "key, counter = np.unique(y, return_counts=True)\n",
    "dict_counter = dict(zip(key, counter))\n",
    "print(f'mảng y có {len(dict_counter)} giá trị khác nhau')\n",
    "for key, value in dict_counter.items():\n",
    "    print(f'{key} : {value}')\n",
    "#/3\n",
    "\n",
    "#4\n",
    "# avg_list =[]\n",
    "# for j in range(m -1):\n",
    "#     avg_list.append(sum( [col[j] for col in x if col[j] != '?']) /len(x) )\n",
    "# avg_list = np.array(avg_list)\n",
    "# avg_list = np.array()\n",
    "avg_list = np.nanmean(x, axis =0)\n",
    "avg_format = np.array(list(map(lambda x: int(x*10)/10, avg_list )))\n",
    "print(f'avg_format = {avg_format}')\n",
    "print(f'avg_list = {type(avg_format)}')\n",
    "indexs = np.where(np.isnan(x)) # trả về 1 tuple chứa 2 mảng (số hàng, số cột)\n",
    "print(indexs)\n",
    "x[indexs] = avg_format[indexs[1]]\n",
    "print(y)\n",
    "# for i in range(len(x)):\n",
    "#     print(f'{x[i]}')\n"
   ]
  },
  {
   "cell_type": "code",
   "execution_count": 48,
   "metadata": {},
   "outputs": [],
   "source": [
    "with open('out.txt', 'w',encoding='utf8') as f_out:\n",
    "    # x= x.astype(list)\n",
    "    f_out.write(f'n= {str(n)}\\ttm= {str(m)}\\n')\n",
    "    for i in range(len(x)):\n",
    "        f_out.write(f\"{' '.join(map(str, x[i]))}\\n\")"
   ]
  },
  {
   "cell_type": "code",
   "execution_count": 51,
   "metadata": {},
   "outputs": [],
   "source": [
    "import random"
   ]
  },
  {
   "cell_type": "code",
   "execution_count": 61,
   "metadata": {},
   "outputs": [
    {
     "ename": "ValueError",
     "evalue": "The truth value of an array with more than one element is ambiguous. Use a.any() or a.all()",
     "output_type": "error",
     "traceback": [
      "\u001b[1;31m---------------------------------------------------------------------------\u001b[0m",
      "\u001b[1;31mValueError\u001b[0m                                Traceback (most recent call last)",
      "Cell \u001b[1;32mIn[61], line 7\u001b[0m\n\u001b[0;32m      5\u001b[0m i \u001b[38;5;241m=\u001b[39m random\u001b[38;5;241m.\u001b[39mrandint(\u001b[38;5;241m0\u001b[39m, \u001b[38;5;28mlen\u001b[39m(y) \u001b[38;5;241m-\u001b[39m \u001b[38;5;241m1\u001b[39m)\n\u001b[0;32m      6\u001b[0m \u001b[38;5;28;01mif\u001b[39;00m i \u001b[38;5;241m<\u001b[39m\u001b[38;5;241m=\u001b[39m \u001b[38;5;28mlen\u001b[39m(y):\n\u001b[1;32m----> 7\u001b[0m     \u001b[38;5;28;01mif\u001b[39;00m \u001b[43my\u001b[49m\u001b[43m[\u001b[49m\u001b[43mi\u001b[49m\u001b[43m]\u001b[49m\u001b[43m \u001b[49m\u001b[38;5;129;43;01mnot\u001b[39;49;00m\u001b[43m \u001b[49m\u001b[38;5;129;43;01min\u001b[39;49;00m\u001b[43m \u001b[49m\u001b[43my_train\u001b[49m:\n\u001b[0;32m      8\u001b[0m         x_test\u001b[38;5;241m.\u001b[39mappend(x[i])\n\u001b[0;32m      9\u001b[0m         y_test\u001b[38;5;241m.\u001b[39mappend(y[i])\n",
      "\u001b[1;31mValueError\u001b[0m: The truth value of an array with more than one element is ambiguous. Use a.any() or a.all()"
     ]
    }
   ],
   "source": [
    "x_train= y_train = x_test= y_test =[]\n",
    "x= list(x)\n",
    "y= list(y)\n",
    "while len (y_test) <= 0.3 * len(y):\n",
    "    i = random.randint(0, len(y) - 1)\n",
    "    if i <= len(y):\n",
    "        if y[i] not in y_train:\n",
    "            x_test.append(x[i])\n",
    "            y_test.append(y[i])\n",
    "            # x.pop(i)\n",
    "            # y.pop(i)\n",
    "x_test = x\n",
    "y_train = y"
   ]
  },
  {
   "cell_type": "code",
   "execution_count": null,
   "metadata": {},
   "outputs": [],
   "source": [
    "data = [ [1, 2, '?', 4], \n",
    "        [5, '?', 7, 8], \n",
    "        [9, 10, 11, '?'] ]\n",
    "sum__ = []\n"
   ]
  }
 ],
 "metadata": {
  "kernelspec": {
   "display_name": "Python 3",
   "language": "python",
   "name": "python3"
  },
  "language_info": {
   "codemirror_mode": {
    "name": "ipython",
    "version": 3
   },
   "file_extension": ".py",
   "mimetype": "text/x-python",
   "name": "python",
   "nbconvert_exporter": "python",
   "pygments_lexer": "ipython3",
   "version": "3.11.9"
  }
 },
 "nbformat": 4,
 "nbformat_minor": 2
}
