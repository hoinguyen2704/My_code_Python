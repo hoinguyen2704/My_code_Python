{
 "cells": [
  {
   "cell_type": "code",
   "id": "initial_id",
   "metadata": {
    "collapsed": true,
    "ExecuteTime": {
     "end_time": "2024-10-14T05:36:34.203800Z",
     "start_time": "2024-10-14T05:36:34.025469Z"
    }
   },
   "source": "import numpy as np",
   "outputs": [],
   "execution_count": 1
  },
  {
   "metadata": {
    "ExecuteTime": {
     "end_time": "2024-10-14T05:37:48.414481Z",
     "start_time": "2024-10-14T05:37:48.404528Z"
    }
   },
   "cell_type": "code",
   "source": [
    "a= np.array([[1,4,2,4,2],[3,1,3,5,6]])\n",
    "a"
   ],
   "id": "8675133a7fb9f923",
   "outputs": [
    {
     "data": {
      "text/plain": [
       "array([[1, 4, 2, 4, 2],\n",
       "       [3, 1, 3, 5, 6]])"
      ]
     },
     "execution_count": 8,
     "metadata": {},
     "output_type": "execute_result"
    }
   ],
   "execution_count": 8
  },
  {
   "metadata": {
    "ExecuteTime": {
     "end_time": "2024-10-14T05:37:50.944204Z",
     "start_time": "2024-10-14T05:37:50.930524Z"
    }
   },
   "cell_type": "code",
   "source": [
    "print(a)\n",
    "print(type(a))"
   ],
   "id": "6ff86b227cb481f7",
   "outputs": [
    {
     "name": "stdout",
     "output_type": "stream",
     "text": [
      "[[1 4 2 4 2]\n",
      " [3 1 3 5 6]]\n",
      "<class 'numpy.ndarray'>\n"
     ]
    }
   ],
   "execution_count": 9
  },
  {
   "metadata": {
    "ExecuteTime": {
     "end_time": "2024-10-14T05:37:53.276745Z",
     "start_time": "2024-10-14T05:37:53.271177Z"
    }
   },
   "cell_type": "code",
   "source": "print(a.shape)",
   "id": "cd4cab9b0c70ebc4",
   "outputs": [
    {
     "name": "stdout",
     "output_type": "stream",
     "text": [
      "(2, 5)\n"
     ]
    }
   ],
   "execution_count": 10
  },
  {
   "metadata": {
    "ExecuteTime": {
     "end_time": "2024-10-14T05:38:10.330637Z",
     "start_time": "2024-10-14T05:38:10.324880Z"
    }
   },
   "cell_type": "code",
   "source": "print(a[0,2])",
   "id": "cb4de17be82249a3",
   "outputs": [
    {
     "name": "stdout",
     "output_type": "stream",
     "text": [
      "2\n"
     ]
    }
   ],
   "execution_count": 11
  },
  {
   "metadata": {},
   "cell_type": "code",
   "outputs": [],
   "execution_count": null,
   "source": "",
   "id": "a673a717bbefdf52"
  },
  {
   "metadata": {},
   "cell_type": "markdown",
   "source": "TẠO MẢNG NGẪU NHIÊN",
   "id": "cbdfb2254ac56379"
  },
  {
   "metadata": {
    "ExecuteTime": {
     "end_time": "2024-10-14T05:38:36.002991Z",
     "start_time": "2024-10-14T05:38:35.998439Z"
    }
   },
   "cell_type": "code",
   "source": "import random",
   "id": "29bec62d4c3afdbf",
   "outputs": [],
   "execution_count": 12
  },
  {
   "metadata": {
    "ExecuteTime": {
     "end_time": "2024-10-14T05:40:58.954612Z",
     "start_time": "2024-10-14T05:40:58.945069Z"
    }
   },
   "cell_type": "code",
   "source": "np.random.random((2,4))",
   "id": "bd9b80babea50e2d",
   "outputs": [
    {
     "data": {
      "text/plain": [
       "array([[0.3274663 , 0.65960926, 0.92872907, 0.34780749],\n",
       "       [0.52397884, 0.71707062, 0.07081214, 0.00523252]])"
      ]
     },
     "execution_count": 16,
     "metadata": {},
     "output_type": "execute_result"
    }
   ],
   "execution_count": 16
  },
  {
   "metadata": {
    "ExecuteTime": {
     "end_time": "2024-10-14T05:42:14.420608Z",
     "start_time": "2024-10-14T05:42:14.411880Z"
    }
   },
   "cell_type": "code",
   "source": [
    "#tạo mảng ngẫu nhiên các phần tử ko thay đổi khi chạy lại\n",
    "np.random.seed(11)\n",
    "print(np.random.random((2,4)))"
   ],
   "id": "f7abc4511e65f0b5",
   "outputs": [
    {
     "name": "stdout",
     "output_type": "stream",
     "text": [
      "[[0.18026969 0.01947524 0.46321853 0.72493393]\n",
      " [0.4202036  0.4854271  0.01278081 0.48737161]]\n"
     ]
    }
   ],
   "execution_count": 22
  },
  {
   "metadata": {},
   "cell_type": "markdown",
   "source": "MẢNG 3 chiều",
   "id": "3b473c5c09db91fd"
  },
  {
   "metadata": {
    "ExecuteTime": {
     "end_time": "2024-10-14T06:52:08.664116Z",
     "start_time": "2024-10-14T06:52:08.658199Z"
    }
   },
   "cell_type": "code",
   "source": [
    "e = np.array([1,4,2,4,34,55,210,56,32,4,3,1,4,5,12])\n",
    "print(len(e))\n",
    "print(e.reshape((5,-1)))"
   ],
   "id": "872dc5dcbca954e9",
   "outputs": [
    {
     "name": "stdout",
     "output_type": "stream",
     "text": [
      "15\n",
      "[[  1   4   2]\n",
      " [  4  34  55]\n",
      " [210  56  32]\n",
      " [  4   3   1]\n",
      " [  4   5  12]]\n"
     ]
    }
   ],
   "execution_count": 125
  },
  {
   "metadata": {
    "ExecuteTime": {
     "end_time": "2024-10-14T05:57:07.522299Z",
     "start_time": "2024-10-14T05:57:07.512496Z"
    }
   },
   "cell_type": "code",
   "source": [
    "print(a)\n",
    "print()\n",
    "print(a.reshape(a.shape[0]*a.shape[1]))"
   ],
   "id": "31311ce3f1ec3001",
   "outputs": [
    {
     "name": "stdout",
     "output_type": "stream",
     "text": [
      "[[1 4 2 4 2]\n",
      " [3 1 3 5 6]]\n",
      "\n",
      "[1 4 2 4 2 3 1 3 5 6]\n"
     ]
    }
   ],
   "execution_count": 52
  },
  {
   "metadata": {
    "ExecuteTime": {
     "end_time": "2024-10-14T06:02:12.940916Z",
     "start_time": "2024-10-14T06:02:12.933682Z"
    }
   },
   "cell_type": "code",
   "source": [
    "f = np.arange(7)\n",
    "print(f\"{f}\\n\")\n",
    "print(f\"{type(f)}\\n\")"
   ],
   "id": "d1101b91e2efe7c0",
   "outputs": [
    {
     "name": "stdout",
     "output_type": "stream",
     "text": [
      "[0 1 2 3 4 5 6]\n",
      "\n",
      "<class 'numpy.ndarray'>\n",
      "\n"
     ]
    }
   ],
   "execution_count": 57
  },
  {
   "metadata": {},
   "cell_type": "markdown",
   "source": "SO SÁNH",
   "id": "5317c36c80c4b146"
  },
  {
   "metadata": {
    "ExecuteTime": {
     "end_time": "2024-10-14T06:52:16.907054Z",
     "start_time": "2024-10-14T06:52:16.902250Z"
    }
   },
   "cell_type": "code",
   "source": [
    "print(e)\n",
    "e= e.reshape(3,-1)"
   ],
   "id": "5b1023b92664e1ff",
   "outputs": [
    {
     "name": "stdout",
     "output_type": "stream",
     "text": [
      "[  1   4   2   4  34  55 210  56  32   4   3   1   4   5  12]\n"
     ]
    }
   ],
   "execution_count": 127
  },
  {
   "metadata": {
    "ExecuteTime": {
     "end_time": "2024-10-14T06:53:47.311985Z",
     "start_time": "2024-10-14T06:53:47.305212Z"
    }
   },
   "cell_type": "code",
   "source": [
    "print(e)\n",
    "print(e.shape)\n",
    "e_2 = np.array([[1,40,2,4,2],[3,1,3,5,6],[2,3,4,5,2]])\n",
    "print(e_2)\n",
    "print(e_2.shape)"
   ],
   "id": "f6386b489c02278d",
   "outputs": [
    {
     "name": "stdout",
     "output_type": "stream",
     "text": [
      "[[  1   4   2   4  34]\n",
      " [ 55 210  56  32   4]\n",
      " [  3   1   4   5  12]]\n",
      "(3, 5)\n",
      "[[ 1 40  2  4  2]\n",
      " [ 3  1  3  5  6]\n",
      " [ 2  3  4  5  2]]\n",
      "(3, 5)\n"
     ]
    }
   ],
   "execution_count": 133
  },
  {
   "metadata": {},
   "cell_type": "markdown",
   "source": "lọc các phần tử thỏa mãn 1 điều kiện nào đó",
   "id": "65a57f46ddcfcf44"
  },
  {
   "metadata": {
    "ExecuteTime": {
     "end_time": "2024-10-14T06:35:04.297880Z",
     "start_time": "2024-10-14T06:35:04.292173Z"
    }
   },
   "cell_type": "code",
   "source": [
    "e_af = e>5\n",
    "print(e_af)"
   ],
   "id": "8f2593d6864485b",
   "outputs": [
    {
     "name": "stdout",
     "output_type": "stream",
     "text": [
      "[[False False False False  True]\n",
      " [ True  True  True  True False]\n",
      " [False False False False  True]]\n"
     ]
    }
   ],
   "execution_count": 89
  },
  {
   "metadata": {
    "ExecuteTime": {
     "end_time": "2024-10-14T06:35:09.511755Z",
     "start_time": "2024-10-14T06:35:09.504285Z"
    }
   },
   "cell_type": "code",
   "source": "e[e>5]",
   "id": "fcf80dced5971ea0",
   "outputs": [
    {
     "data": {
      "text/plain": [
       "array([ 34,  55, 210,  56,  32,  12])"
      ]
     },
     "execution_count": 90,
     "metadata": {},
     "output_type": "execute_result"
    }
   ],
   "execution_count": 90
  },
  {
   "metadata": {
    "ExecuteTime": {
     "end_time": "2024-10-14T06:35:26.924856Z",
     "start_time": "2024-10-14T06:35:26.920637Z"
    }
   },
   "cell_type": "code",
   "source": "print(type(e_af))",
   "id": "f17eec85a64164be",
   "outputs": [
    {
     "name": "stdout",
     "output_type": "stream",
     "text": [
      "<class 'numpy.ndarray'>\n"
     ]
    }
   ],
   "execution_count": 91
  },
  {
   "metadata": {},
   "cell_type": "markdown",
   "source": "dtype",
   "id": "4f846d9c47ef4d27"
  },
  {
   "metadata": {
    "ExecuteTime": {
     "end_time": "2024-10-14T06:35:33.877012Z",
     "start_time": "2024-10-14T06:35:33.869149Z"
    }
   },
   "cell_type": "code",
   "source": [
    "print(e)\n",
    "\n",
    "e.dtype"
   ],
   "id": "73a708549581b1d",
   "outputs": [
    {
     "name": "stdout",
     "output_type": "stream",
     "text": [
      "[[  1   4   2   4  34]\n",
      " [ 55 210  56  32   4]\n",
      " [  3   1   4   5  12]]\n"
     ]
    },
    {
     "data": {
      "text/plain": [
       "dtype('int32')"
      ]
     },
     "execution_count": 92,
     "metadata": {},
     "output_type": "execute_result"
    }
   ],
   "execution_count": 92
  },
  {
   "metadata": {
    "ExecuteTime": {
     "end_time": "2024-10-14T06:51:02.824316Z",
     "start_time": "2024-10-14T06:51:02.817750Z"
    }
   },
   "cell_type": "code",
   "source": "e.reshape(-1,5)",
   "id": "7d4beb2f1cf73ec9",
   "outputs": [
    {
     "data": {
      "text/plain": [
       "array([[  1,   4,   2,   4,  34],\n",
       "       [ 55, 210,  56,  32,   4],\n",
       "       [  3,   1,   4,   5,  12]])"
      ]
     },
     "execution_count": 121,
     "metadata": {},
     "output_type": "execute_result"
    }
   ],
   "execution_count": 121
  },
  {
   "metadata": {
    "ExecuteTime": {
     "end_time": "2024-10-14T06:51:35.251751Z",
     "start_time": "2024-10-14T06:51:35.245636Z"
    }
   },
   "cell_type": "code",
   "source": [
    "e.reshape((5,-1))\n",
    "print(e)"
   ],
   "id": "c61a8be41d7f1ce4",
   "outputs": [
    {
     "name": "stdout",
     "output_type": "stream",
     "text": [
      "[[  1   4   2]\n",
      " [  4  34  55]\n",
      " [210  56  32]\n",
      " [  4   3   1]\n",
      " [  4   5  12]]\n"
     ]
    }
   ],
   "execution_count": 123
  },
  {
   "metadata": {
    "ExecuteTime": {
     "end_time": "2024-10-14T07:06:36.375962Z",
     "start_time": "2024-10-14T07:06:36.370449Z"
    }
   },
   "cell_type": "code",
   "source": [
    "print(e)\n",
    "print(e_2)\n",
    "print(e*e_2)\n",
    "# e_2= np.append(e_2,[1,4,2,4,2])\n",
    "# e_2 =e_2.reshape((-11, 5))\n",
    "# print(e_2)"
   ],
   "id": "32bf06caf931fef3",
   "outputs": [
    {
     "name": "stdout",
     "output_type": "stream",
     "text": [
      "[[  1   4   2   4  34]\n",
      " [ 55 210  56  32   4]\n",
      " [  3   1   4   5  12]]\n",
      "[[ 1 40  2  4  2]\n",
      " [ 3  1  3  5  6]\n",
      " [ 2  3  4  5  2]]\n",
      "[[  1 160   4  16  68]\n",
      " [165 210 168 160  24]\n",
      " [  6   3  16  25  24]]\n"
     ]
    }
   ],
   "execution_count": 144
  },
  {
   "metadata": {
    "ExecuteTime": {
     "end_time": "2024-10-14T07:09:21.651801Z",
     "start_time": "2024-10-14T07:09:21.647436Z"
    }
   },
   "cell_type": "code",
   "source": [
    "e = e.reshape(1, -1)\n",
    "e = np.append(e, [13])\n"
   ],
   "id": "849692516c200014",
   "outputs": [],
   "execution_count": 150
  },
  {
   "metadata": {
    "ExecuteTime": {
     "end_time": "2024-10-14T07:09:47.656989Z",
     "start_time": "2024-10-14T07:09:47.649957Z"
    }
   },
   "cell_type": "code",
   "source": [
    "e = np.delete(e, -1)\n",
    "print(e)\n",
    "print(len(e))"
   ],
   "id": "b0893553139db78",
   "outputs": [
    {
     "name": "stdout",
     "output_type": "stream",
     "text": [
      "[  1   4   2   4  34  55 210  56  32   4   3   1   4   5  12  13]\n",
      "16\n"
     ]
    }
   ],
   "execution_count": 152
  },
  {
   "metadata": {
    "ExecuteTime": {
     "end_time": "2024-10-14T07:10:02.059854Z",
     "start_time": "2024-10-14T07:10:02.055822Z"
    }
   },
   "cell_type": "code",
   "source": "e = e.reshape(4, -1)",
   "id": "bc7cf7a0971db127",
   "outputs": [],
   "execution_count": 153
  },
  {
   "metadata": {
    "ExecuteTime": {
     "end_time": "2024-10-14T07:10:31.263704Z",
     "start_time": "2024-10-14T07:10:31.234979Z"
    }
   },
   "cell_type": "code",
   "source": "np.linalg.inv(e)",
   "id": "627fc9aa3146cdee",
   "outputs": [
    {
     "data": {
      "text/plain": [
       "array([[-0.03573322, -0.00079808,  0.03171549,  0.01199307],\n",
       "       [ 0.35405244,  0.00377722,  0.00057943, -0.12525487],\n",
       "       [-0.07105101,  0.00560296, -0.00348203, -0.00200613],\n",
       "       [-0.05959364, -0.00637918, -0.00676728,  0.12325967]])"
      ]
     },
     "execution_count": 155,
     "metadata": {},
     "output_type": "execute_result"
    }
   ],
   "execution_count": 155
  },
  {
   "metadata": {
    "ExecuteTime": {
     "end_time": "2024-10-14T07:11:55.721662Z",
     "start_time": "2024-10-14T07:11:55.714146Z"
    }
   },
   "cell_type": "code",
   "source": [
    "print(e)\n",
    "e[0] = [1,2,3,10]\n",
    "print(e[0])"
   ],
   "id": "916961c2d018793e",
   "outputs": [
    {
     "name": "stdout",
     "output_type": "stream",
     "text": [
      "[[  1   2   3   5]\n",
      " [ 34  55 210  56]\n",
      " [ 32   4   3   1]\n",
      " [  4   5  12  13]]\n",
      "[ 1  2  3 10]\n"
     ]
    }
   ],
   "execution_count": 161
  },
  {
   "metadata": {
    "ExecuteTime": {
     "end_time": "2024-10-14T07:11:57.470732Z",
     "start_time": "2024-10-14T07:11:57.463018Z"
    }
   },
   "cell_type": "code",
   "source": "print(e)",
   "id": "7dfb9a045fac09cd",
   "outputs": [
    {
     "name": "stdout",
     "output_type": "stream",
     "text": [
      "[[  1   2   3  10]\n",
      " [ 34  55 210  56]\n",
      " [ 32   4   3   1]\n",
      " [  4   5  12  13]]\n"
     ]
    }
   ],
   "execution_count": 162
  },
  {
   "metadata": {},
   "cell_type": "code",
   "outputs": [],
   "execution_count": null,
   "source": "",
   "id": "de3c6c4f2de79e34"
  },
  {
   "metadata": {},
   "cell_type": "markdown",
   "source": "LẤY TỔNG MIN MAX",
   "id": "99b3e10dac84fae"
  },
  {
   "metadata": {
    "ExecuteTime": {
     "end_time": "2024-10-14T07:12:59.844815Z",
     "start_time": "2024-10-14T07:12:59.839020Z"
    }
   },
   "cell_type": "code",
   "source": "print(e)",
   "id": "49e361465fa3f8a",
   "outputs": [
    {
     "name": "stdout",
     "output_type": "stream",
     "text": [
      "[[  1   2   3  10]\n",
      " [ 34  55 210  56]\n",
      " [ 32   4   3   1]\n",
      " [  4   5  12  13]]\n"
     ]
    }
   ],
   "execution_count": 163
  },
  {
   "metadata": {
    "ExecuteTime": {
     "end_time": "2024-10-14T07:24:20.654367Z",
     "start_time": "2024-10-14T07:24:20.644852Z"
    }
   },
   "cell_type": "code",
   "source": [
    "print(e.sum())\n",
    "print(e.max())\n",
    "print(e.min())\n",
    "print(e)"
   ],
   "id": "637fa581afbffc5",
   "outputs": [
    {
     "name": "stdout",
     "output_type": "stream",
     "text": [
      "445\n",
      "210\n",
      "1\n",
      "[[  1   2   3  10]\n",
      " [ 34  55  56 210]\n",
      " [  1   3   4  32]\n",
      " [  4   5  12  13]]\n"
     ]
    }
   ],
   "execution_count": 168
  },
  {
   "metadata": {},
   "cell_type": "markdown",
   "source": "nhân ma trận -> a.dot(b)",
   "id": "142c9b8c2f196736"
  },
  {
   "metadata": {
    "ExecuteTime": {
     "end_time": "2024-10-14T07:45:12.512901Z",
     "start_time": "2024-10-14T07:45:12.506886Z"
    }
   },
   "cell_type": "code",
   "source": [
    "a = np.array([[1,3,2,4],\n",
    "              [3,1,3,5]])\n",
    "b = np.array([[3,5],\n",
    "              [10,5],\n",
    "              [3,6],\n",
    "              [7,5]])\n",
    "print(a.dot(b))\n"
   ],
   "id": "6a6ecc87cd906028",
   "outputs": [
    {
     "name": "stdout",
     "output_type": "stream",
     "text": [
      "[[67 52]\n",
      " [63 63]]\n"
     ]
    }
   ],
   "execution_count": 170
  },
  {
   "metadata": {},
   "cell_type": "markdown",
   "source": "MATPLOTLIB->PYPLOT",
   "id": "33e76861f68bab4d"
  },
  {
   "metadata": {
    "ExecuteTime": {
     "end_time": "2024-10-14T08:30:36.713245Z",
     "start_time": "2024-10-14T08:30:36.705792Z"
    }
   },
   "cell_type": "code",
   "source": [
    "import matplotlib.pyplot as plt\n",
    "import numpy as np\n",
    "import math"
   ],
   "id": "8246f049c19853f7",
   "outputs": [],
   "execution_count": 192
  },
  {
   "metadata": {
    "ExecuteTime": {
     "end_time": "2024-10-14T08:59:59.583670Z",
     "start_time": "2024-10-14T08:59:59.576841Z"
    }
   },
   "cell_type": "code",
   "source": [
    "X =np.arange(0,2*math.pi+1, math.pi/15)\n",
    "y= np.sin(X)\n",
    "y_cos = np.cos(X)"
   ],
   "id": "a7c566c3f94f12e8",
   "outputs": [],
   "execution_count": 215
  },
  {
   "metadata": {
    "ExecuteTime": {
     "end_time": "2024-10-14T09:08:01.127621Z",
     "start_time": "2024-10-14T09:08:00.933799Z"
    }
   },
   "cell_type": "code",
   "source": [
    "plt.plot(X, y, color =\"green\")\n",
    "plt.plot(X, y_cos, color =\"red\")\n",
    "plt.title(\"this is sin(x)\")\n",
    "plt.xlabel(\"x value\")\n",
    "plt.ylabel(\"y= sin(x)\")\n",
    "plt.show()\n",
    "#giải giá trị của cần vẽ, hàm giá trị"
   ],
   "id": "a88708eaac63965d",
   "outputs": [
    {
     "data": {
      "text/plain": [
       "<Figure size 640x480 with 1 Axes>"
      ],
      "image/png": "[encoded data removed]"
     },
     "metadata": {},
     "output_type": "display_data"
    }
   ],
   "execution_count": 238
  },
  {
   "metadata": {},
   "cell_type": "markdown",
   "source": "Vẽ nhiều đồ thị",
   "id": "deafe96af59df47f"
  },
  {
   "metadata": {
    "ExecuteTime": {
     "end_time": "2024-10-14T09:41:33.240150Z",
     "start_time": "2024-10-14T09:41:32.944558Z"
    }
   },
   "cell_type": "code",
   "source": [
    "plt.subplot(1,2,2) # màn hình 1 dòng và 2 cột, vẽ đồ thị ở cột số 2\n",
    "plt.plot(X, y, color =\"red\")\n",
    "plt.title(\"this is sin x\")\n",
    "plt.xlabel(\"x value\")\n",
    "plt.ylabel(\"y = sin x\")\n",
    "\n",
    "plt.subplot(1,2,1)\n",
    "plt.title(\"this is cos x\")\n",
    "plt.xlabel(\"x value\")\n",
    "plt.ylabel(\"y= cos x\")\n",
    "plt.plot(X, y_cos, color =\"green\")\n",
    "plt.show()"
   ],
   "id": "d20899d71a32b2ec",
   "outputs": [
    {
     "data": {
      "text/plain": [
       "<Figure size 640x480 with 2 Axes>"
      ],
      "image/png": "[encoded data removed]"
     },
     "metadata": {},
     "output_type": "display_data"
    }
   ],
   "execution_count": 245
  },
  {
   "metadata": {},
   "cell_type": "markdown",
   "source": "BAR",
   "id": "a0fed1144642979c"
  },
  {
   "metadata": {
    "ExecuteTime": {
     "end_time": "2024-10-14T10:38:32.590668Z",
     "start_time": "2024-10-14T10:38:32.425049Z"
    }
   },
   "cell_type": "code",
   "source": [
    "list_name =[\"hội\", \"toàn\", \"Thảo\", \"hằng\", \"Quân\"]\n",
    "list_value = [1,10,3,3,5]\n",
    "list_canNang =[1.5, 1.68, 1.70, 1.4, 1.5]\n",
    "plt.bar(list_name, list_value)\n",
    "plt.bar(list_name, list_canNang)\n",
    "plt.title(\"phiếu điểm\")\n",
    "plt.xlabel(\"tên thành viên\")\n",
    "plt.ylabel(\"điểm\")\n",
    "plt.legend([\"màu\", \"cân nặng\"])\n",
    "plt.show()\n",
    "#list label tiêu đề, list giá trị cần vẽ"
   ],
   "id": "c64a2b9d0d334021",
   "outputs": [
    {
     "data": {
      "text/plain": [
       "<Figure size 640x480 with 1 Axes>"
      ],
      "image/png": "[encoded data removed]"
     },
     "metadata": {},
     "output_type": "display_data"
    }
   ],
   "execution_count": 261
  },
  {
   "metadata": {},
   "cell_type": "markdown",
   "source": "PANDAS - SEABORN",
   "id": "874c528612bd9bab"
  },
  {
   "metadata": {
    "ExecuteTime": {
     "end_time": "2024-10-14T10:38:20.076140Z",
     "start_time": "2024-10-14T10:38:20.068633Z"
    }
   },
   "cell_type": "code",
   "source": [
    "import pandas as pd\n",
    "import matplotlib.pyplot as plt\n",
    "%matplotlib inline"
   ],
   "id": "5b263cef4307cbb4",
   "outputs": [],
   "execution_count": 259
  },
  {
   "metadata": {
    "ExecuteTime": {
     "end_time": "2024-10-14T12:06:14.956252Z",
     "start_time": "2024-10-14T12:06:14.949385Z"
    }
   },
   "cell_type": "code",
   "source": [
    "path = \"../TTNT/Dulieu_1.csv\"\n",
    "df = pd.read_csv(path)"
   ],
   "id": "af41aa66d799a3c4",
   "outputs": [],
   "execution_count": 290
  },
  {
   "metadata": {
    "ExecuteTime": {
     "end_time": "2024-10-14T12:06:16.472927Z",
     "start_time": "2024-10-14T12:06:16.449839Z"
    }
   },
   "cell_type": "code",
   "source": "df.head(-1)",
   "id": "c6e7b6b6c472c41",
   "outputs": [
    {
     "data": {
      "text/plain": [
       "      A    B    C    D            CLASS\n",
       "0   7.0  3.2  4.7  1.4  Iris-versicolor\n",
       "1   6.4  3.2  4.5  1.5  Iris-versicolor\n",
       "2   6.9  3.1  4.9  1.5  Iris-versicolor\n",
       "3   5.5  2.3  4.0  1.3  Iris-versicolor\n",
       "4   6.5  2.8  4.6  1.5  Iris-versicolor\n",
       "5   5.7  2.8  4.5  1.3  Iris-versicolor\n",
       "6   6.3  3.3  4.7  1.6  Iris-versicolor\n",
       "7   4.9  2.4  3.3  1.0  Iris-versicolor\n",
       "8   6.6  2.9  4.6  1.3  Iris-versicolor\n",
       "9   5.2  2.7  3.9  1.4  Iris-versicolor\n",
       "10  6.3  3.3  6.0  2.5   Iris-virginica\n",
       "11  5.8  2.7  5.1  1.9   Iris-virginica\n",
       "12  7.1  3.0  5.9  2.1   Iris-virginica\n",
       "13  6.3  2.9  5.6  1.8   Iris-virginica\n",
       "14  6.5  3.0  5.8  2.2   Iris-virginica\n",
       "15  7.6  3.0  6.6  2.1   Iris-virginica\n",
       "16  4.9  2.5  4.5  1.7   Iris-virginica\n",
       "17  7.3  2.9  6.3  1.8   Iris-virginica\n",
       "18  6.7  2.5  5.8  1.8   Iris-virginica"
      ],
      "text/html": [
       "<div>\n",
       "<style scoped>\n",
       "    .dataframe tbody tr th:only-of-type {\n",
       "        vertical-align: middle;\n",
       "    }\n",
       "\n",
       "    .dataframe tbody tr th {\n",
       "        vertical-align: top;\n",
       "    }\n",
       "\n",
       "    .dataframe thead th {\n",
       "        text-align: right;\n",
       "    }\n",
       "</style>\n",
       "<table border=\"1\" class=\"dataframe\">\n",
       "  <thead>\n",
       "    <tr style=\"text-align: right;\">\n",
       "      <th></th>\n",
       "      <th>A</th>\n",
       "      <th>B</th>\n",
       "      <th>C</th>\n",
       "      <th>D</th>\n",
       "      <th>CLASS</th>\n",
       "    </tr>\n",
       "  </thead>\n",
       "  <tbody>\n",
       "    <tr>\n",
       "      <th>0</th>\n",
       "      <td>7.0</td>\n",
       "      <td>3.2</td>\n",
       "      <td>4.7</td>\n",
       "      <td>1.4</td>\n",
       "      <td>Iris-versicolor</td>\n",
       "    </tr>\n",
       "    <tr>\n",
       "      <th>1</th>\n",
       "      <td>6.4</td>\n",
       "      <td>3.2</td>\n",
       "      <td>4.5</td>\n",
       "      <td>1.5</td>\n",
       "      <td>Iris-versicolor</td>\n",
       "    </tr>\n",
       "    <tr>\n",
       "      <th>2</th>\n",
       "      <td>6.9</td>\n",
       "      <td>3.1</td>\n",
       "      <td>4.9</td>\n",
       "      <td>1.5</td>\n",
       "      <td>Iris-versicolor</td>\n",
       "    </tr>\n",
       "    <tr>\n",
       "      <th>3</th>\n",
       "      <td>5.5</td>\n",
       "      <td>2.3</td>\n",
       "      <td>4.0</td>\n",
       "      <td>1.3</td>\n",
       "      <td>Iris-versicolor</td>\n",
       "    </tr>\n",
       "    <tr>\n",
       "      <th>4</th>\n",
       "      <td>6.5</td>\n",
       "      <td>2.8</td>\n",
       "      <td>4.6</td>\n",
       "      <td>1.5</td>\n",
       "      <td>Iris-versicolor</td>\n",
       "    </tr>\n",
       "    <tr>\n",
       "      <th>5</th>\n",
       "      <td>5.7</td>\n",
       "      <td>2.8</td>\n",
       "      <td>4.5</td>\n",
       "      <td>1.3</td>\n",
       "      <td>Iris-versicolor</td>\n",
       "    </tr>\n",
       "    <tr>\n",
       "      <th>6</th>\n",
       "      <td>6.3</td>\n",
       "      <td>3.3</td>\n",
       "      <td>4.7</td>\n",
       "      <td>1.6</td>\n",
       "      <td>Iris-versicolor</td>\n",
       "    </tr>\n",
       "    <tr>\n",
       "      <th>7</th>\n",
       "      <td>4.9</td>\n",
       "      <td>2.4</td>\n",
       "      <td>3.3</td>\n",
       "      <td>1.0</td>\n",
       "      <td>Iris-versicolor</td>\n",
       "    </tr>\n",
       "    <tr>\n",
       "      <th>8</th>\n",
       "      <td>6.6</td>\n",
       "      <td>2.9</td>\n",
       "      <td>4.6</td>\n",
       "      <td>1.3</td>\n",
       "      <td>Iris-versicolor</td>\n",
       "    </tr>\n",
       "    <tr>\n",
       "      <th>9</th>\n",
       "      <td>5.2</td>\n",
       "      <td>2.7</td>\n",
       "      <td>3.9</td>\n",
       "      <td>1.4</td>\n",
       "      <td>Iris-versicolor</td>\n",
       "    </tr>\n",
       "    <tr>\n",
       "      <th>10</th>\n",
       "      <td>6.3</td>\n",
       "      <td>3.3</td>\n",
       "      <td>6.0</td>\n",
       "      <td>2.5</td>\n",
       "      <td>Iris-virginica</td>\n",
       "    </tr>\n",
       "    <tr>\n",
       "      <th>11</th>\n",
       "      <td>5.8</td>\n",
       "      <td>2.7</td>\n",
       "      <td>5.1</td>\n",
       "      <td>1.9</td>\n",
       "      <td>Iris-virginica</td>\n",
       "    </tr>\n",
       "    <tr>\n",
       "      <th>12</th>\n",
       "      <td>7.1</td>\n",
       "      <td>3.0</td>\n",
       "      <td>5.9</td>\n",
       "      <td>2.1</td>\n",
       "      <td>Iris-virginica</td>\n",
       "    </tr>\n",
       "    <tr>\n",
       "      <th>13</th>\n",
       "      <td>6.3</td>\n",
       "      <td>2.9</td>\n",
       "      <td>5.6</td>\n",
       "      <td>1.8</td>\n",
       "      <td>Iris-virginica</td>\n",
       "    </tr>\n",
       "    <tr>\n",
       "      <th>14</th>\n",
       "      <td>6.5</td>\n",
       "      <td>3.0</td>\n",
       "      <td>5.8</td>\n",
       "      <td>2.2</td>\n",
       "      <td>Iris-virginica</td>\n",
       "    </tr>\n",
       "    <tr>\n",
       "      <th>15</th>\n",
       "      <td>7.6</td>\n",
       "      <td>3.0</td>\n",
       "      <td>6.6</td>\n",
       "      <td>2.1</td>\n",
       "      <td>Iris-virginica</td>\n",
       "    </tr>\n",
       "    <tr>\n",
       "      <th>16</th>\n",
       "      <td>4.9</td>\n",
       "      <td>2.5</td>\n",
       "      <td>4.5</td>\n",
       "      <td>1.7</td>\n",
       "      <td>Iris-virginica</td>\n",
       "    </tr>\n",
       "    <tr>\n",
       "      <th>17</th>\n",
       "      <td>7.3</td>\n",
       "      <td>2.9</td>\n",
       "      <td>6.3</td>\n",
       "      <td>1.8</td>\n",
       "      <td>Iris-virginica</td>\n",
       "    </tr>\n",
       "    <tr>\n",
       "      <th>18</th>\n",
       "      <td>6.7</td>\n",
       "      <td>2.5</td>\n",
       "      <td>5.8</td>\n",
       "      <td>1.8</td>\n",
       "      <td>Iris-virginica</td>\n",
       "    </tr>\n",
       "  </tbody>\n",
       "</table>\n",
       "</div>"
      ]
     },
     "execution_count": 291,
     "metadata": {},
     "output_type": "execute_result"
    }
   ],
   "execution_count": 291
  },
  {
   "metadata": {
    "jupyter": {
     "is_executing": true
    }
   },
   "cell_type": "code",
   "source": "print(df[:-1].drop(columns=\"CLASS\"))",
   "id": "4aef4653cc798950",
   "outputs": [],
   "execution_count": null
  },
  {
   "metadata": {},
   "cell_type": "code",
   "outputs": [],
   "execution_count": null,
   "source": "",
   "id": "8b97c42bb7cd7794"
  }
 ],
 "metadata": {
  "kernelspec": {
   "display_name": "Python 3",
   "language": "python",
   "name": "python3"
  },
  "language_info": {
   "codemirror_mode": {
    "name": "ipython",
    "version": 2
   },
   "file_extension": ".py",
   "mimetype": "text/x-python",
   "name": "python",
   "nbconvert_exporter": "python",
   "pygments_lexer": "ipython2",
   "version": "2.7.6"
  }
 },
 "nbformat": 4,
 "nbformat_minor": 5
}
